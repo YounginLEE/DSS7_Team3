{
 "cells": [
  {
   "cell_type": "code",
   "execution_count": 1,
   "metadata": {
    "collapsed": true
   },
   "outputs": [],
   "source": [
    "import matplotlib.pyplot as plt\n",
    "import seaborn as sns\n",
    "sns.set()\n",
    "\n",
    "%matplotlib inline\n",
    "%config InlineBackend.figure_formats = {'png', 'retina'}\n",
    "\n",
    "from matplotlib import font_manager, rc\n",
    "plt.rcParams['axes.unicode_minus'] = False\n",
    "\n",
    "import platform\n",
    "if platform.system() == 'Darwin':\n",
    "    rc('font', family='AppleGothic')\n",
    "elif platform.system() == 'Windows':\n",
    "    path = \"c:/Windows/Fonts/malgun.ttf\"\n",
    "    font_name = font_manager.FontProperties(fname=path).get_name()\n",
    "    rc('font', family=font_name)"
   ]
  },
  {
   "cell_type": "code",
   "execution_count": 2,
   "metadata": {
    "collapsed": true
   },
   "outputs": [],
   "source": [
    "train = pd.read_csv(\"train.csv\")\n",
    "test = pd.read_csv(\"test.csv\")"
   ]
  },
  {
   "cell_type": "markdown",
   "metadata": {},
   "source": [
    "# 1. Structure of Data Sets"
   ]
  },
  {
   "cell_type": "code",
   "execution_count": 3,
   "metadata": {},
   "outputs": [
    {
     "name": "stdout",
     "output_type": "stream",
     "text": [
      "(647054, 7)\n"
     ]
    },
    {
     "data": {
      "text/html": [
       "<div>\n",
       "<style>\n",
       "    .dataframe thead tr:only-child th {\n",
       "        text-align: right;\n",
       "    }\n",
       "\n",
       "    .dataframe thead th {\n",
       "        text-align: left;\n",
       "    }\n",
       "\n",
       "    .dataframe tbody tr th {\n",
       "        vertical-align: top;\n",
       "    }\n",
       "</style>\n",
       "<table border=\"1\" class=\"dataframe\">\n",
       "  <thead>\n",
       "    <tr style=\"text-align: right;\">\n",
       "      <th></th>\n",
       "      <th>TripType</th>\n",
       "      <th>VisitNumber</th>\n",
       "      <th>Weekday</th>\n",
       "      <th>Upc</th>\n",
       "      <th>ScanCount</th>\n",
       "      <th>DepartmentDescription</th>\n",
       "      <th>FinelineNumber</th>\n",
       "    </tr>\n",
       "  </thead>\n",
       "  <tbody>\n",
       "    <tr>\n",
       "      <th>647049</th>\n",
       "      <td>39</td>\n",
       "      <td>191346</td>\n",
       "      <td>Sunday</td>\n",
       "      <td>3.239000e+10</td>\n",
       "      <td>1</td>\n",
       "      <td>PHARMACY OTC</td>\n",
       "      <td>1118.0</td>\n",
       "    </tr>\n",
       "    <tr>\n",
       "      <th>647050</th>\n",
       "      <td>39</td>\n",
       "      <td>191346</td>\n",
       "      <td>Sunday</td>\n",
       "      <td>7.874205e+09</td>\n",
       "      <td>1</td>\n",
       "      <td>FROZEN FOODS</td>\n",
       "      <td>1752.0</td>\n",
       "    </tr>\n",
       "    <tr>\n",
       "      <th>647051</th>\n",
       "      <td>39</td>\n",
       "      <td>191346</td>\n",
       "      <td>Sunday</td>\n",
       "      <td>4.072000e+03</td>\n",
       "      <td>1</td>\n",
       "      <td>PRODUCE</td>\n",
       "      <td>4170.0</td>\n",
       "    </tr>\n",
       "    <tr>\n",
       "      <th>647052</th>\n",
       "      <td>8</td>\n",
       "      <td>191347</td>\n",
       "      <td>Sunday</td>\n",
       "      <td>4.190008e+09</td>\n",
       "      <td>1</td>\n",
       "      <td>DAIRY</td>\n",
       "      <td>1512.0</td>\n",
       "    </tr>\n",
       "    <tr>\n",
       "      <th>647053</th>\n",
       "      <td>8</td>\n",
       "      <td>191347</td>\n",
       "      <td>Sunday</td>\n",
       "      <td>3.800060e+09</td>\n",
       "      <td>1</td>\n",
       "      <td>GROCERY DRY GOODS</td>\n",
       "      <td>3600.0</td>\n",
       "    </tr>\n",
       "  </tbody>\n",
       "</table>\n",
       "</div>"
      ],
      "text/plain": [
       "        TripType  VisitNumber Weekday           Upc  ScanCount  \\\n",
       "647049        39       191346  Sunday  3.239000e+10          1   \n",
       "647050        39       191346  Sunday  7.874205e+09          1   \n",
       "647051        39       191346  Sunday  4.072000e+03          1   \n",
       "647052         8       191347  Sunday  4.190008e+09          1   \n",
       "647053         8       191347  Sunday  3.800060e+09          1   \n",
       "\n",
       "       DepartmentDescription  FinelineNumber  \n",
       "647049          PHARMACY OTC          1118.0  \n",
       "647050          FROZEN FOODS          1752.0  \n",
       "647051               PRODUCE          4170.0  \n",
       "647052                 DAIRY          1512.0  \n",
       "647053     GROCERY DRY GOODS          3600.0  "
      ]
     },
     "execution_count": 3,
     "metadata": {},
     "output_type": "execute_result"
    }
   ],
   "source": [
    "print(train.shape)\n",
    "train.tail()"
   ]
  },
  {
   "cell_type": "code",
   "execution_count": 4,
   "metadata": {},
   "outputs": [
    {
     "name": "stdout",
     "output_type": "stream",
     "text": [
      "<class 'pandas.core.frame.DataFrame'>\n",
      "RangeIndex: 647054 entries, 0 to 647053\n",
      "Data columns (total 7 columns):\n",
      "TripType                 647054 non-null int64\n",
      "VisitNumber              647054 non-null int64\n",
      "Weekday                  647054 non-null object\n",
      "Upc                      642925 non-null float64\n",
      "ScanCount                647054 non-null int64\n",
      "DepartmentDescription    645693 non-null object\n",
      "FinelineNumber           642925 non-null float64\n",
      "dtypes: float64(2), int64(3), object(2)\n",
      "memory usage: 34.6+ MB\n"
     ]
    }
   ],
   "source": [
    "train.info()"
   ]
  },
  {
   "cell_type": "code",
   "execution_count": 5,
   "metadata": {},
   "outputs": [
    {
     "name": "stdout",
     "output_type": "stream",
     "text": [
      "(653646, 6)\n"
     ]
    },
    {
     "data": {
      "text/html": [
       "<div>\n",
       "<style>\n",
       "    .dataframe thead tr:only-child th {\n",
       "        text-align: right;\n",
       "    }\n",
       "\n",
       "    .dataframe thead th {\n",
       "        text-align: left;\n",
       "    }\n",
       "\n",
       "    .dataframe tbody tr th {\n",
       "        vertical-align: top;\n",
       "    }\n",
       "</style>\n",
       "<table border=\"1\" class=\"dataframe\">\n",
       "  <thead>\n",
       "    <tr style=\"text-align: right;\">\n",
       "      <th></th>\n",
       "      <th>VisitNumber</th>\n",
       "      <th>Weekday</th>\n",
       "      <th>Upc</th>\n",
       "      <th>ScanCount</th>\n",
       "      <th>DepartmentDescription</th>\n",
       "      <th>FinelineNumber</th>\n",
       "    </tr>\n",
       "  </thead>\n",
       "  <tbody>\n",
       "    <tr>\n",
       "      <th>653641</th>\n",
       "      <td>191348</td>\n",
       "      <td>Sunday</td>\n",
       "      <td>6.657211e+10</td>\n",
       "      <td>1</td>\n",
       "      <td>BATH AND SHOWER</td>\n",
       "      <td>1505.0</td>\n",
       "    </tr>\n",
       "    <tr>\n",
       "      <th>653642</th>\n",
       "      <td>191348</td>\n",
       "      <td>Sunday</td>\n",
       "      <td>8.818139e+10</td>\n",
       "      <td>1</td>\n",
       "      <td>BATH AND SHOWER</td>\n",
       "      <td>1099.0</td>\n",
       "    </tr>\n",
       "    <tr>\n",
       "      <th>653643</th>\n",
       "      <td>191348</td>\n",
       "      <td>Sunday</td>\n",
       "      <td>4.282557e+09</td>\n",
       "      <td>1</td>\n",
       "      <td>MENS WEAR</td>\n",
       "      <td>8220.0</td>\n",
       "    </tr>\n",
       "    <tr>\n",
       "      <th>653644</th>\n",
       "      <td>191348</td>\n",
       "      <td>Sunday</td>\n",
       "      <td>8.046919e+10</td>\n",
       "      <td>1</td>\n",
       "      <td>SWIMWEAR/OUTERWEAR</td>\n",
       "      <td>114.0</td>\n",
       "    </tr>\n",
       "    <tr>\n",
       "      <th>653645</th>\n",
       "      <td>191348</td>\n",
       "      <td>Sunday</td>\n",
       "      <td>7.871536e+09</td>\n",
       "      <td>1</td>\n",
       "      <td>MENS WEAR</td>\n",
       "      <td>4923.0</td>\n",
       "    </tr>\n",
       "  </tbody>\n",
       "</table>\n",
       "</div>"
      ],
      "text/plain": [
       "        VisitNumber Weekday           Upc  ScanCount DepartmentDescription  \\\n",
       "653641       191348  Sunday  6.657211e+10          1       BATH AND SHOWER   \n",
       "653642       191348  Sunday  8.818139e+10          1       BATH AND SHOWER   \n",
       "653643       191348  Sunday  4.282557e+09          1             MENS WEAR   \n",
       "653644       191348  Sunday  8.046919e+10          1    SWIMWEAR/OUTERWEAR   \n",
       "653645       191348  Sunday  7.871536e+09          1             MENS WEAR   \n",
       "\n",
       "        FinelineNumber  \n",
       "653641          1505.0  \n",
       "653642          1099.0  \n",
       "653643          8220.0  \n",
       "653644           114.0  \n",
       "653645          4923.0  "
      ]
     },
     "execution_count": 5,
     "metadata": {},
     "output_type": "execute_result"
    }
   ],
   "source": [
    "print(test.shape)\n",
    "test.tail()"
   ]
  },
  {
   "cell_type": "code",
   "execution_count": 6,
   "metadata": {},
   "outputs": [
    {
     "name": "stdout",
     "output_type": "stream",
     "text": [
      "<class 'pandas.core.frame.DataFrame'>\n",
      "RangeIndex: 653646 entries, 0 to 653645\n",
      "Data columns (total 6 columns):\n",
      "VisitNumber              653646 non-null int64\n",
      "Weekday                  653646 non-null object\n",
      "Upc                      649660 non-null float64\n",
      "ScanCount                653646 non-null int64\n",
      "DepartmentDescription    652318 non-null object\n",
      "FinelineNumber           649660 non-null float64\n",
      "dtypes: float64(2), int64(2), object(2)\n",
      "memory usage: 29.9+ MB\n"
     ]
    }
   ],
   "source": [
    "test.info()"
   ]
  },
  {
   "cell_type": "markdown",
   "metadata": {},
   "source": [
    "# 2. Columns"
   ]
  },
  {
   "cell_type": "markdown",
   "metadata": {},
   "source": [
    "|        Columns        | Data Type |                                                     Description                                                     | Unique value |\n",
    "|:---------------------:|:---------:|:-------------------------------------------------------------------------------------------------------------------:|:------------:|\n",
    "|        TripType       |   int64   | 우리가 예측해야할것. 손님들의 쇼핑 타입을 나타냄. 각각의 숫자가 어떤 trip type인지에 대한 설명은 없음. 999번은 기타 |      38      |\n",
    "|      VisitNumber      |   int64   | 한 사람의 손님을 나타내는 id(이에 해당하는 trip type도 하나)                                                        |     95674    |\n",
    "|        Weekday        |   object  | 요일(월 ~ 일요일)                                                                                                   |       7      |\n",
    "|          Upc          |  float64  | 구매한 물건의 UPC(Universal Product Code)                                                                           |     97715    |\n",
    "|       ScanCount       |   int64   | 해당물건을 몇개 구입했는지 나타냄. 음수는 환불했음을 의미함. -12 ~71 까지 있음. 평균은 1.1                          |      39      |\n",
    "| DepartmentDescription |   object  | 해당 물건의 상위레벨 분류. 마트의 코너 개념                                                                         |      69      |\n",
    "|     FinelineNumber    |  float64  | Walmart에서 분류한 해당 물건의 좀 더 상세한 분류                                                                    |     5196     |"
   ]
  },
  {
   "cell_type": "markdown",
   "metadata": {},
   "source": [
    "|        Columns        | Data Type |                          Description                              | Unique value |\n",
    "|:---------------------:|:---------:|:-----------------------------------------------------------------:|:------------:|\n",
    "|        TripType       |   int64   | - 우리가 예측해야할것                                             |      38      |\n",
    "|                       |           | - 손님들의 쇼핑 타입을 나타냄                                     |              |\n",
    "|                       |           | - 각각의 숫자가 어떤 trip type인지에 대한 설명은 없음             |              |\n",
    "|                       |           | - 999번은 기타                                                    |              |\n",
    "|      VisitNumber      |   int64   | - 한 사람의 손님을 나타내는 id                                    |     95674    |\n",
    "|                       |           | - 이에 해당하는 trip type도 하나                                  |              |\n",
    "|        Weekday        |   object  | - 요일(월 ~ 일요일)                                               |       7      |\n",
    "|          Upc          |  float64  | - 구매한 물건의 UPC(Universal Product Code)                       |     97715    |\n",
    "|       ScanCount       |   int64   | - 해당물건을 몇개 구입했는지 나타냄                               |      39      |\n",
    "|                       |           | - 음수는 환불했음을 의미함                                        |              |\n",
    "|                       |           | - -12 ~71 까지 있음                                               |              |\n",
    "|                       |           | - 평균은 1.1                                                      |              |\n",
    "| DepartmentDescription |   object  | - 해당 물건의 상위레벨 분류                                       |      69      |\n",
    "|                       |           | - 마트의 코너 개념                                                |              |\n",
    "|     FinelineNumber    |  float64  | - Walmart에서 분류한 해당 물건의 좀 더 상세한 분류                |     5196     |"
   ]
  },
  {
   "cell_type": "markdown",
   "metadata": {},
   "source": [
    "# 3. Feature Engineering"
   ]
  },
  {
   "cell_type": "markdown",
   "metadata": {},
   "source": [
    "### 3-1. Decoding UPCs"
   ]
  },
  {
   "cell_type": "markdown",
   "metadata": {},
   "source": [
    "- About UPC"
   ]
  },
  {
   "cell_type": "markdown",
   "metadata": {},
   "source": [
    "![Alt text](UPC_and_EAN.jpg)"
   ]
  },
  {
   "cell_type": "markdown",
   "metadata": {},
   "source": [
    "- 주어진 UPC들의 길이\n",
    "    - 1 ~ 12자리 까지 주어짐\n",
    "    - 10자리와 11자리가 제일 많음\n",
    "    - 1자리로된 UPC는 missing value로 처리함"
   ]
  },
  {
   "cell_type": "code",
   "execution_count": 4,
   "metadata": {},
   "outputs": [
    {
     "data": {
      "text/html": [
       "<div>\n",
       "<style>\n",
       "    .dataframe thead tr:only-child th {\n",
       "        text-align: right;\n",
       "    }\n",
       "\n",
       "    .dataframe thead th {\n",
       "        text-align: left;\n",
       "    }\n",
       "\n",
       "    .dataframe tbody tr th {\n",
       "        vertical-align: top;\n",
       "    }\n",
       "</style>\n",
       "<table border=\"1\" class=\"dataframe\">\n",
       "  <thead>\n",
       "    <tr style=\"text-align: right;\">\n",
       "      <th></th>\n",
       "      <th>Length</th>\n",
       "      <th>Count</th>\n",
       "    </tr>\n",
       "  </thead>\n",
       "  <tbody>\n",
       "    <tr>\n",
       "      <th>0</th>\n",
       "      <td>1</td>\n",
       "      <td>4129</td>\n",
       "    </tr>\n",
       "    <tr>\n",
       "      <th>1</th>\n",
       "      <td>3</td>\n",
       "      <td>7</td>\n",
       "    </tr>\n",
       "    <tr>\n",
       "      <th>2</th>\n",
       "      <td>4</td>\n",
       "      <td>29745</td>\n",
       "    </tr>\n",
       "    <tr>\n",
       "      <th>3</th>\n",
       "      <td>5</td>\n",
       "      <td>372</td>\n",
       "    </tr>\n",
       "    <tr>\n",
       "      <th>4</th>\n",
       "      <td>7</td>\n",
       "      <td>1</td>\n",
       "    </tr>\n",
       "    <tr>\n",
       "      <th>5</th>\n",
       "      <td>8</td>\n",
       "      <td>412</td>\n",
       "    </tr>\n",
       "    <tr>\n",
       "      <th>6</th>\n",
       "      <td>9</td>\n",
       "      <td>2166</td>\n",
       "    </tr>\n",
       "    <tr>\n",
       "      <th>7</th>\n",
       "      <td>10</td>\n",
       "      <td>433341</td>\n",
       "    </tr>\n",
       "    <tr>\n",
       "      <th>8</th>\n",
       "      <td>11</td>\n",
       "      <td>168418</td>\n",
       "    </tr>\n",
       "    <tr>\n",
       "      <th>9</th>\n",
       "      <td>12</td>\n",
       "      <td>8463</td>\n",
       "    </tr>\n",
       "  </tbody>\n",
       "</table>\n",
       "</div>"
      ],
      "text/plain": [
       "   Length   Count\n",
       "0       1    4129\n",
       "1       3       7\n",
       "2       4   29745\n",
       "3       5     372\n",
       "4       7       1\n",
       "5       8     412\n",
       "6       9    2166\n",
       "7      10  433341\n",
       "8      11  168418\n",
       "9      12    8463"
      ]
     },
     "execution_count": 4,
     "metadata": {},
     "output_type": "execute_result"
    }
   ],
   "source": [
    "c = [4129, 7, 29745, 372, 1, 412, 2166, 433341, 168418, 8463]\n",
    "length_of_UPC = pd.DataFrame({\"Length\":[1,3,4,5,7,8,9,10,11,12]})\n",
    "length_of_UPC[\"Count\"] = c\n",
    "length_of_UPC"
   ]
  },
  {
   "cell_type": "code",
   "execution_count": 8,
   "metadata": {},
   "outputs": [
    {
     "data": {
      "image/png": "[encoded data removed]",
      "text/plain": [
       "<matplotlib.figure.Figure at 0x297c8330a20>"
      ]
     },
     "metadata": {
      "image/png": {
       "height": 248,
       "width": 389
      }
     },
     "output_type": "display_data"
    }
   ],
   "source": [
    "plt.bar(length_of_UPC[\"Length\"].astype(str), length_of_UPC[\"Count\"])\n",
    "plt.show()"
   ]
  },
  {
   "cell_type": "markdown",
   "metadata": {},
   "source": [
    "- Decoding UPCs"
   ]
  },
  {
   "cell_type": "markdown",
   "metadata": {},
   "source": [
    "![Alt text](Decoding_UPCs.jpg)"
   ]
  },
  {
   "cell_type": "code",
   "execution_count": null,
   "metadata": {
    "collapsed": true
   },
   "outputs": [],
   "source": []
  },
  {
   "cell_type": "markdown",
   "metadata": {},
   "source": [
    "-------------------"
   ]
  },
  {
   "cell_type": "code",
   "execution_count": 17,
   "metadata": {},
   "outputs": [
    {
     "data": {
      "text/html": [
       "<div>\n",
       "<style>\n",
       "    .dataframe thead tr:only-child th {\n",
       "        text-align: right;\n",
       "    }\n",
       "\n",
       "    .dataframe thead th {\n",
       "        text-align: left;\n",
       "    }\n",
       "\n",
       "    .dataframe tbody tr th {\n",
       "        vertical-align: top;\n",
       "    }\n",
       "</style>\n",
       "<table border=\"1\" class=\"dataframe\">\n",
       "  <thead>\n",
       "    <tr style=\"text-align: right;\">\n",
       "      <th></th>\n",
       "      <th>VisitNumber</th>\n",
       "      <th>TripType</th>\n",
       "    </tr>\n",
       "  </thead>\n",
       "  <tbody>\n",
       "    <tr>\n",
       "      <th>95669</th>\n",
       "      <td>191343</td>\n",
       "      <td>25.0</td>\n",
       "    </tr>\n",
       "    <tr>\n",
       "      <th>95670</th>\n",
       "      <td>191344</td>\n",
       "      <td>22.0</td>\n",
       "    </tr>\n",
       "    <tr>\n",
       "      <th>95671</th>\n",
       "      <td>191345</td>\n",
       "      <td>39.0</td>\n",
       "    </tr>\n",
       "    <tr>\n",
       "      <th>95672</th>\n",
       "      <td>191346</td>\n",
       "      <td>39.0</td>\n",
       "    </tr>\n",
       "    <tr>\n",
       "      <th>95673</th>\n",
       "      <td>191347</td>\n",
       "      <td>8.0</td>\n",
       "    </tr>\n",
       "  </tbody>\n",
       "</table>\n",
       "</div>"
      ],
      "text/plain": [
       "       VisitNumber  TripType\n",
       "95669       191343      25.0\n",
       "95670       191344      22.0\n",
       "95671       191345      39.0\n",
       "95672       191346      39.0\n",
       "95673       191347       8.0"
      ]
     },
     "execution_count": 17,
     "metadata": {},
     "output_type": "execute_result"
    }
   ],
   "source": [
    "df = train.groupby(\"VisitNumber\")[\"TripType\"].apply(np.average)\n",
    "df = pd.DataFrame(df)\n",
    "df.reset_index(inplace=True)\n",
    "df.tail()"
   ]
  },
  {
   "cell_type": "code",
   "execution_count": 23,
   "metadata": {},
   "outputs": [
    {
     "data": {
      "text/html": [
       "<div>\n",
       "<style>\n",
       "    .dataframe thead tr:only-child th {\n",
       "        text-align: right;\n",
       "    }\n",
       "\n",
       "    .dataframe thead th {\n",
       "        text-align: left;\n",
       "    }\n",
       "\n",
       "    .dataframe tbody tr th {\n",
       "        vertical-align: top;\n",
       "    }\n",
       "</style>\n",
       "<table border=\"1\" class=\"dataframe\">\n",
       "  <thead>\n",
       "    <tr style=\"text-align: right;\">\n",
       "      <th></th>\n",
       "      <th>TripType</th>\n",
       "      <th>Count</th>\n",
       "    </tr>\n",
       "  </thead>\n",
       "  <tbody>\n",
       "    <tr>\n",
       "      <th>33</th>\n",
       "      <td>41.0</td>\n",
       "      <td>583</td>\n",
       "    </tr>\n",
       "    <tr>\n",
       "      <th>34</th>\n",
       "      <td>42.0</td>\n",
       "      <td>1858</td>\n",
       "    </tr>\n",
       "    <tr>\n",
       "      <th>35</th>\n",
       "      <td>43.0</td>\n",
       "      <td>872</td>\n",
       "    </tr>\n",
       "    <tr>\n",
       "      <th>36</th>\n",
       "      <td>44.0</td>\n",
       "      <td>1187</td>\n",
       "    </tr>\n",
       "    <tr>\n",
       "      <th>37</th>\n",
       "      <td>999.0</td>\n",
       "      <td>8444</td>\n",
       "    </tr>\n",
       "  </tbody>\n",
       "</table>\n",
       "</div>"
      ],
      "text/plain": [
       "    TripType  Count\n",
       "33      41.0    583\n",
       "34      42.0   1858\n",
       "35      43.0    872\n",
       "36      44.0   1187\n",
       "37     999.0   8444"
      ]
     },
     "execution_count": 23,
     "metadata": {},
     "output_type": "execute_result"
    }
   ],
   "source": [
    "df2 = df.groupby(\"TripType\").size()\n",
    "df2 = pd.DataFrame(df2)\n",
    "df2.reset_index(inplace=True)\n",
    "df2.rename(columns={0:\"Count\"}, inplace=True)\n",
    "df2.tail()"
   ]
  },
  {
   "cell_type": "code",
   "execution_count": 28,
   "metadata": {},
   "outputs": [
    {
     "data": {
      "text/plain": [
       "<function matplotlib.pyplot.show>"
      ]
     },
     "execution_count": 28,
     "metadata": {},
     "output_type": "execute_result"
    },
    {
     "data": {
      "image/png": "[encoded data removed]",
      "text/plain": [
       "<matplotlib.figure.Figure at 0x2161d2a6908>"
      ]
     },
     "metadata": {
      "image/png": {
       "height": 358,
       "width": 1053
      }
     },
     "output_type": "display_data"
    }
   ],
   "source": [
    "plt.figure(figsize=(18, 6))\n",
    "plt.bar(df2[\"TripType\"].astype(str), df2[\"Count\"])\n",
    "plt.show"
   ]
  },
  {
   "cell_type": "code",
   "execution_count": null,
   "metadata": {
    "collapsed": true
   },
   "outputs": [],
   "source": []
  }
 ],
 "metadata": {
  "kernelspec": {
   "display_name": "Python 3",
   "language": "python",
   "name": "python3"
  },
  "language_info": {
   "codemirror_mode": {
    "name": "ipython",
    "version": 3
   },
   "file_extension": ".py",
   "mimetype": "text/x-python",
   "name": "python",
   "nbconvert_exporter": "python",
   "pygments_lexer": "ipython3",
   "version": "3.6.3"
  }
 },
 "nbformat": 4,
 "nbformat_minor": 2
}
