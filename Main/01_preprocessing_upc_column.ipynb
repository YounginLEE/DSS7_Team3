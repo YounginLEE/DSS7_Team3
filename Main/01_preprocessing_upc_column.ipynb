{
 "cells": [
  {
   "cell_type": "markdown",
   "metadata": {},
   "source": [
    "## UPC에 관하여\n",
    "- 1자리: UPC 코드 첫째자리의 넘버시스템 캐릭터는 뒤의 나머지 숫자의 분류뿐만 아니라 의미를 해결하는데 도움을 준다.\n",
    "    - 0, 6, 7, 8 : 아래를 제외한 모든 제품에 부여\n",
    "    - 2 : 중량단위로 판매되는 가변 중량상품(random weight item: 육류,치즈 등)에 부여\n",
    "    - 3 : 의약품, 건강관련제품에 부여\n",
    "    - 4 : 점포내 판매를 목적으로 소매업자에 의해 마킹되는 제품에 부여(인스토아마킹용)\n",
    "    - 5 : 쿠폰에 부여\n",
    "    \n",
    "- 5자리: 제조업체코드(Manufacturer Identification Number : 5 자리)\n",
    "    - 제조업체코드는 UPC 코드관리기관인 UCC(Uniform Code Council)에서 각 제조업체에 부여합니다.\n",
    "    \n",
    "- 5자리: 상품품목코드(Item Code Number : 5자리 )\n",
    "    - 상품품목코드는 제조업체가 부여하고 관리하는 코드입니다.\n",
    "    \n",
    "- 1자리: 체크디지트 (Check Digit : 1자리 )\n",
    "    - EAN코드와 마찬가지로 모듈러스 10(modulus 10)방식으로 계산하여 부여하는 코드입니다.\n",
    "    \n",
    "----------------------------------------------------------------------\n",
    "- `1유형` : 제조업체코드 5자리 중 뒤의 3자리가 000, 100, 200으로 끝나는 경우로, 단축형으로 사용할 수 있는 상품품목코드는 00000 ~ 00999로서 최대 1,000품목까지 사용이 가능합니다.\n",
    "\n",
    "- `2유형` : 제조업체코드 5자리 중 뒤의 3자리가 300, 400, 500, 600, 700, 800, 900으로 끝나는 경우로, 단축형으로 사용할 수 있는 상품품목코드는 00000 ~ 00099로서 최대 100품목까지 사용이 가능합니다. \n",
    "\n",
    "- `3유형` : 제조업체코드 5자리 중 뒤의 2자리가 10, 20, 30, 40, 50, 60, 70, 80, 90으로 끝나는 경우로, 단축형으로 사용할 수 있는 상품품목코드는 00000 ~ 00009로서 최대 10품목까지 사용이 가능합니다. \n",
    "\n",
    "- `4유형` : 제조업체코드 5자리가 0으로 끝나지 않는 경우로 단축형으로 사용할 수 있는 상품품목 코드는 00005 ~ 00009로서 최대 5품목까지 사용이 가능합니다.\n",
    "\n",
    "- 예를들어:\n",
    "    - 1유형의경우... "
   ]
  },
  {
   "cell_type": "code",
   "execution_count": 1,
   "metadata": {},
   "outputs": [
    {
     "data": {
      "text/html": [
       "<div>\n",
       "<style scoped>\n",
       "    .dataframe tbody tr th:only-of-type {\n",
       "        vertical-align: middle;\n",
       "    }\n",
       "\n",
       "    .dataframe tbody tr th {\n",
       "        vertical-align: top;\n",
       "    }\n",
       "\n",
       "    .dataframe thead th {\n",
       "        text-align: right;\n",
       "    }\n",
       "</style>\n",
       "<table border=\"1\" class=\"dataframe\">\n",
       "  <thead>\n",
       "    <tr style=\"text-align: right;\">\n",
       "      <th></th>\n",
       "      <th>TripType</th>\n",
       "      <th>VisitNumber</th>\n",
       "      <th>Weekday</th>\n",
       "      <th>Upc</th>\n",
       "      <th>ScanCount</th>\n",
       "      <th>DepartmentDescription</th>\n",
       "      <th>FinelineNumber</th>\n",
       "    </tr>\n",
       "  </thead>\n",
       "  <tbody>\n",
       "    <tr>\n",
       "      <th>0</th>\n",
       "      <td>999</td>\n",
       "      <td>5</td>\n",
       "      <td>Friday</td>\n",
       "      <td>6.811315e+10</td>\n",
       "      <td>-1</td>\n",
       "      <td>FINANCIAL SERVICES</td>\n",
       "      <td>1000.0</td>\n",
       "    </tr>\n",
       "    <tr>\n",
       "      <th>1</th>\n",
       "      <td>30</td>\n",
       "      <td>7</td>\n",
       "      <td>Friday</td>\n",
       "      <td>6.053882e+10</td>\n",
       "      <td>1</td>\n",
       "      <td>SHOES</td>\n",
       "      <td>8931.0</td>\n",
       "    </tr>\n",
       "    <tr>\n",
       "      <th>2</th>\n",
       "      <td>30</td>\n",
       "      <td>7</td>\n",
       "      <td>Friday</td>\n",
       "      <td>7.410811e+09</td>\n",
       "      <td>1</td>\n",
       "      <td>PERSONAL CARE</td>\n",
       "      <td>4504.0</td>\n",
       "    </tr>\n",
       "    <tr>\n",
       "      <th>3</th>\n",
       "      <td>26</td>\n",
       "      <td>8</td>\n",
       "      <td>Friday</td>\n",
       "      <td>2.238404e+09</td>\n",
       "      <td>2</td>\n",
       "      <td>PAINT AND ACCESSORIES</td>\n",
       "      <td>3565.0</td>\n",
       "    </tr>\n",
       "    <tr>\n",
       "      <th>4</th>\n",
       "      <td>26</td>\n",
       "      <td>8</td>\n",
       "      <td>Friday</td>\n",
       "      <td>2.006614e+09</td>\n",
       "      <td>2</td>\n",
       "      <td>PAINT AND ACCESSORIES</td>\n",
       "      <td>1017.0</td>\n",
       "    </tr>\n",
       "  </tbody>\n",
       "</table>\n",
       "</div>"
      ],
      "text/plain": [
       "   TripType  VisitNumber Weekday           Upc  ScanCount  \\\n",
       "0       999            5  Friday  6.811315e+10         -1   \n",
       "1        30            7  Friday  6.053882e+10          1   \n",
       "2        30            7  Friday  7.410811e+09          1   \n",
       "3        26            8  Friday  2.238404e+09          2   \n",
       "4        26            8  Friday  2.006614e+09          2   \n",
       "\n",
       "   DepartmentDescription  FinelineNumber  \n",
       "0     FINANCIAL SERVICES          1000.0  \n",
       "1                  SHOES          8931.0  \n",
       "2          PERSONAL CARE          4504.0  \n",
       "3  PAINT AND ACCESSORIES          3565.0  \n",
       "4  PAINT AND ACCESSORIES          1017.0  "
      ]
     },
     "execution_count": 1,
     "metadata": {},
     "output_type": "execute_result"
    }
   ],
   "source": [
    "data = pd.read_csv('../data/train.csv')\n",
    "data.head()"
   ]
  },
  {
   "cell_type": "code",
   "execution_count": 2,
   "metadata": {},
   "outputs": [
    {
     "data": {
      "text/html": [
       "<div>\n",
       "<style scoped>\n",
       "    .dataframe tbody tr th:only-of-type {\n",
       "        vertical-align: middle;\n",
       "    }\n",
       "\n",
       "    .dataframe tbody tr th {\n",
       "        vertical-align: top;\n",
       "    }\n",
       "\n",
       "    .dataframe thead th {\n",
       "        text-align: right;\n",
       "    }\n",
       "</style>\n",
       "<table border=\"1\" class=\"dataframe\">\n",
       "  <thead>\n",
       "    <tr style=\"text-align: right;\">\n",
       "      <th></th>\n",
       "      <th>TripType</th>\n",
       "      <th>VisitNumber</th>\n",
       "      <th>Weekday</th>\n",
       "      <th>Upc</th>\n",
       "      <th>ScanCount</th>\n",
       "      <th>DepartmentDescription</th>\n",
       "      <th>FinelineNumber</th>\n",
       "    </tr>\n",
       "  </thead>\n",
       "  <tbody>\n",
       "    <tr>\n",
       "      <th>0</th>\n",
       "      <td>999</td>\n",
       "      <td>5</td>\n",
       "      <td>Friday</td>\n",
       "      <td>68113152929</td>\n",
       "      <td>-1</td>\n",
       "      <td>FINANCIAL SERVICES</td>\n",
       "      <td>1000.0</td>\n",
       "    </tr>\n",
       "    <tr>\n",
       "      <th>1</th>\n",
       "      <td>30</td>\n",
       "      <td>7</td>\n",
       "      <td>Friday</td>\n",
       "      <td>60538815980</td>\n",
       "      <td>1</td>\n",
       "      <td>SHOES</td>\n",
       "      <td>8931.0</td>\n",
       "    </tr>\n",
       "    <tr>\n",
       "      <th>2</th>\n",
       "      <td>30</td>\n",
       "      <td>7</td>\n",
       "      <td>Friday</td>\n",
       "      <td>7410811099</td>\n",
       "      <td>1</td>\n",
       "      <td>PERSONAL CARE</td>\n",
       "      <td>4504.0</td>\n",
       "    </tr>\n",
       "    <tr>\n",
       "      <th>3</th>\n",
       "      <td>26</td>\n",
       "      <td>8</td>\n",
       "      <td>Friday</td>\n",
       "      <td>2238403510</td>\n",
       "      <td>2</td>\n",
       "      <td>PAINT AND ACCESSORIES</td>\n",
       "      <td>3565.0</td>\n",
       "    </tr>\n",
       "    <tr>\n",
       "      <th>4</th>\n",
       "      <td>26</td>\n",
       "      <td>8</td>\n",
       "      <td>Friday</td>\n",
       "      <td>2006613744</td>\n",
       "      <td>2</td>\n",
       "      <td>PAINT AND ACCESSORIES</td>\n",
       "      <td>1017.0</td>\n",
       "    </tr>\n",
       "  </tbody>\n",
       "</table>\n",
       "</div>"
      ],
      "text/plain": [
       "   TripType  VisitNumber Weekday          Upc  ScanCount  \\\n",
       "0       999            5  Friday  68113152929         -1   \n",
       "1        30            7  Friday  60538815980          1   \n",
       "2        30            7  Friday   7410811099          1   \n",
       "3        26            8  Friday   2238403510          2   \n",
       "4        26            8  Friday   2006613744          2   \n",
       "\n",
       "   DepartmentDescription  FinelineNumber  \n",
       "0     FINANCIAL SERVICES          1000.0  \n",
       "1                  SHOES          8931.0  \n",
       "2          PERSONAL CARE          4504.0  \n",
       "3  PAINT AND ACCESSORIES          3565.0  \n",
       "4  PAINT AND ACCESSORIES          1017.0  "
      ]
     },
     "execution_count": 2,
     "metadata": {},
     "output_type": "execute_result"
    }
   ],
   "source": [
    "data['Upc'] = data['Upc'].fillna(value = 0)\n",
    "data['Upc'] = data['Upc'].astype(int)\n",
    "data.head()"
   ]
  },
  {
   "cell_type": "code",
   "execution_count": 3,
   "metadata": {},
   "outputs": [],
   "source": [
    "def check_len(upc):\n",
    "    return len(str(upc))"
   ]
  },
  {
   "cell_type": "markdown",
   "metadata": {},
   "source": [
    "### upc 바코드 길이 체크"
   ]
  },
  {
   "cell_type": "code",
   "execution_count": 4,
   "metadata": {},
   "outputs": [],
   "source": [
    "data['len(upc)'] = data['Upc'].apply(check_len)"
   ]
  },
  {
   "cell_type": "code",
   "execution_count": 5,
   "metadata": {},
   "outputs": [
    {
     "name": "stdout",
     "output_type": "stream",
     "text": [
      "1  :   4129\n",
      "3  :   7\n",
      "4  :   29745\n",
      "5  :   372\n",
      "7  :   1\n",
      "8  :   412\n",
      "9  :   2166\n",
      "10  :   433341\n",
      "11  :   168418\n",
      "12  :   8463\n"
     ]
    }
   ],
   "source": [
    "s = list(data['len(upc)'].unique())\n",
    "s.sort()\n",
    "for idx in s:\n",
    "\n",
    "    count = len(data[data['len(upc)'].isin([idx])])\n",
    "    print(idx,\" :  \",count)\n",
    "\n",
    "# 1은 missing data"
   ]
  },
  {
   "cell_type": "markdown",
   "metadata": {},
   "source": [
    "### upc 바코드 전처리\n",
    "- 1.현재 주어진 upc바코드는 끝자리 check digit 숫자가 존재하지 않는다. \n",
    "https://www.gs1.org/services/how-calculate-check-digit-manually\n",
    "    - 먼저 check digit을 구한다.\n",
    "\n",
    "- 2.길이를 12자리, 13자리로 맞추자.\n",
    "https://www.cognex.com/ko-kr/resources/symbologies/1-d-linear-barcodes/ean-13-barcodes\n",
    "    - UPC-A, EAN-13과 동일한 미국 바코드. 13자리 바코드는 처음 1자리수가 country code를 뜻하고 그 외에는 UPC규칙과 동일\n",
    "    \n",
    "- 3.회사와 제품을 구분하는 컬럼으로 새로 만들기"
   ]
  },
  {
   "cell_type": "markdown",
   "metadata": {},
   "source": [
    "#### 1. check digit 숫자를 구하기"
   ]
  },
  {
   "cell_type": "code",
   "execution_count": 6,
   "metadata": {},
   "outputs": [],
   "source": [
    "# check digit 구하는 함수\n",
    "\n",
    "def get_checkdigit(upc):\n",
    "    \n",
    "    odd_s = [int(i) for i in str(upc)[-1::-2]]\n",
    "    even_s = [int(i) for i in str(upc)[-2::-2]]\n",
    "    \n",
    "    odd_sum = sum(list(map(lambda number : number * 3, odd_s)))\n",
    "    even_sum = sum(list(map(lambda number : number, even_s)))\n",
    "    check_sum = (odd_sum + even_sum) % 10\n",
    "    \n",
    "\n",
    "    if check_sum == 0:\n",
    "        return check_sum\n",
    "    else:\n",
    "        return 10 - check_sum"
   ]
  },
  {
   "cell_type": "markdown",
   "metadata": {},
   "source": [
    "#### 2. 길이를 12자리, 13자리로 맞추기\n",
    "- 앞자리는 0으로 채움"
   ]
  },
  {
   "cell_type": "code",
   "execution_count": 7,
   "metadata": {},
   "outputs": [],
   "source": [
    "def make_full_upc(upc):\n",
    "    if upc == 0:\n",
    "        return \"missing\"\n",
    "    else:\n",
    "        tmp_upc = str(upc) + str(get_checkdigit(upc))\n",
    "\n",
    "\n",
    "        if len(tmp_upc) < 12:\n",
    "            length = 12 - len(tmp_upc)\n",
    "            zero = \"0\" * length\n",
    "            standard_upc = zero + tmp_upc\n",
    "            return standard_upc\n",
    "        else:\n",
    "            return tmp_upc "
   ]
  },
  {
   "cell_type": "code",
   "execution_count": 8,
   "metadata": {},
   "outputs": [
    {
     "name": "stdout",
     "output_type": "stream",
     "text": [
      "2\n",
      "022384035102\n"
     ]
    }
   ],
   "source": [
    "# test\n",
    "\n",
    "print(get_checkdigit(2238403510))\n",
    "print(make_full_upc(2238403510))"
   ]
  },
  {
   "cell_type": "code",
   "execution_count": 9,
   "metadata": {},
   "outputs": [],
   "source": [
    "data['standard_upc'] = data['Upc'].apply(make_full_upc)"
   ]
  },
  {
   "cell_type": "code",
   "execution_count": 10,
   "metadata": {},
   "outputs": [],
   "source": [
    "data['standard_upc(len)'] = data['standard_upc'].apply(check_len)"
   ]
  },
  {
   "cell_type": "code",
   "execution_count": 11,
   "metadata": {},
   "outputs": [
    {
     "data": {
      "text/plain": [
       "array([12,  7, 13])"
      ]
     },
     "execution_count": 11,
     "metadata": {},
     "output_type": "execute_result"
    }
   ],
   "source": [
    "# missing 제외 12, 13자리로 변환\n",
    "data['standard_upc(len)'].unique()"
   ]
  },
  {
   "cell_type": "markdown",
   "metadata": {},
   "source": [
    "#### 3. 컬럼추가"
   ]
  },
  {
   "cell_type": "code",
   "execution_count": 12,
   "metadata": {},
   "outputs": [],
   "source": [
    "def classify_company_product(standard_upc):\n",
    "    class_ = []\n",
    "    \n",
    "    if standard_upc == \"missing\":\n",
    "        return standard_upc\n",
    "    \n",
    "    elif len(standard_upc) == 13:\n",
    "        company = standard_upc[1:7]\n",
    "        product = standard_upc[7:13]\n",
    "        \n",
    "        class_.append(company)\n",
    "        class_.append(product)\n",
    "        return class_\n",
    "    \n",
    "    # len = 12\n",
    "    else: \n",
    "        company = standard_upc[:6]\n",
    "        product = standard_upc[6:12]\n",
    "        \n",
    "        class_.append(company)\n",
    "        class_.append(product)\n",
    "        return class_"
   ]
  },
  {
   "cell_type": "code",
   "execution_count": 13,
   "metadata": {},
   "outputs": [],
   "source": [
    "data['tmp'] = data['standard_upc'].apply(classify_company_product)"
   ]
  },
  {
   "cell_type": "code",
   "execution_count": 14,
   "metadata": {},
   "outputs": [
    {
     "data": {
      "text/html": [
       "<div>\n",
       "<style scoped>\n",
       "    .dataframe tbody tr th:only-of-type {\n",
       "        vertical-align: middle;\n",
       "    }\n",
       "\n",
       "    .dataframe tbody tr th {\n",
       "        vertical-align: top;\n",
       "    }\n",
       "\n",
       "    .dataframe thead th {\n",
       "        text-align: right;\n",
       "    }\n",
       "</style>\n",
       "<table border=\"1\" class=\"dataframe\">\n",
       "  <thead>\n",
       "    <tr style=\"text-align: right;\">\n",
       "      <th></th>\n",
       "      <th>TripType</th>\n",
       "      <th>VisitNumber</th>\n",
       "      <th>Weekday</th>\n",
       "      <th>Upc</th>\n",
       "      <th>ScanCount</th>\n",
       "      <th>DepartmentDescription</th>\n",
       "      <th>FinelineNumber</th>\n",
       "      <th>len(upc)</th>\n",
       "      <th>standard_upc</th>\n",
       "      <th>standard_upc(len)</th>\n",
       "      <th>tmp</th>\n",
       "    </tr>\n",
       "  </thead>\n",
       "  <tbody>\n",
       "    <tr>\n",
       "      <th>0</th>\n",
       "      <td>999</td>\n",
       "      <td>5</td>\n",
       "      <td>Friday</td>\n",
       "      <td>68113152929</td>\n",
       "      <td>-1</td>\n",
       "      <td>FINANCIAL SERVICES</td>\n",
       "      <td>1000.0</td>\n",
       "      <td>11</td>\n",
       "      <td>681131529297</td>\n",
       "      <td>12</td>\n",
       "      <td>[681131, 529297]</td>\n",
       "    </tr>\n",
       "    <tr>\n",
       "      <th>1</th>\n",
       "      <td>30</td>\n",
       "      <td>7</td>\n",
       "      <td>Friday</td>\n",
       "      <td>60538815980</td>\n",
       "      <td>1</td>\n",
       "      <td>SHOES</td>\n",
       "      <td>8931.0</td>\n",
       "      <td>11</td>\n",
       "      <td>605388159809</td>\n",
       "      <td>12</td>\n",
       "      <td>[605388, 159809]</td>\n",
       "    </tr>\n",
       "    <tr>\n",
       "      <th>2</th>\n",
       "      <td>30</td>\n",
       "      <td>7</td>\n",
       "      <td>Friday</td>\n",
       "      <td>7410811099</td>\n",
       "      <td>1</td>\n",
       "      <td>PERSONAL CARE</td>\n",
       "      <td>4504.0</td>\n",
       "      <td>10</td>\n",
       "      <td>074108110992</td>\n",
       "      <td>12</td>\n",
       "      <td>[074108, 110992]</td>\n",
       "    </tr>\n",
       "    <tr>\n",
       "      <th>3</th>\n",
       "      <td>26</td>\n",
       "      <td>8</td>\n",
       "      <td>Friday</td>\n",
       "      <td>2238403510</td>\n",
       "      <td>2</td>\n",
       "      <td>PAINT AND ACCESSORIES</td>\n",
       "      <td>3565.0</td>\n",
       "      <td>10</td>\n",
       "      <td>022384035102</td>\n",
       "      <td>12</td>\n",
       "      <td>[022384, 035102]</td>\n",
       "    </tr>\n",
       "    <tr>\n",
       "      <th>4</th>\n",
       "      <td>26</td>\n",
       "      <td>8</td>\n",
       "      <td>Friday</td>\n",
       "      <td>2006613744</td>\n",
       "      <td>2</td>\n",
       "      <td>PAINT AND ACCESSORIES</td>\n",
       "      <td>1017.0</td>\n",
       "      <td>10</td>\n",
       "      <td>020066137441</td>\n",
       "      <td>12</td>\n",
       "      <td>[020066, 137441]</td>\n",
       "    </tr>\n",
       "  </tbody>\n",
       "</table>\n",
       "</div>"
      ],
      "text/plain": [
       "   TripType  VisitNumber Weekday          Upc  ScanCount  \\\n",
       "0       999            5  Friday  68113152929         -1   \n",
       "1        30            7  Friday  60538815980          1   \n",
       "2        30            7  Friday   7410811099          1   \n",
       "3        26            8  Friday   2238403510          2   \n",
       "4        26            8  Friday   2006613744          2   \n",
       "\n",
       "   DepartmentDescription  FinelineNumber  len(upc)  standard_upc  \\\n",
       "0     FINANCIAL SERVICES          1000.0        11  681131529297   \n",
       "1                  SHOES          8931.0        11  605388159809   \n",
       "2          PERSONAL CARE          4504.0        10  074108110992   \n",
       "3  PAINT AND ACCESSORIES          3565.0        10  022384035102   \n",
       "4  PAINT AND ACCESSORIES          1017.0        10  020066137441   \n",
       "\n",
       "   standard_upc(len)               tmp  \n",
       "0                 12  [681131, 529297]  \n",
       "1                 12  [605388, 159809]  \n",
       "2                 12  [074108, 110992]  \n",
       "3                 12  [022384, 035102]  \n",
       "4                 12  [020066, 137441]  "
      ]
     },
     "execution_count": 14,
     "metadata": {},
     "output_type": "execute_result"
    }
   ],
   "source": [
    "data.head()"
   ]
  },
  {
   "cell_type": "code",
   "execution_count": 15,
   "metadata": {},
   "outputs": [],
   "source": [
    "def make_company_col(tmp):\n",
    "    return tmp[0]\n",
    "\n",
    "def make_product_col(tmp):\n",
    "    return tmp[1]\n",
    "\n",
    "data['company_code'] = data['tmp'].apply(make_company_col)\n",
    "data['product_code'] = data['tmp'].apply(make_product_col)"
   ]
  },
  {
   "cell_type": "code",
   "execution_count": 16,
   "metadata": {},
   "outputs": [
    {
     "data": {
      "text/html": [
       "<div>\n",
       "<style scoped>\n",
       "    .dataframe tbody tr th:only-of-type {\n",
       "        vertical-align: middle;\n",
       "    }\n",
       "\n",
       "    .dataframe tbody tr th {\n",
       "        vertical-align: top;\n",
       "    }\n",
       "\n",
       "    .dataframe thead th {\n",
       "        text-align: right;\n",
       "    }\n",
       "</style>\n",
       "<table border=\"1\" class=\"dataframe\">\n",
       "  <thead>\n",
       "    <tr style=\"text-align: right;\">\n",
       "      <th></th>\n",
       "      <th>TripType</th>\n",
       "      <th>VisitNumber</th>\n",
       "      <th>Weekday</th>\n",
       "      <th>Upc</th>\n",
       "      <th>ScanCount</th>\n",
       "      <th>DepartmentDescription</th>\n",
       "      <th>FinelineNumber</th>\n",
       "      <th>len(upc)</th>\n",
       "      <th>standard_upc</th>\n",
       "      <th>standard_upc(len)</th>\n",
       "      <th>tmp</th>\n",
       "      <th>company_code</th>\n",
       "      <th>product_code</th>\n",
       "    </tr>\n",
       "  </thead>\n",
       "  <tbody>\n",
       "    <tr>\n",
       "      <th>0</th>\n",
       "      <td>999</td>\n",
       "      <td>5</td>\n",
       "      <td>Friday</td>\n",
       "      <td>68113152929</td>\n",
       "      <td>-1</td>\n",
       "      <td>FINANCIAL SERVICES</td>\n",
       "      <td>1000.0</td>\n",
       "      <td>11</td>\n",
       "      <td>681131529297</td>\n",
       "      <td>12</td>\n",
       "      <td>[681131, 529297]</td>\n",
       "      <td>681131</td>\n",
       "      <td>529297</td>\n",
       "    </tr>\n",
       "    <tr>\n",
       "      <th>1</th>\n",
       "      <td>30</td>\n",
       "      <td>7</td>\n",
       "      <td>Friday</td>\n",
       "      <td>60538815980</td>\n",
       "      <td>1</td>\n",
       "      <td>SHOES</td>\n",
       "      <td>8931.0</td>\n",
       "      <td>11</td>\n",
       "      <td>605388159809</td>\n",
       "      <td>12</td>\n",
       "      <td>[605388, 159809]</td>\n",
       "      <td>605388</td>\n",
       "      <td>159809</td>\n",
       "    </tr>\n",
       "    <tr>\n",
       "      <th>2</th>\n",
       "      <td>30</td>\n",
       "      <td>7</td>\n",
       "      <td>Friday</td>\n",
       "      <td>7410811099</td>\n",
       "      <td>1</td>\n",
       "      <td>PERSONAL CARE</td>\n",
       "      <td>4504.0</td>\n",
       "      <td>10</td>\n",
       "      <td>074108110992</td>\n",
       "      <td>12</td>\n",
       "      <td>[074108, 110992]</td>\n",
       "      <td>074108</td>\n",
       "      <td>110992</td>\n",
       "    </tr>\n",
       "    <tr>\n",
       "      <th>3</th>\n",
       "      <td>26</td>\n",
       "      <td>8</td>\n",
       "      <td>Friday</td>\n",
       "      <td>2238403510</td>\n",
       "      <td>2</td>\n",
       "      <td>PAINT AND ACCESSORIES</td>\n",
       "      <td>3565.0</td>\n",
       "      <td>10</td>\n",
       "      <td>022384035102</td>\n",
       "      <td>12</td>\n",
       "      <td>[022384, 035102]</td>\n",
       "      <td>022384</td>\n",
       "      <td>035102</td>\n",
       "    </tr>\n",
       "    <tr>\n",
       "      <th>4</th>\n",
       "      <td>26</td>\n",
       "      <td>8</td>\n",
       "      <td>Friday</td>\n",
       "      <td>2006613744</td>\n",
       "      <td>2</td>\n",
       "      <td>PAINT AND ACCESSORIES</td>\n",
       "      <td>1017.0</td>\n",
       "      <td>10</td>\n",
       "      <td>020066137441</td>\n",
       "      <td>12</td>\n",
       "      <td>[020066, 137441]</td>\n",
       "      <td>020066</td>\n",
       "      <td>137441</td>\n",
       "    </tr>\n",
       "  </tbody>\n",
       "</table>\n",
       "</div>"
      ],
      "text/plain": [
       "   TripType  VisitNumber Weekday          Upc  ScanCount  \\\n",
       "0       999            5  Friday  68113152929         -1   \n",
       "1        30            7  Friday  60538815980          1   \n",
       "2        30            7  Friday   7410811099          1   \n",
       "3        26            8  Friday   2238403510          2   \n",
       "4        26            8  Friday   2006613744          2   \n",
       "\n",
       "   DepartmentDescription  FinelineNumber  len(upc)  standard_upc  \\\n",
       "0     FINANCIAL SERVICES          1000.0        11  681131529297   \n",
       "1                  SHOES          8931.0        11  605388159809   \n",
       "2          PERSONAL CARE          4504.0        10  074108110992   \n",
       "3  PAINT AND ACCESSORIES          3565.0        10  022384035102   \n",
       "4  PAINT AND ACCESSORIES          1017.0        10  020066137441   \n",
       "\n",
       "   standard_upc(len)               tmp company_code product_code  \n",
       "0                 12  [681131, 529297]       681131       529297  \n",
       "1                 12  [605388, 159809]       605388       159809  \n",
       "2                 12  [074108, 110992]       074108       110992  \n",
       "3                 12  [022384, 035102]       022384       035102  \n",
       "4                 12  [020066, 137441]       020066       137441  "
      ]
     },
     "execution_count": 16,
     "metadata": {},
     "output_type": "execute_result"
    }
   ],
   "source": [
    "data.head()"
   ]
  },
  {
   "cell_type": "markdown",
   "metadata": {},
   "source": [
    "#### 불필요 컬럼 제거"
   ]
  },
  {
   "cell_type": "code",
   "execution_count": 17,
   "metadata": {},
   "outputs": [],
   "source": [
    "del data['Upc'], data['len(upc)'], data['tmp'], data['standard_upc(len)']"
   ]
  },
  {
   "cell_type": "code",
   "execution_count": 18,
   "metadata": {},
   "outputs": [
    {
     "data": {
      "text/html": [
       "<div>\n",
       "<style scoped>\n",
       "    .dataframe tbody tr th:only-of-type {\n",
       "        vertical-align: middle;\n",
       "    }\n",
       "\n",
       "    .dataframe tbody tr th {\n",
       "        vertical-align: top;\n",
       "    }\n",
       "\n",
       "    .dataframe thead th {\n",
       "        text-align: right;\n",
       "    }\n",
       "</style>\n",
       "<table border=\"1\" class=\"dataframe\">\n",
       "  <thead>\n",
       "    <tr style=\"text-align: right;\">\n",
       "      <th></th>\n",
       "      <th>TripType</th>\n",
       "      <th>VisitNumber</th>\n",
       "      <th>Weekday</th>\n",
       "      <th>ScanCount</th>\n",
       "      <th>DepartmentDescription</th>\n",
       "      <th>FinelineNumber</th>\n",
       "      <th>standard_upc</th>\n",
       "      <th>company_code</th>\n",
       "      <th>product_code</th>\n",
       "    </tr>\n",
       "  </thead>\n",
       "  <tbody>\n",
       "    <tr>\n",
       "      <th>0</th>\n",
       "      <td>999</td>\n",
       "      <td>5</td>\n",
       "      <td>Friday</td>\n",
       "      <td>-1</td>\n",
       "      <td>FINANCIAL SERVICES</td>\n",
       "      <td>1000.0</td>\n",
       "      <td>681131529297</td>\n",
       "      <td>681131</td>\n",
       "      <td>529297</td>\n",
       "    </tr>\n",
       "    <tr>\n",
       "      <th>1</th>\n",
       "      <td>30</td>\n",
       "      <td>7</td>\n",
       "      <td>Friday</td>\n",
       "      <td>1</td>\n",
       "      <td>SHOES</td>\n",
       "      <td>8931.0</td>\n",
       "      <td>605388159809</td>\n",
       "      <td>605388</td>\n",
       "      <td>159809</td>\n",
       "    </tr>\n",
       "    <tr>\n",
       "      <th>2</th>\n",
       "      <td>30</td>\n",
       "      <td>7</td>\n",
       "      <td>Friday</td>\n",
       "      <td>1</td>\n",
       "      <td>PERSONAL CARE</td>\n",
       "      <td>4504.0</td>\n",
       "      <td>074108110992</td>\n",
       "      <td>074108</td>\n",
       "      <td>110992</td>\n",
       "    </tr>\n",
       "    <tr>\n",
       "      <th>3</th>\n",
       "      <td>26</td>\n",
       "      <td>8</td>\n",
       "      <td>Friday</td>\n",
       "      <td>2</td>\n",
       "      <td>PAINT AND ACCESSORIES</td>\n",
       "      <td>3565.0</td>\n",
       "      <td>022384035102</td>\n",
       "      <td>022384</td>\n",
       "      <td>035102</td>\n",
       "    </tr>\n",
       "    <tr>\n",
       "      <th>4</th>\n",
       "      <td>26</td>\n",
       "      <td>8</td>\n",
       "      <td>Friday</td>\n",
       "      <td>2</td>\n",
       "      <td>PAINT AND ACCESSORIES</td>\n",
       "      <td>1017.0</td>\n",
       "      <td>020066137441</td>\n",
       "      <td>020066</td>\n",
       "      <td>137441</td>\n",
       "    </tr>\n",
       "  </tbody>\n",
       "</table>\n",
       "</div>"
      ],
      "text/plain": [
       "   TripType  VisitNumber Weekday  ScanCount  DepartmentDescription  \\\n",
       "0       999            5  Friday         -1     FINANCIAL SERVICES   \n",
       "1        30            7  Friday          1                  SHOES   \n",
       "2        30            7  Friday          1          PERSONAL CARE   \n",
       "3        26            8  Friday          2  PAINT AND ACCESSORIES   \n",
       "4        26            8  Friday          2  PAINT AND ACCESSORIES   \n",
       "\n",
       "   FinelineNumber  standard_upc company_code product_code  \n",
       "0          1000.0  681131529297       681131       529297  \n",
       "1          8931.0  605388159809       605388       159809  \n",
       "2          4504.0  074108110992       074108       110992  \n",
       "3          3565.0  022384035102       022384       035102  \n",
       "4          1017.0  020066137441       020066       137441  "
      ]
     },
     "execution_count": 18,
     "metadata": {},
     "output_type": "execute_result"
    }
   ],
   "source": [
    "data.head()"
   ]
  },
  {
   "cell_type": "code",
   "execution_count": 20,
   "metadata": {},
   "outputs": [
    {
     "data": {
      "text/plain": [
       "647054"
      ]
     },
     "execution_count": 20,
     "metadata": {},
     "output_type": "execute_result"
    }
   ],
   "source": [
    "len(data)"
   ]
  },
  {
   "cell_type": "code",
   "execution_count": 22,
   "metadata": {},
   "outputs": [
    {
     "data": {
      "text/plain": [
       "5893"
      ]
     },
     "execution_count": 22,
     "metadata": {},
     "output_type": "execute_result"
    }
   ],
   "source": [
    "len(data['company_code'].unique())"
   ]
  },
  {
   "cell_type": "code",
   "execution_count": 23,
   "metadata": {},
   "outputs": [
    {
     "data": {
      "text/plain": [
       "88135"
      ]
     },
     "execution_count": 23,
     "metadata": {},
     "output_type": "execute_result"
    }
   ],
   "source": [
    "len(data['product_code'].unique())"
   ]
  },
  {
   "cell_type": "markdown",
   "metadata": {},
   "source": [
    "### 결과:\n",
    "\n",
    "- 총 647054 데이터 중 유니크한 company code 5893으로 분류\n",
    "- "
   ]
  }
 ],
 "metadata": {
  "kernelspec": {
   "display_name": "Python 3",
   "language": "python",
   "name": "python3"
  },
  "language_info": {
   "codemirror_mode": {
    "name": "ipython",
    "version": 3
   },
   "file_extension": ".py",
   "mimetype": "text/x-python",
   "name": "python",
   "nbconvert_exporter": "python",
   "pygments_lexer": "ipython3",
   "version": "3.5.0"
  }
 },
 "nbformat": 4,
 "nbformat_minor": 2
}
