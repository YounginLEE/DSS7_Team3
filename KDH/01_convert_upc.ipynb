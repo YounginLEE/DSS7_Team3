{
 "cells": [
  {
   "cell_type": "markdown",
   "metadata": {},
   "source": [
    "## UPC에 관하여\n",
    "- 1자리: UPC 코드 첫째자리의 넘버시스템 캐릭터는 뒤의 나머지 숫자의 분류뿐만 아니라 의미를 해결하는데 도움을 준다.\n",
    "    - 0, 6, 7, 8 : 아래를 제외한 모든 제품에 부여\n",
    "    - 2 : 중량단위로 판매되는 가변 중량상품(random weight item: 육류,치즈 등)에 부여\n",
    "    - 3 : 의약품, 건강관련제품에 부여\n",
    "    - 4 : 점포내 판매를 목적으로 소매업자에 의해 마킹되는 제품에 부여(인스토아마킹용)\n",
    "    - 5 : 쿠폰에 부여\n",
    "    \n",
    "- 5자리: 제조업체코드(Manufacturer Identification Number : 5 자리)\n",
    "    - 제조업체코드는 UPC 코드관리기관인 UCC(Uniform Code Council)에서 각 제조업체에 부여합니다.\n",
    "    \n",
    "- 5자리: 상품품목코드(Item Code Number : 5자리 )\n",
    "    - 상품품목코드는 제조업체가 부여하고 관리하는 코드입니다.\n",
    "    \n",
    "- 1자리: 체크디지트 (Check Digit : 1자리 )\n",
    "    - EAN코드와 마찬가지로 모듈러스 10(modulus 10)방식으로 계산하여 부여하는 코드입니다.\n",
    "    \n",
    "----------------------------------------------------------------------\n",
    "- `1유형` : 제조업체코드 5자리 중 뒤의 3자리가 000, 100, 200으로 끝나는 경우로, 단축형으로 사용할 수 있는 상품품목코드는 00000 ~ 00999로서 최대 1,000품목까지 사용이 가능합니다.\n",
    "\n",
    "- `2유형` : 제조업체코드 5자리 중 뒤의 3자리가 300, 400, 500, 600, 700, 800, 900으로 끝나는 경우로, 단축형으로 사용할 수 있는 상품품목코드는 00000 ~ 00099로서 최대 100품목까지 사용이 가능합니다. \n",
    "\n",
    "- `3유형` : 제조업체코드 5자리 중 뒤의 2자리가 10, 20, 30, 40, 50, 60, 70, 80, 90으로 끝나는 경우로, 단축형으로 사용할 수 있는 상품품목코드는 00000 ~ 00009로서 최대 10품목까지 사용이 가능합니다. \n",
    "\n",
    "- `4유형` : 제조업체코드 5자리가 0으로 끝나지 않는 경우로 단축형으로 사용할 수 있는 상품품목 코드는 00005 ~ 00009로서 최대 5품목까지 사용이 가능합니다.\n",
    "\n",
    "- 예를들어:\n",
    "    - 1유형의경우... \n",
    "    - 0 57100 00264 9 \n",
    "    - 0 `5 7` `2 6 4 1 9"
   ]
  },
  {
   "cell_type": "code",
   "execution_count": 1,
   "metadata": {},
   "outputs": [
    {
     "data": {
      "text/html": [
       "<div>\n",
       "<style scoped>\n",
       "    .dataframe tbody tr th:only-of-type {\n",
       "        vertical-align: middle;\n",
       "    }\n",
       "\n",
       "    .dataframe tbody tr th {\n",
       "        vertical-align: top;\n",
       "    }\n",
       "\n",
       "    .dataframe thead th {\n",
       "        text-align: right;\n",
       "    }\n",
       "</style>\n",
       "<table border=\"1\" class=\"dataframe\">\n",
       "  <thead>\n",
       "    <tr style=\"text-align: right;\">\n",
       "      <th></th>\n",
       "      <th>TripType</th>\n",
       "      <th>VisitNumber</th>\n",
       "      <th>Weekday</th>\n",
       "      <th>Upc</th>\n",
       "      <th>ScanCount</th>\n",
       "      <th>DepartmentDescription</th>\n",
       "      <th>FinelineNumber</th>\n",
       "    </tr>\n",
       "  </thead>\n",
       "  <tbody>\n",
       "    <tr>\n",
       "      <th>0</th>\n",
       "      <td>999</td>\n",
       "      <td>5</td>\n",
       "      <td>Friday</td>\n",
       "      <td>6.811315e+10</td>\n",
       "      <td>-1</td>\n",
       "      <td>FINANCIAL SERVICES</td>\n",
       "      <td>1000.0</td>\n",
       "    </tr>\n",
       "    <tr>\n",
       "      <th>1</th>\n",
       "      <td>30</td>\n",
       "      <td>7</td>\n",
       "      <td>Friday</td>\n",
       "      <td>6.053882e+10</td>\n",
       "      <td>1</td>\n",
       "      <td>SHOES</td>\n",
       "      <td>8931.0</td>\n",
       "    </tr>\n",
       "    <tr>\n",
       "      <th>2</th>\n",
       "      <td>30</td>\n",
       "      <td>7</td>\n",
       "      <td>Friday</td>\n",
       "      <td>7.410811e+09</td>\n",
       "      <td>1</td>\n",
       "      <td>PERSONAL CARE</td>\n",
       "      <td>4504.0</td>\n",
       "    </tr>\n",
       "    <tr>\n",
       "      <th>3</th>\n",
       "      <td>26</td>\n",
       "      <td>8</td>\n",
       "      <td>Friday</td>\n",
       "      <td>2.238404e+09</td>\n",
       "      <td>2</td>\n",
       "      <td>PAINT AND ACCESSORIES</td>\n",
       "      <td>3565.0</td>\n",
       "    </tr>\n",
       "    <tr>\n",
       "      <th>4</th>\n",
       "      <td>26</td>\n",
       "      <td>8</td>\n",
       "      <td>Friday</td>\n",
       "      <td>2.006614e+09</td>\n",
       "      <td>2</td>\n",
       "      <td>PAINT AND ACCESSORIES</td>\n",
       "      <td>1017.0</td>\n",
       "    </tr>\n",
       "  </tbody>\n",
       "</table>\n",
       "</div>"
      ],
      "text/plain": [
       "   TripType  VisitNumber Weekday           Upc  ScanCount  \\\n",
       "0       999            5  Friday  6.811315e+10         -1   \n",
       "1        30            7  Friday  6.053882e+10          1   \n",
       "2        30            7  Friday  7.410811e+09          1   \n",
       "3        26            8  Friday  2.238404e+09          2   \n",
       "4        26            8  Friday  2.006614e+09          2   \n",
       "\n",
       "   DepartmentDescription  FinelineNumber  \n",
       "0     FINANCIAL SERVICES          1000.0  \n",
       "1                  SHOES          8931.0  \n",
       "2          PERSONAL CARE          4504.0  \n",
       "3  PAINT AND ACCESSORIES          3565.0  \n",
       "4  PAINT AND ACCESSORIES          1017.0  "
      ]
     },
     "execution_count": 1,
     "metadata": {},
     "output_type": "execute_result"
    }
   ],
   "source": [
    "data = pd.read_csv('../data/train.csv')\n",
    "data.head()"
   ]
  },
  {
   "cell_type": "code",
   "execution_count": 2,
   "metadata": {},
   "outputs": [],
   "source": [
    "data['Upc'] = data['Upc'].fillna(value = 0)\n"
   ]
  },
  {
   "cell_type": "code",
   "execution_count": 3,
   "metadata": {},
   "outputs": [
    {
     "data": {
      "text/plain": [
       "501138607481.0"
      ]
     },
     "execution_count": 3,
     "metadata": {},
     "output_type": "execute_result"
    }
   ],
   "source": [
    "data.iloc[48, 3]"
   ]
  },
  {
   "cell_type": "code",
   "execution_count": 4,
   "metadata": {
    "scrolled": true
   },
   "outputs": [
    {
     "data": {
      "text/html": [
       "<div>\n",
       "<style scoped>\n",
       "    .dataframe tbody tr th:only-of-type {\n",
       "        vertical-align: middle;\n",
       "    }\n",
       "\n",
       "    .dataframe tbody tr th {\n",
       "        vertical-align: top;\n",
       "    }\n",
       "\n",
       "    .dataframe thead th {\n",
       "        text-align: right;\n",
       "    }\n",
       "</style>\n",
       "<table border=\"1\" class=\"dataframe\">\n",
       "  <thead>\n",
       "    <tr style=\"text-align: right;\">\n",
       "      <th></th>\n",
       "      <th>TripType</th>\n",
       "      <th>VisitNumber</th>\n",
       "      <th>Weekday</th>\n",
       "      <th>Upc</th>\n",
       "      <th>ScanCount</th>\n",
       "      <th>DepartmentDescription</th>\n",
       "      <th>FinelineNumber</th>\n",
       "    </tr>\n",
       "  </thead>\n",
       "  <tbody>\n",
       "    <tr>\n",
       "      <th>0</th>\n",
       "      <td>999</td>\n",
       "      <td>5</td>\n",
       "      <td>Friday</td>\n",
       "      <td>68113152929</td>\n",
       "      <td>-1</td>\n",
       "      <td>FINANCIAL SERVICES</td>\n",
       "      <td>1000.0</td>\n",
       "    </tr>\n",
       "    <tr>\n",
       "      <th>1</th>\n",
       "      <td>30</td>\n",
       "      <td>7</td>\n",
       "      <td>Friday</td>\n",
       "      <td>60538815980</td>\n",
       "      <td>1</td>\n",
       "      <td>SHOES</td>\n",
       "      <td>8931.0</td>\n",
       "    </tr>\n",
       "    <tr>\n",
       "      <th>2</th>\n",
       "      <td>30</td>\n",
       "      <td>7</td>\n",
       "      <td>Friday</td>\n",
       "      <td>7410811099</td>\n",
       "      <td>1</td>\n",
       "      <td>PERSONAL CARE</td>\n",
       "      <td>4504.0</td>\n",
       "    </tr>\n",
       "    <tr>\n",
       "      <th>3</th>\n",
       "      <td>26</td>\n",
       "      <td>8</td>\n",
       "      <td>Friday</td>\n",
       "      <td>2238403510</td>\n",
       "      <td>2</td>\n",
       "      <td>PAINT AND ACCESSORIES</td>\n",
       "      <td>3565.0</td>\n",
       "    </tr>\n",
       "    <tr>\n",
       "      <th>4</th>\n",
       "      <td>26</td>\n",
       "      <td>8</td>\n",
       "      <td>Friday</td>\n",
       "      <td>2006613744</td>\n",
       "      <td>2</td>\n",
       "      <td>PAINT AND ACCESSORIES</td>\n",
       "      <td>1017.0</td>\n",
       "    </tr>\n",
       "  </tbody>\n",
       "</table>\n",
       "</div>"
      ],
      "text/plain": [
       "   TripType  VisitNumber Weekday          Upc  ScanCount  \\\n",
       "0       999            5  Friday  68113152929         -1   \n",
       "1        30            7  Friday  60538815980          1   \n",
       "2        30            7  Friday   7410811099          1   \n",
       "3        26            8  Friday   2238403510          2   \n",
       "4        26            8  Friday   2006613744          2   \n",
       "\n",
       "   DepartmentDescription  FinelineNumber  \n",
       "0     FINANCIAL SERVICES          1000.0  \n",
       "1                  SHOES          8931.0  \n",
       "2          PERSONAL CARE          4504.0  \n",
       "3  PAINT AND ACCESSORIES          3565.0  \n",
       "4  PAINT AND ACCESSORIES          1017.0  "
      ]
     },
     "execution_count": 4,
     "metadata": {},
     "output_type": "execute_result"
    }
   ],
   "source": [
    "data['Upc'] = data['Upc'].astype(int)\n",
    "data.head()"
   ]
  },
  {
   "cell_type": "code",
   "execution_count": 5,
   "metadata": {},
   "outputs": [],
   "source": [
    "def check_len(upc):\n",
    "    return len(str(upc))"
   ]
  },
  {
   "cell_type": "code",
   "execution_count": 6,
   "metadata": {},
   "outputs": [],
   "source": [
    "data['len(upc)'] = data['Upc'].apply(check_len)"
   ]
  },
  {
   "cell_type": "code",
   "execution_count": 7,
   "metadata": {},
   "outputs": [
    {
     "data": {
      "text/plain": [
       "array([11, 10,  1,  4, 12,  9,  5,  8,  3,  7])"
      ]
     },
     "execution_count": 7,
     "metadata": {},
     "output_type": "execute_result"
    }
   ],
   "source": [
    "data['len(upc)'].unique()"
   ]
  },
  {
   "cell_type": "code",
   "execution_count": 8,
   "metadata": {},
   "outputs": [
    {
     "data": {
      "text/html": [
       "<div>\n",
       "<style scoped>\n",
       "    .dataframe tbody tr th:only-of-type {\n",
       "        vertical-align: middle;\n",
       "    }\n",
       "\n",
       "    .dataframe tbody tr th {\n",
       "        vertical-align: top;\n",
       "    }\n",
       "\n",
       "    .dataframe thead th {\n",
       "        text-align: right;\n",
       "    }\n",
       "</style>\n",
       "<table border=\"1\" class=\"dataframe\">\n",
       "  <thead>\n",
       "    <tr style=\"text-align: right;\">\n",
       "      <th></th>\n",
       "      <th>TripType</th>\n",
       "      <th>VisitNumber</th>\n",
       "      <th>Weekday</th>\n",
       "      <th>Upc</th>\n",
       "      <th>ScanCount</th>\n",
       "      <th>DepartmentDescription</th>\n",
       "      <th>FinelineNumber</th>\n",
       "      <th>len(upc)</th>\n",
       "    </tr>\n",
       "  </thead>\n",
       "  <tbody>\n",
       "    <tr>\n",
       "      <th>0</th>\n",
       "      <td>999</td>\n",
       "      <td>5</td>\n",
       "      <td>Friday</td>\n",
       "      <td>68113152929</td>\n",
       "      <td>-1</td>\n",
       "      <td>FINANCIAL SERVICES</td>\n",
       "      <td>1000.0</td>\n",
       "      <td>11</td>\n",
       "    </tr>\n",
       "    <tr>\n",
       "      <th>1</th>\n",
       "      <td>30</td>\n",
       "      <td>7</td>\n",
       "      <td>Friday</td>\n",
       "      <td>60538815980</td>\n",
       "      <td>1</td>\n",
       "      <td>SHOES</td>\n",
       "      <td>8931.0</td>\n",
       "      <td>11</td>\n",
       "    </tr>\n",
       "    <tr>\n",
       "      <th>2</th>\n",
       "      <td>30</td>\n",
       "      <td>7</td>\n",
       "      <td>Friday</td>\n",
       "      <td>7410811099</td>\n",
       "      <td>1</td>\n",
       "      <td>PERSONAL CARE</td>\n",
       "      <td>4504.0</td>\n",
       "      <td>10</td>\n",
       "    </tr>\n",
       "    <tr>\n",
       "      <th>3</th>\n",
       "      <td>26</td>\n",
       "      <td>8</td>\n",
       "      <td>Friday</td>\n",
       "      <td>2238403510</td>\n",
       "      <td>2</td>\n",
       "      <td>PAINT AND ACCESSORIES</td>\n",
       "      <td>3565.0</td>\n",
       "      <td>10</td>\n",
       "    </tr>\n",
       "    <tr>\n",
       "      <th>4</th>\n",
       "      <td>26</td>\n",
       "      <td>8</td>\n",
       "      <td>Friday</td>\n",
       "      <td>2006613744</td>\n",
       "      <td>2</td>\n",
       "      <td>PAINT AND ACCESSORIES</td>\n",
       "      <td>1017.0</td>\n",
       "      <td>10</td>\n",
       "    </tr>\n",
       "  </tbody>\n",
       "</table>\n",
       "</div>"
      ],
      "text/plain": [
       "   TripType  VisitNumber Weekday          Upc  ScanCount  \\\n",
       "0       999            5  Friday  68113152929         -1   \n",
       "1        30            7  Friday  60538815980          1   \n",
       "2        30            7  Friday   7410811099          1   \n",
       "3        26            8  Friday   2238403510          2   \n",
       "4        26            8  Friday   2006613744          2   \n",
       "\n",
       "   DepartmentDescription  FinelineNumber  len(upc)  \n",
       "0     FINANCIAL SERVICES          1000.0        11  \n",
       "1                  SHOES          8931.0        11  \n",
       "2          PERSONAL CARE          4504.0        10  \n",
       "3  PAINT AND ACCESSORIES          3565.0        10  \n",
       "4  PAINT AND ACCESSORIES          1017.0        10  "
      ]
     },
     "execution_count": 8,
     "metadata": {},
     "output_type": "execute_result"
    }
   ],
   "source": [
    "data.head()"
   ]
  },
  {
   "cell_type": "code",
   "execution_count": 9,
   "metadata": {
    "scrolled": true
   },
   "outputs": [
    {
     "data": {
      "text/html": [
       "<div>\n",
       "<style scoped>\n",
       "    .dataframe tbody tr th:only-of-type {\n",
       "        vertical-align: middle;\n",
       "    }\n",
       "\n",
       "    .dataframe tbody tr th {\n",
       "        vertical-align: top;\n",
       "    }\n",
       "\n",
       "    .dataframe thead th {\n",
       "        text-align: right;\n",
       "    }\n",
       "</style>\n",
       "<table border=\"1\" class=\"dataframe\">\n",
       "  <thead>\n",
       "    <tr style=\"text-align: right;\">\n",
       "      <th></th>\n",
       "      <th>TripType</th>\n",
       "      <th>VisitNumber</th>\n",
       "      <th>Weekday</th>\n",
       "      <th>Upc</th>\n",
       "      <th>ScanCount</th>\n",
       "      <th>DepartmentDescription</th>\n",
       "      <th>FinelineNumber</th>\n",
       "      <th>len(upc)</th>\n",
       "    </tr>\n",
       "  </thead>\n",
       "  <tbody>\n",
       "    <tr>\n",
       "      <th>429744</th>\n",
       "      <td>40</td>\n",
       "      <td>127954</td>\n",
       "      <td>Thursday</td>\n",
       "      <td>834</td>\n",
       "      <td>1</td>\n",
       "      <td>BAKERY</td>\n",
       "      <td>5016.0</td>\n",
       "      <td>3</td>\n",
       "    </tr>\n",
       "    <tr>\n",
       "      <th>429745</th>\n",
       "      <td>40</td>\n",
       "      <td>127954</td>\n",
       "      <td>Thursday</td>\n",
       "      <td>834</td>\n",
       "      <td>2</td>\n",
       "      <td>BAKERY</td>\n",
       "      <td>5016.0</td>\n",
       "      <td>3</td>\n",
       "    </tr>\n",
       "    <tr>\n",
       "      <th>448895</th>\n",
       "      <td>39</td>\n",
       "      <td>134005</td>\n",
       "      <td>Friday</td>\n",
       "      <td>834</td>\n",
       "      <td>1</td>\n",
       "      <td>BAKERY</td>\n",
       "      <td>5016.0</td>\n",
       "      <td>3</td>\n",
       "    </tr>\n",
       "    <tr>\n",
       "      <th>629674</th>\n",
       "      <td>39</td>\n",
       "      <td>187105</td>\n",
       "      <td>Sunday</td>\n",
       "      <td>834</td>\n",
       "      <td>-1</td>\n",
       "      <td>BAKERY</td>\n",
       "      <td>5016.0</td>\n",
       "      <td>3</td>\n",
       "    </tr>\n",
       "    <tr>\n",
       "      <th>629675</th>\n",
       "      <td>39</td>\n",
       "      <td>187105</td>\n",
       "      <td>Sunday</td>\n",
       "      <td>834</td>\n",
       "      <td>1</td>\n",
       "      <td>BAKERY</td>\n",
       "      <td>5016.0</td>\n",
       "      <td>3</td>\n",
       "    </tr>\n",
       "    <tr>\n",
       "      <th>629676</th>\n",
       "      <td>39</td>\n",
       "      <td>187105</td>\n",
       "      <td>Sunday</td>\n",
       "      <td>834</td>\n",
       "      <td>1</td>\n",
       "      <td>BAKERY</td>\n",
       "      <td>5016.0</td>\n",
       "      <td>3</td>\n",
       "    </tr>\n",
       "    <tr>\n",
       "      <th>629677</th>\n",
       "      <td>39</td>\n",
       "      <td>187105</td>\n",
       "      <td>Sunday</td>\n",
       "      <td>834</td>\n",
       "      <td>1</td>\n",
       "      <td>BAKERY</td>\n",
       "      <td>5016.0</td>\n",
       "      <td>3</td>\n",
       "    </tr>\n",
       "  </tbody>\n",
       "</table>\n",
       "</div>"
      ],
      "text/plain": [
       "        TripType  VisitNumber   Weekday  Upc  ScanCount DepartmentDescription  \\\n",
       "429744        40       127954  Thursday  834          1                BAKERY   \n",
       "429745        40       127954  Thursday  834          2                BAKERY   \n",
       "448895        39       134005    Friday  834          1                BAKERY   \n",
       "629674        39       187105    Sunday  834         -1                BAKERY   \n",
       "629675        39       187105    Sunday  834          1                BAKERY   \n",
       "629676        39       187105    Sunday  834          1                BAKERY   \n",
       "629677        39       187105    Sunday  834          1                BAKERY   \n",
       "\n",
       "        FinelineNumber  len(upc)  \n",
       "429744          5016.0         3  \n",
       "429745          5016.0         3  \n",
       "448895          5016.0         3  \n",
       "629674          5016.0         3  \n",
       "629675          5016.0         3  \n",
       "629676          5016.0         3  \n",
       "629677          5016.0         3  "
      ]
     },
     "execution_count": 9,
     "metadata": {},
     "output_type": "execute_result"
    }
   ],
   "source": [
    "data[data['len(upc)'].isin([3])]"
   ]
  },
  {
   "cell_type": "code",
   "execution_count": 10,
   "metadata": {},
   "outputs": [
    {
     "data": {
      "text/plain": [
       "numpy.int64"
      ]
     },
     "execution_count": 10,
     "metadata": {},
     "output_type": "execute_result"
    }
   ],
   "source": [
    "type(data['Upc'].loc[0])"
   ]
  },
  {
   "cell_type": "code",
   "execution_count": 11,
   "metadata": {},
   "outputs": [
    {
     "data": {
      "text/plain": [
       "'995316'"
      ]
     },
     "execution_count": 11,
     "metadata": {},
     "output_type": "execute_result"
    }
   ],
   "source": [
    "s = \"68113152929\"[-1::-2]\n",
    "s"
   ]
  },
  {
   "cell_type": "code",
   "execution_count": 139,
   "metadata": {},
   "outputs": [
    {
     "data": {
      "text/plain": [
       "[27, 27, 15, 9, 3, 18]"
      ]
     },
     "execution_count": 139,
     "metadata": {},
     "output_type": "execute_result"
    }
   ],
   "source": [
    "s = \"68113152929\"[-1::-2]\n",
    "s = [int(i) for i in s]\n",
    "\n",
    "(list(map(lambda number : number * 3, s )))\n"
   ]
  },
  {
   "cell_type": "code",
   "execution_count": 55,
   "metadata": {},
   "outputs": [
    {
     "data": {
      "text/plain": [
       "24"
      ]
     },
     "execution_count": 55,
     "metadata": {},
     "output_type": "execute_result"
    }
   ],
   "source": [
    "\"68113152929\"[-2::-2]  # 짝수"
   ]
  },
  {
   "cell_type": "code",
   "execution_count": null,
   "metadata": {},
   "outputs": [],
   "source": [
    "# "
   ]
  },
  {
   "cell_type": "code",
   "execution_count": 121,
   "metadata": {},
   "outputs": [],
   "source": [
    "# check digit 구하는 함수\n",
    "\n",
    "def get_checkdigit(upc):\n",
    "    \n",
    "    odd_s = [int(i) for i in str(upc)[-1::-2]]\n",
    "    even_s = [int(i) for i in str(upc)[-2::-2]]\n",
    "    \n",
    "    odd_sum = sum(list(map(lambda number : number * 3, odd_s)))\n",
    "    even_sum = sum(list(map(lambda number : number, even_s)))\n",
    "    check_sum = (odd_sum + even_sum) % 10\n",
    "    \n",
    "\n",
    "    if check_sum == 0:\n",
    "        return check_sum\n",
    "    else:\n",
    "        return 10 - check_sum\n",
    "    "
   ]
  },
  {
   "cell_type": "code",
   "execution_count": 123,
   "metadata": {},
   "outputs": [
    {
     "data": {
      "text/plain": [
       "1"
      ]
     },
     "execution_count": 123,
     "metadata": {},
     "output_type": "execute_result"
    }
   ],
   "source": [
    "get_checkdigit(834)"
   ]
  },
  {
   "cell_type": "code",
   "execution_count": 95,
   "metadata": {},
   "outputs": [],
   "source": [
    "def add_checkdigit(upc):\n",
    "    return str(upc) + str(get_checkdigit(upc))"
   ]
  },
  {
   "cell_type": "code",
   "execution_count": 124,
   "metadata": {},
   "outputs": [
    {
     "data": {
      "text/plain": [
       "'8341'"
      ]
     },
     "execution_count": 124,
     "metadata": {},
     "output_type": "execute_result"
    }
   ],
   "source": [
    "add_checkdigit(834)"
   ]
  },
  {
   "cell_type": "code",
   "execution_count": 128,
   "metadata": {},
   "outputs": [],
   "source": [
    "def make_full_upc(upc):\n",
    "    \n",
    "    tmp_upc = add_checkdigit(upc)\n",
    "    \n",
    "    \n",
    "    if len(tmp_upc) < 12:\n",
    "        length = 12 - len(tmp_upc)\n",
    "        zero = \"0\" * length\n",
    "        standard_upc = zero + tmp_upc\n",
    "        return standard_upc\n",
    "    else:\n",
    "        return tmp_upc "
   ]
  },
  {
   "cell_type": "code",
   "execution_count": 112,
   "metadata": {},
   "outputs": [
    {
     "data": {
      "text/plain": [
       "[4, 8]"
      ]
     },
     "execution_count": 112,
     "metadata": {},
     "output_type": "execute_result"
    }
   ],
   "source": [
    "odd_s = [int(i) for i in str(834)[-1::-2]]\n",
    "odd_s"
   ]
  },
  {
   "cell_type": "code",
   "execution_count": 113,
   "metadata": {},
   "outputs": [
    {
     "data": {
      "text/plain": [
       "[3]"
      ]
     },
     "execution_count": 113,
     "metadata": {},
     "output_type": "execute_result"
    }
   ],
   "source": [
    "even_s = [int(i) for i in str(834)[-2::-2]]\n",
    "even_s"
   ]
  },
  {
   "cell_type": "code",
   "execution_count": 114,
   "metadata": {},
   "outputs": [],
   "source": [
    "odd_sum = sum(list(map(lambda number : number * 3, odd_s)))\n",
    "even_sum = sum(list(map(lambda number : number, even_s)))"
   ]
  },
  {
   "cell_type": "code",
   "execution_count": 115,
   "metadata": {},
   "outputs": [
    {
     "data": {
      "text/plain": [
       "36"
      ]
     },
     "execution_count": 115,
     "metadata": {},
     "output_type": "execute_result"
    }
   ],
   "source": [
    "odd_sum"
   ]
  },
  {
   "cell_type": "code",
   "execution_count": 116,
   "metadata": {},
   "outputs": [
    {
     "data": {
      "text/plain": [
       "3"
      ]
     },
     "execution_count": 116,
     "metadata": {},
     "output_type": "execute_result"
    }
   ],
   "source": [
    "even_sum"
   ]
  },
  {
   "cell_type": "code",
   "execution_count": null,
   "metadata": {},
   "outputs": [],
   "source": []
  },
  {
   "cell_type": "code",
   "execution_count": 86,
   "metadata": {
    "scrolled": true
   },
   "outputs": [
    {
     "data": {
      "text/plain": [
       "'834<function get_checkdigit at 0x10b422378>'"
      ]
     },
     "execution_count": 86,
     "metadata": {},
     "output_type": "execute_result"
    }
   ],
   "source": [
    "make_full_upc(834)"
   ]
  },
  {
   "cell_type": "code",
   "execution_count": 109,
   "metadata": {
    "scrolled": true
   },
   "outputs": [
    {
     "data": {
      "text/plain": [
       "1"
      ]
     },
     "execution_count": 109,
     "metadata": {},
     "output_type": "execute_result"
    }
   ],
   "source": [
    "get_checkdigit(834)"
   ]
  },
  {
   "cell_type": "code",
   "execution_count": 103,
   "metadata": {},
   "outputs": [],
   "source": [
    "s = 49 % 10"
   ]
  },
  {
   "cell_type": "code",
   "execution_count": 104,
   "metadata": {},
   "outputs": [
    {
     "data": {
      "text/plain": [
       "1"
      ]
     },
     "execution_count": 104,
     "metadata": {},
     "output_type": "execute_result"
    }
   ],
   "source": [
    "10 - s"
   ]
  },
  {
   "cell_type": "code",
   "execution_count": null,
   "metadata": {},
   "outputs": [],
   "source": []
  },
  {
   "cell_type": "code",
   "execution_count": 51,
   "metadata": {},
   "outputs": [
    {
     "data": {
      "text/plain": [
       "42"
      ]
     },
     "execution_count": 51,
     "metadata": {},
     "output_type": "execute_result"
    }
   ],
   "source": [
    "(0 + 8 + 1 + 1 + 2 + 2) * 3a"
   ]
  },
  {
   "cell_type": "code",
   "execution_count": 48,
   "metadata": {},
   "outputs": [
    {
     "data": {
      "text/plain": [
       "113"
      ]
     },
     "execution_count": 48,
     "metadata": {},
     "output_type": "execute_result"
    }
   ],
   "source": [
    "99 + 14"
   ]
  },
  {
   "cell_type": "code",
   "execution_count": 29,
   "metadata": {},
   "outputs": [
    {
     "data": {
      "text/plain": [
       "51"
      ]
     },
     "execution_count": 29,
     "metadata": {},
     "output_type": "execute_result"
    }
   ],
   "source": [
    "(6 + 4 + 4 + 0 + 0 + 3) * 3"
   ]
  },
  {
   "cell_type": "code",
   "execution_count": 34,
   "metadata": {},
   "outputs": [
    {
     "name": "stdout",
     "output_type": "stream",
     "text": [
      "501138607481\n",
      "140810\n",
      "876315\n"
     ]
    }
   ],
   "source": [
    "print(\"501138607481\")\n",
    "print(\"501138607481\"[-1::-2])\n",
    "print(\"501138607481\"[-2::-2])"
   ]
  },
  {
   "cell_type": "code",
   "execution_count": null,
   "metadata": {},
   "outputs": [],
   "source": [
    "361422003835"
   ]
  },
  {
   "cell_type": "code",
   "execution_count": 43,
   "metadata": {},
   "outputs": [
    {
     "data": {
      "text/plain": [
       "36"
      ]
     },
     "execution_count": 43,
     "metadata": {},
     "output_type": "execute_result"
    }
   ],
   "source": [
    "(3 + 1 + 2 + 0 + 3 + 3) * 3"
   ]
  },
  {
   "cell_type": "code",
   "execution_count": 44,
   "metadata": {},
   "outputs": [
    {
     "data": {
      "text/plain": [
       "20"
      ]
     },
     "execution_count": 44,
     "metadata": {},
     "output_type": "execute_result"
    }
   ],
   "source": [
    "6 + 4 + 2 + 0 +8"
   ]
  },
  {
   "cell_type": "code",
   "execution_count": 40,
   "metadata": {},
   "outputs": [
    {
     "data": {
      "text/plain": [
       "5"
      ]
     },
     "execution_count": 40,
     "metadata": {},
     "output_type": "execute_result"
    }
   ],
   "source": [
    "1 + 4+ 0 * + 1 + 0"
   ]
  },
  {
   "cell_type": "code",
   "execution_count": 42,
   "metadata": {},
   "outputs": [
    {
     "data": {
      "text/plain": [
       "90"
      ]
     },
     "execution_count": 42,
     "metadata": {},
     "output_type": "execute_result"
    }
   ],
   "source": [
    "(8 + 7 + 6 + 3 + 1 + 5) * 3"
   ]
  },
  {
   "cell_type": "code",
   "execution_count": 14,
   "metadata": {},
   "outputs": [
    {
     "data": {
      "text/html": [
       "<div>\n",
       "<style scoped>\n",
       "    .dataframe tbody tr th:only-of-type {\n",
       "        vertical-align: middle;\n",
       "    }\n",
       "\n",
       "    .dataframe tbody tr th {\n",
       "        vertical-align: top;\n",
       "    }\n",
       "\n",
       "    .dataframe thead th {\n",
       "        text-align: right;\n",
       "    }\n",
       "</style>\n",
       "<table border=\"1\" class=\"dataframe\">\n",
       "  <thead>\n",
       "    <tr style=\"text-align: right;\">\n",
       "      <th></th>\n",
       "      <th>TripType</th>\n",
       "      <th>VisitNumber</th>\n",
       "      <th>Weekday</th>\n",
       "      <th>Upc</th>\n",
       "      <th>ScanCount</th>\n",
       "      <th>DepartmentDescription</th>\n",
       "      <th>FinelineNumber</th>\n",
       "      <th>len(upc)</th>\n",
       "    </tr>\n",
       "  </thead>\n",
       "  <tbody>\n",
       "    <tr>\n",
       "      <th>48</th>\n",
       "      <td>21</td>\n",
       "      <td>15</td>\n",
       "      <td>Friday</td>\n",
       "      <td>501138607481</td>\n",
       "      <td>1</td>\n",
       "      <td>FABRICS AND CRAFTS</td>\n",
       "      <td>1309.0</td>\n",
       "      <td>12</td>\n",
       "    </tr>\n",
       "    <tr>\n",
       "      <th>50</th>\n",
       "      <td>21</td>\n",
       "      <td>15</td>\n",
       "      <td>Friday</td>\n",
       "      <td>501138610338</td>\n",
       "      <td>1</td>\n",
       "      <td>FABRICS AND CRAFTS</td>\n",
       "      <td>1309.0</td>\n",
       "      <td>12</td>\n",
       "    </tr>\n",
       "    <tr>\n",
       "      <th>58</th>\n",
       "      <td>42</td>\n",
       "      <td>19</td>\n",
       "      <td>Friday</td>\n",
       "      <td>692656840005</td>\n",
       "      <td>1</td>\n",
       "      <td>FABRICS AND CRAFTS</td>\n",
       "      <td>397.0</td>\n",
       "      <td>12</td>\n",
       "    </tr>\n",
       "    <tr>\n",
       "      <th>60</th>\n",
       "      <td>42</td>\n",
       "      <td>19</td>\n",
       "      <td>Friday</td>\n",
       "      <td>695334428094</td>\n",
       "      <td>1</td>\n",
       "      <td>ACCESSORIES</td>\n",
       "      <td>122.0</td>\n",
       "      <td>12</td>\n",
       "    </tr>\n",
       "    <tr>\n",
       "      <th>67</th>\n",
       "      <td>9</td>\n",
       "      <td>23</td>\n",
       "      <td>Friday</td>\n",
       "      <td>692249579995</td>\n",
       "      <td>1</td>\n",
       "      <td>HOME MANAGEMENT</td>\n",
       "      <td>3005.0</td>\n",
       "      <td>12</td>\n",
       "    </tr>\n",
       "    <tr>\n",
       "      <th>80</th>\n",
       "      <td>25</td>\n",
       "      <td>28</td>\n",
       "      <td>Friday</td>\n",
       "      <td>880552311919</td>\n",
       "      <td>1</td>\n",
       "      <td>LADIESWEAR</td>\n",
       "      <td>313.0</td>\n",
       "      <td>12</td>\n",
       "    </tr>\n",
       "    <tr>\n",
       "      <th>163</th>\n",
       "      <td>39</td>\n",
       "      <td>79</td>\n",
       "      <td>Friday</td>\n",
       "      <td>694147116161</td>\n",
       "      <td>2</td>\n",
       "      <td>OFFICE SUPPLIES</td>\n",
       "      <td>5806.0</td>\n",
       "      <td>12</td>\n",
       "    </tr>\n",
       "    <tr>\n",
       "      <th>423</th>\n",
       "      <td>42</td>\n",
       "      <td>214</td>\n",
       "      <td>Friday</td>\n",
       "      <td>978140544941</td>\n",
       "      <td>1</td>\n",
       "      <td>BOOKS AND MAGAZINES</td>\n",
       "      <td>2120.0</td>\n",
       "      <td>12</td>\n",
       "    </tr>\n",
       "    <tr>\n",
       "      <th>432</th>\n",
       "      <td>42</td>\n",
       "      <td>217</td>\n",
       "      <td>Friday</td>\n",
       "      <td>692715640010</td>\n",
       "      <td>1</td>\n",
       "      <td>FABRICS AND CRAFTS</td>\n",
       "      <td>412.0</td>\n",
       "      <td>12</td>\n",
       "    </tr>\n",
       "    <tr>\n",
       "      <th>579</th>\n",
       "      <td>25</td>\n",
       "      <td>275</td>\n",
       "      <td>Friday</td>\n",
       "      <td>880552312077</td>\n",
       "      <td>1</td>\n",
       "      <td>LADIESWEAR</td>\n",
       "      <td>3120.0</td>\n",
       "      <td>12</td>\n",
       "    </tr>\n",
       "    <tr>\n",
       "      <th>583</th>\n",
       "      <td>25</td>\n",
       "      <td>275</td>\n",
       "      <td>Friday</td>\n",
       "      <td>880937758571</td>\n",
       "      <td>1</td>\n",
       "      <td>LADIESWEAR</td>\n",
       "      <td>1217.0</td>\n",
       "      <td>12</td>\n",
       "    </tr>\n",
       "    <tr>\n",
       "      <th>946</th>\n",
       "      <td>25</td>\n",
       "      <td>402</td>\n",
       "      <td>Friday</td>\n",
       "      <td>471369833393</td>\n",
       "      <td>1</td>\n",
       "      <td>MENS WEAR</td>\n",
       "      <td>5434.0</td>\n",
       "      <td>12</td>\n",
       "    </tr>\n",
       "    <tr>\n",
       "      <th>1078</th>\n",
       "      <td>20</td>\n",
       "      <td>461</td>\n",
       "      <td>Friday</td>\n",
       "      <td>896400099838</td>\n",
       "      <td>1</td>\n",
       "      <td>BATH AND SHOWER</td>\n",
       "      <td>421.0</td>\n",
       "      <td>12</td>\n",
       "    </tr>\n",
       "    <tr>\n",
       "      <th>1324</th>\n",
       "      <td>25</td>\n",
       "      <td>567</td>\n",
       "      <td>Friday</td>\n",
       "      <td>896110116812</td>\n",
       "      <td>1</td>\n",
       "      <td>BOYS WEAR</td>\n",
       "      <td>4648.0</td>\n",
       "      <td>12</td>\n",
       "    </tr>\n",
       "    <tr>\n",
       "      <th>1325</th>\n",
       "      <td>25</td>\n",
       "      <td>567</td>\n",
       "      <td>Friday</td>\n",
       "      <td>896110116812</td>\n",
       "      <td>2</td>\n",
       "      <td>BOYS WEAR</td>\n",
       "      <td>4648.0</td>\n",
       "      <td>12</td>\n",
       "    </tr>\n",
       "    <tr>\n",
       "      <th>1360</th>\n",
       "      <td>39</td>\n",
       "      <td>584</td>\n",
       "      <td>Friday</td>\n",
       "      <td>880632366619</td>\n",
       "      <td>1</td>\n",
       "      <td>LADIESWEAR</td>\n",
       "      <td>312.0</td>\n",
       "      <td>12</td>\n",
       "    </tr>\n",
       "    <tr>\n",
       "      <th>1382</th>\n",
       "      <td>40</td>\n",
       "      <td>592</td>\n",
       "      <td>Friday</td>\n",
       "      <td>489703051032</td>\n",
       "      <td>1</td>\n",
       "      <td>COOK AND DINE</td>\n",
       "      <td>371.0</td>\n",
       "      <td>12</td>\n",
       "    </tr>\n",
       "    <tr>\n",
       "      <th>1468</th>\n",
       "      <td>25</td>\n",
       "      <td>627</td>\n",
       "      <td>Friday</td>\n",
       "      <td>880615608470</td>\n",
       "      <td>1</td>\n",
       "      <td>LADIESWEAR</td>\n",
       "      <td>610.0</td>\n",
       "      <td>12</td>\n",
       "    </tr>\n",
       "    <tr>\n",
       "      <th>1504</th>\n",
       "      <td>9</td>\n",
       "      <td>644</td>\n",
       "      <td>Friday</td>\n",
       "      <td>880615608488</td>\n",
       "      <td>1</td>\n",
       "      <td>LADIESWEAR</td>\n",
       "      <td>610.0</td>\n",
       "      <td>12</td>\n",
       "    </tr>\n",
       "    <tr>\n",
       "      <th>1652</th>\n",
       "      <td>40</td>\n",
       "      <td>725</td>\n",
       "      <td>Friday</td>\n",
       "      <td>694722580471</td>\n",
       "      <td>1</td>\n",
       "      <td>COOK AND DINE</td>\n",
       "      <td>1809.0</td>\n",
       "      <td>12</td>\n",
       "    </tr>\n",
       "    <tr>\n",
       "      <th>1729</th>\n",
       "      <td>30</td>\n",
       "      <td>737</td>\n",
       "      <td>Friday</td>\n",
       "      <td>880615609513</td>\n",
       "      <td>1</td>\n",
       "      <td>LADIESWEAR</td>\n",
       "      <td>414.0</td>\n",
       "      <td>12</td>\n",
       "    </tr>\n",
       "    <tr>\n",
       "      <th>1742</th>\n",
       "      <td>42</td>\n",
       "      <td>745</td>\n",
       "      <td>Friday</td>\n",
       "      <td>896110116718</td>\n",
       "      <td>1</td>\n",
       "      <td>BOYS WEAR</td>\n",
       "      <td>4648.0</td>\n",
       "      <td>12</td>\n",
       "    </tr>\n",
       "    <tr>\n",
       "      <th>1778</th>\n",
       "      <td>25</td>\n",
       "      <td>772</td>\n",
       "      <td>Friday</td>\n",
       "      <td>695334428099</td>\n",
       "      <td>1</td>\n",
       "      <td>ACCESSORIES</td>\n",
       "      <td>122.0</td>\n",
       "      <td>12</td>\n",
       "    </tr>\n",
       "    <tr>\n",
       "      <th>1809</th>\n",
       "      <td>40</td>\n",
       "      <td>784</td>\n",
       "      <td>Friday</td>\n",
       "      <td>489703051032</td>\n",
       "      <td>1</td>\n",
       "      <td>COOK AND DINE</td>\n",
       "      <td>371.0</td>\n",
       "      <td>12</td>\n",
       "    </tr>\n",
       "    <tr>\n",
       "      <th>1820</th>\n",
       "      <td>37</td>\n",
       "      <td>792</td>\n",
       "      <td>Friday</td>\n",
       "      <td>489704605011</td>\n",
       "      <td>1</td>\n",
       "      <td>FABRICS AND CRAFTS</td>\n",
       "      <td>7013.0</td>\n",
       "      <td>12</td>\n",
       "    </tr>\n",
       "    <tr>\n",
       "      <th>1825</th>\n",
       "      <td>37</td>\n",
       "      <td>792</td>\n",
       "      <td>Friday</td>\n",
       "      <td>489704605014</td>\n",
       "      <td>1</td>\n",
       "      <td>FABRICS AND CRAFTS</td>\n",
       "      <td>7013.0</td>\n",
       "      <td>12</td>\n",
       "    </tr>\n",
       "    <tr>\n",
       "      <th>1871</th>\n",
       "      <td>41</td>\n",
       "      <td>816</td>\n",
       "      <td>Friday</td>\n",
       "      <td>694530150199</td>\n",
       "      <td>1</td>\n",
       "      <td>HOME DECOR</td>\n",
       "      <td>906.0</td>\n",
       "      <td>12</td>\n",
       "    </tr>\n",
       "    <tr>\n",
       "      <th>1890</th>\n",
       "      <td>25</td>\n",
       "      <td>826</td>\n",
       "      <td>Friday</td>\n",
       "      <td>880632365930</td>\n",
       "      <td>1</td>\n",
       "      <td>LADIESWEAR</td>\n",
       "      <td>313.0</td>\n",
       "      <td>12</td>\n",
       "    </tr>\n",
       "    <tr>\n",
       "      <th>1901</th>\n",
       "      <td>999</td>\n",
       "      <td>829</td>\n",
       "      <td>Friday</td>\n",
       "      <td>471984904046</td>\n",
       "      <td>-1</td>\n",
       "      <td>GIRLS WEAR, 4-6X  AND 7-14</td>\n",
       "      <td>2710.0</td>\n",
       "      <td>12</td>\n",
       "    </tr>\n",
       "    <tr>\n",
       "      <th>1902</th>\n",
       "      <td>999</td>\n",
       "      <td>829</td>\n",
       "      <td>Friday</td>\n",
       "      <td>471984904041</td>\n",
       "      <td>-1</td>\n",
       "      <td>GIRLS WEAR, 4-6X  AND 7-14</td>\n",
       "      <td>2710.0</td>\n",
       "      <td>12</td>\n",
       "    </tr>\n",
       "    <tr>\n",
       "      <th>...</th>\n",
       "      <td>...</td>\n",
       "      <td>...</td>\n",
       "      <td>...</td>\n",
       "      <td>...</td>\n",
       "      <td>...</td>\n",
       "      <td>...</td>\n",
       "      <td>...</td>\n",
       "      <td>...</td>\n",
       "    </tr>\n",
       "    <tr>\n",
       "      <th>645300</th>\n",
       "      <td>32</td>\n",
       "      <td>190942</td>\n",
       "      <td>Sunday</td>\n",
       "      <td>489419004396</td>\n",
       "      <td>-1</td>\n",
       "      <td>BEDDING</td>\n",
       "      <td>7401.0</td>\n",
       "      <td>12</td>\n",
       "    </tr>\n",
       "    <tr>\n",
       "      <th>645301</th>\n",
       "      <td>32</td>\n",
       "      <td>190942</td>\n",
       "      <td>Sunday</td>\n",
       "      <td>489419004396</td>\n",
       "      <td>1</td>\n",
       "      <td>BEDDING</td>\n",
       "      <td>7401.0</td>\n",
       "      <td>12</td>\n",
       "    </tr>\n",
       "    <tr>\n",
       "      <th>645410</th>\n",
       "      <td>40</td>\n",
       "      <td>190961</td>\n",
       "      <td>Sunday</td>\n",
       "      <td>880552312850</td>\n",
       "      <td>1</td>\n",
       "      <td>PLUS AND MATERNITY</td>\n",
       "      <td>377.0</td>\n",
       "      <td>12</td>\n",
       "    </tr>\n",
       "    <tr>\n",
       "      <th>645418</th>\n",
       "      <td>40</td>\n",
       "      <td>190961</td>\n",
       "      <td>Sunday</td>\n",
       "      <td>880619230303</td>\n",
       "      <td>1</td>\n",
       "      <td>PLUS AND MATERNITY</td>\n",
       "      <td>337.0</td>\n",
       "      <td>12</td>\n",
       "    </tr>\n",
       "    <tr>\n",
       "      <th>645422</th>\n",
       "      <td>40</td>\n",
       "      <td>190961</td>\n",
       "      <td>Sunday</td>\n",
       "      <td>880615608238</td>\n",
       "      <td>1</td>\n",
       "      <td>LADIESWEAR</td>\n",
       "      <td>301.0</td>\n",
       "      <td>12</td>\n",
       "    </tr>\n",
       "    <tr>\n",
       "      <th>645545</th>\n",
       "      <td>37</td>\n",
       "      <td>190984</td>\n",
       "      <td>Sunday</td>\n",
       "      <td>775014200016</td>\n",
       "      <td>1</td>\n",
       "      <td>PRODUCE</td>\n",
       "      <td>3108.0</td>\n",
       "      <td>12</td>\n",
       "    </tr>\n",
       "    <tr>\n",
       "      <th>645581</th>\n",
       "      <td>9</td>\n",
       "      <td>190989</td>\n",
       "      <td>Sunday</td>\n",
       "      <td>471251189040</td>\n",
       "      <td>1</td>\n",
       "      <td>HARDWARE</td>\n",
       "      <td>9806.0</td>\n",
       "      <td>12</td>\n",
       "    </tr>\n",
       "    <tr>\n",
       "      <th>645637</th>\n",
       "      <td>9</td>\n",
       "      <td>191004</td>\n",
       "      <td>Sunday</td>\n",
       "      <td>880632365898</td>\n",
       "      <td>1</td>\n",
       "      <td>LADIESWEAR</td>\n",
       "      <td>313.0</td>\n",
       "      <td>12</td>\n",
       "    </tr>\n",
       "    <tr>\n",
       "      <th>645638</th>\n",
       "      <td>9</td>\n",
       "      <td>191004</td>\n",
       "      <td>Sunday</td>\n",
       "      <td>880632365904</td>\n",
       "      <td>1</td>\n",
       "      <td>LADIESWEAR</td>\n",
       "      <td>313.0</td>\n",
       "      <td>12</td>\n",
       "    </tr>\n",
       "    <tr>\n",
       "      <th>645661</th>\n",
       "      <td>32</td>\n",
       "      <td>191010</td>\n",
       "      <td>Sunday</td>\n",
       "      <td>692222710462</td>\n",
       "      <td>1</td>\n",
       "      <td>COOK AND DINE</td>\n",
       "      <td>3645.0</td>\n",
       "      <td>12</td>\n",
       "    </tr>\n",
       "    <tr>\n",
       "      <th>645692</th>\n",
       "      <td>25</td>\n",
       "      <td>191015</td>\n",
       "      <td>Sunday</td>\n",
       "      <td>880614469334</td>\n",
       "      <td>1</td>\n",
       "      <td>LADIESWEAR</td>\n",
       "      <td>324.0</td>\n",
       "      <td>12</td>\n",
       "    </tr>\n",
       "    <tr>\n",
       "      <th>645694</th>\n",
       "      <td>25</td>\n",
       "      <td>191015</td>\n",
       "      <td>Sunday</td>\n",
       "      <td>880552311944</td>\n",
       "      <td>1</td>\n",
       "      <td>LADIESWEAR</td>\n",
       "      <td>313.0</td>\n",
       "      <td>12</td>\n",
       "    </tr>\n",
       "    <tr>\n",
       "      <th>645695</th>\n",
       "      <td>25</td>\n",
       "      <td>191015</td>\n",
       "      <td>Sunday</td>\n",
       "      <td>880632365949</td>\n",
       "      <td>1</td>\n",
       "      <td>LADIESWEAR</td>\n",
       "      <td>313.0</td>\n",
       "      <td>12</td>\n",
       "    </tr>\n",
       "    <tr>\n",
       "      <th>645696</th>\n",
       "      <td>25</td>\n",
       "      <td>191015</td>\n",
       "      <td>Sunday</td>\n",
       "      <td>880632365901</td>\n",
       "      <td>1</td>\n",
       "      <td>LADIESWEAR</td>\n",
       "      <td>313.0</td>\n",
       "      <td>12</td>\n",
       "    </tr>\n",
       "    <tr>\n",
       "      <th>645730</th>\n",
       "      <td>25</td>\n",
       "      <td>191025</td>\n",
       "      <td>Sunday</td>\n",
       "      <td>880614469410</td>\n",
       "      <td>1</td>\n",
       "      <td>LADIESWEAR</td>\n",
       "      <td>324.0</td>\n",
       "      <td>12</td>\n",
       "    </tr>\n",
       "    <tr>\n",
       "      <th>645757</th>\n",
       "      <td>32</td>\n",
       "      <td>191039</td>\n",
       "      <td>Sunday</td>\n",
       "      <td>471984904729</td>\n",
       "      <td>1</td>\n",
       "      <td>LADIESWEAR</td>\n",
       "      <td>1363.0</td>\n",
       "      <td>12</td>\n",
       "    </tr>\n",
       "    <tr>\n",
       "      <th>645835</th>\n",
       "      <td>42</td>\n",
       "      <td>191058</td>\n",
       "      <td>Sunday</td>\n",
       "      <td>978163109910</td>\n",
       "      <td>1</td>\n",
       "      <td>IMPULSE MERCHANDISE</td>\n",
       "      <td>302.0</td>\n",
       "      <td>12</td>\n",
       "    </tr>\n",
       "    <tr>\n",
       "      <th>645836</th>\n",
       "      <td>42</td>\n",
       "      <td>191058</td>\n",
       "      <td>Sunday</td>\n",
       "      <td>978145301914</td>\n",
       "      <td>1</td>\n",
       "      <td>IMPULSE MERCHANDISE</td>\n",
       "      <td>302.0</td>\n",
       "      <td>12</td>\n",
       "    </tr>\n",
       "    <tr>\n",
       "      <th>646128</th>\n",
       "      <td>9</td>\n",
       "      <td>191114</td>\n",
       "      <td>Sunday</td>\n",
       "      <td>896110116865</td>\n",
       "      <td>1</td>\n",
       "      <td>MENS WEAR</td>\n",
       "      <td>165.0</td>\n",
       "      <td>12</td>\n",
       "    </tr>\n",
       "    <tr>\n",
       "      <th>646292</th>\n",
       "      <td>24</td>\n",
       "      <td>191146</td>\n",
       "      <td>Sunday</td>\n",
       "      <td>880875021692</td>\n",
       "      <td>1</td>\n",
       "      <td>GIRLS WEAR, 4-6X  AND 7-14</td>\n",
       "      <td>216.0</td>\n",
       "      <td>12</td>\n",
       "    </tr>\n",
       "    <tr>\n",
       "      <th>646372</th>\n",
       "      <td>38</td>\n",
       "      <td>191164</td>\n",
       "      <td>Sunday</td>\n",
       "      <td>695768070006</td>\n",
       "      <td>1</td>\n",
       "      <td>AUTOMOTIVE</td>\n",
       "      <td>602.0</td>\n",
       "      <td>12</td>\n",
       "    </tr>\n",
       "    <tr>\n",
       "      <th>646410</th>\n",
       "      <td>37</td>\n",
       "      <td>191170</td>\n",
       "      <td>Sunday</td>\n",
       "      <td>880632365919</td>\n",
       "      <td>1</td>\n",
       "      <td>LADIESWEAR</td>\n",
       "      <td>313.0</td>\n",
       "      <td>12</td>\n",
       "    </tr>\n",
       "    <tr>\n",
       "      <th>646604</th>\n",
       "      <td>33</td>\n",
       "      <td>191227</td>\n",
       "      <td>Sunday</td>\n",
       "      <td>489415210427</td>\n",
       "      <td>1</td>\n",
       "      <td>CELEBRATION</td>\n",
       "      <td>306.0</td>\n",
       "      <td>12</td>\n",
       "    </tr>\n",
       "    <tr>\n",
       "      <th>646607</th>\n",
       "      <td>33</td>\n",
       "      <td>191227</td>\n",
       "      <td>Sunday</td>\n",
       "      <td>489415210433</td>\n",
       "      <td>1</td>\n",
       "      <td>CELEBRATION</td>\n",
       "      <td>306.0</td>\n",
       "      <td>12</td>\n",
       "    </tr>\n",
       "    <tr>\n",
       "      <th>646682</th>\n",
       "      <td>25</td>\n",
       "      <td>191246</td>\n",
       "      <td>Sunday</td>\n",
       "      <td>896110116858</td>\n",
       "      <td>1</td>\n",
       "      <td>MENS WEAR</td>\n",
       "      <td>165.0</td>\n",
       "      <td>12</td>\n",
       "    </tr>\n",
       "    <tr>\n",
       "      <th>646730</th>\n",
       "      <td>7</td>\n",
       "      <td>191262</td>\n",
       "      <td>Sunday</td>\n",
       "      <td>896110116858</td>\n",
       "      <td>1</td>\n",
       "      <td>MENS WEAR</td>\n",
       "      <td>165.0</td>\n",
       "      <td>12</td>\n",
       "    </tr>\n",
       "    <tr>\n",
       "      <th>646771</th>\n",
       "      <td>44</td>\n",
       "      <td>191277</td>\n",
       "      <td>Sunday</td>\n",
       "      <td>489704605078</td>\n",
       "      <td>1</td>\n",
       "      <td>FABRICS AND CRAFTS</td>\n",
       "      <td>7018.0</td>\n",
       "      <td>12</td>\n",
       "    </tr>\n",
       "    <tr>\n",
       "      <th>646788</th>\n",
       "      <td>44</td>\n",
       "      <td>191283</td>\n",
       "      <td>Sunday</td>\n",
       "      <td>695334428112</td>\n",
       "      <td>1</td>\n",
       "      <td>MENS WEAR</td>\n",
       "      <td>901.0</td>\n",
       "      <td>12</td>\n",
       "    </tr>\n",
       "    <tr>\n",
       "      <th>646893</th>\n",
       "      <td>42</td>\n",
       "      <td>191312</td>\n",
       "      <td>Sunday</td>\n",
       "      <td>471286236459</td>\n",
       "      <td>1</td>\n",
       "      <td>MENS WEAR</td>\n",
       "      <td>5435.0</td>\n",
       "      <td>12</td>\n",
       "    </tr>\n",
       "    <tr>\n",
       "      <th>646921</th>\n",
       "      <td>40</td>\n",
       "      <td>191324</td>\n",
       "      <td>Sunday</td>\n",
       "      <td>361422003835</td>\n",
       "      <td>1</td>\n",
       "      <td>BEAUTY</td>\n",
       "      <td>2130.0</td>\n",
       "      <td>12</td>\n",
       "    </tr>\n",
       "  </tbody>\n",
       "</table>\n",
       "<p>8463 rows × 8 columns</p>\n",
       "</div>"
      ],
      "text/plain": [
       "        TripType  VisitNumber Weekday           Upc  ScanCount  \\\n",
       "48            21           15  Friday  501138607481          1   \n",
       "50            21           15  Friday  501138610338          1   \n",
       "58            42           19  Friday  692656840005          1   \n",
       "60            42           19  Friday  695334428094          1   \n",
       "67             9           23  Friday  692249579995          1   \n",
       "80            25           28  Friday  880552311919          1   \n",
       "163           39           79  Friday  694147116161          2   \n",
       "423           42          214  Friday  978140544941          1   \n",
       "432           42          217  Friday  692715640010          1   \n",
       "579           25          275  Friday  880552312077          1   \n",
       "583           25          275  Friday  880937758571          1   \n",
       "946           25          402  Friday  471369833393          1   \n",
       "1078          20          461  Friday  896400099838          1   \n",
       "1324          25          567  Friday  896110116812          1   \n",
       "1325          25          567  Friday  896110116812          2   \n",
       "1360          39          584  Friday  880632366619          1   \n",
       "1382          40          592  Friday  489703051032          1   \n",
       "1468          25          627  Friday  880615608470          1   \n",
       "1504           9          644  Friday  880615608488          1   \n",
       "1652          40          725  Friday  694722580471          1   \n",
       "1729          30          737  Friday  880615609513          1   \n",
       "1742          42          745  Friday  896110116718          1   \n",
       "1778          25          772  Friday  695334428099          1   \n",
       "1809          40          784  Friday  489703051032          1   \n",
       "1820          37          792  Friday  489704605011          1   \n",
       "1825          37          792  Friday  489704605014          1   \n",
       "1871          41          816  Friday  694530150199          1   \n",
       "1890          25          826  Friday  880632365930          1   \n",
       "1901         999          829  Friday  471984904046         -1   \n",
       "1902         999          829  Friday  471984904041         -1   \n",
       "...          ...          ...     ...           ...        ...   \n",
       "645300        32       190942  Sunday  489419004396         -1   \n",
       "645301        32       190942  Sunday  489419004396          1   \n",
       "645410        40       190961  Sunday  880552312850          1   \n",
       "645418        40       190961  Sunday  880619230303          1   \n",
       "645422        40       190961  Sunday  880615608238          1   \n",
       "645545        37       190984  Sunday  775014200016          1   \n",
       "645581         9       190989  Sunday  471251189040          1   \n",
       "645637         9       191004  Sunday  880632365898          1   \n",
       "645638         9       191004  Sunday  880632365904          1   \n",
       "645661        32       191010  Sunday  692222710462          1   \n",
       "645692        25       191015  Sunday  880614469334          1   \n",
       "645694        25       191015  Sunday  880552311944          1   \n",
       "645695        25       191015  Sunday  880632365949          1   \n",
       "645696        25       191015  Sunday  880632365901          1   \n",
       "645730        25       191025  Sunday  880614469410          1   \n",
       "645757        32       191039  Sunday  471984904729          1   \n",
       "645835        42       191058  Sunday  978163109910          1   \n",
       "645836        42       191058  Sunday  978145301914          1   \n",
       "646128         9       191114  Sunday  896110116865          1   \n",
       "646292        24       191146  Sunday  880875021692          1   \n",
       "646372        38       191164  Sunday  695768070006          1   \n",
       "646410        37       191170  Sunday  880632365919          1   \n",
       "646604        33       191227  Sunday  489415210427          1   \n",
       "646607        33       191227  Sunday  489415210433          1   \n",
       "646682        25       191246  Sunday  896110116858          1   \n",
       "646730         7       191262  Sunday  896110116858          1   \n",
       "646771        44       191277  Sunday  489704605078          1   \n",
       "646788        44       191283  Sunday  695334428112          1   \n",
       "646893        42       191312  Sunday  471286236459          1   \n",
       "646921        40       191324  Sunday  361422003835          1   \n",
       "\n",
       "             DepartmentDescription  FinelineNumber  len(upc)  \n",
       "48              FABRICS AND CRAFTS          1309.0        12  \n",
       "50              FABRICS AND CRAFTS          1309.0        12  \n",
       "58              FABRICS AND CRAFTS           397.0        12  \n",
       "60                     ACCESSORIES           122.0        12  \n",
       "67                 HOME MANAGEMENT          3005.0        12  \n",
       "80                      LADIESWEAR           313.0        12  \n",
       "163                OFFICE SUPPLIES          5806.0        12  \n",
       "423            BOOKS AND MAGAZINES          2120.0        12  \n",
       "432             FABRICS AND CRAFTS           412.0        12  \n",
       "579                     LADIESWEAR          3120.0        12  \n",
       "583                     LADIESWEAR          1217.0        12  \n",
       "946                      MENS WEAR          5434.0        12  \n",
       "1078               BATH AND SHOWER           421.0        12  \n",
       "1324                     BOYS WEAR          4648.0        12  \n",
       "1325                     BOYS WEAR          4648.0        12  \n",
       "1360                    LADIESWEAR           312.0        12  \n",
       "1382                 COOK AND DINE           371.0        12  \n",
       "1468                    LADIESWEAR           610.0        12  \n",
       "1504                    LADIESWEAR           610.0        12  \n",
       "1652                 COOK AND DINE          1809.0        12  \n",
       "1729                    LADIESWEAR           414.0        12  \n",
       "1742                     BOYS WEAR          4648.0        12  \n",
       "1778                   ACCESSORIES           122.0        12  \n",
       "1809                 COOK AND DINE           371.0        12  \n",
       "1820            FABRICS AND CRAFTS          7013.0        12  \n",
       "1825            FABRICS AND CRAFTS          7013.0        12  \n",
       "1871                    HOME DECOR           906.0        12  \n",
       "1890                    LADIESWEAR           313.0        12  \n",
       "1901    GIRLS WEAR, 4-6X  AND 7-14          2710.0        12  \n",
       "1902    GIRLS WEAR, 4-6X  AND 7-14          2710.0        12  \n",
       "...                            ...             ...       ...  \n",
       "645300                     BEDDING          7401.0        12  \n",
       "645301                     BEDDING          7401.0        12  \n",
       "645410          PLUS AND MATERNITY           377.0        12  \n",
       "645418          PLUS AND MATERNITY           337.0        12  \n",
       "645422                  LADIESWEAR           301.0        12  \n",
       "645545                     PRODUCE          3108.0        12  \n",
       "645581                    HARDWARE          9806.0        12  \n",
       "645637                  LADIESWEAR           313.0        12  \n",
       "645638                  LADIESWEAR           313.0        12  \n",
       "645661               COOK AND DINE          3645.0        12  \n",
       "645692                  LADIESWEAR           324.0        12  \n",
       "645694                  LADIESWEAR           313.0        12  \n",
       "645695                  LADIESWEAR           313.0        12  \n",
       "645696                  LADIESWEAR           313.0        12  \n",
       "645730                  LADIESWEAR           324.0        12  \n",
       "645757                  LADIESWEAR          1363.0        12  \n",
       "645835         IMPULSE MERCHANDISE           302.0        12  \n",
       "645836         IMPULSE MERCHANDISE           302.0        12  \n",
       "646128                   MENS WEAR           165.0        12  \n",
       "646292  GIRLS WEAR, 4-6X  AND 7-14           216.0        12  \n",
       "646372                  AUTOMOTIVE           602.0        12  \n",
       "646410                  LADIESWEAR           313.0        12  \n",
       "646604                 CELEBRATION           306.0        12  \n",
       "646607                 CELEBRATION           306.0        12  \n",
       "646682                   MENS WEAR           165.0        12  \n",
       "646730                   MENS WEAR           165.0        12  \n",
       "646771          FABRICS AND CRAFTS          7018.0        12  \n",
       "646788                   MENS WEAR           901.0        12  \n",
       "646893                   MENS WEAR          5435.0        12  \n",
       "646921                      BEAUTY          2130.0        12  \n",
       "\n",
       "[8463 rows x 8 columns]"
      ]
     },
     "execution_count": 14,
     "metadata": {},
     "output_type": "execute_result"
    }
   ],
   "source": [
    "data[data['len(upc)'].isin([12])]"
   ]
  },
  {
   "cell_type": "code",
   "execution_count": null,
   "metadata": {},
   "outputs": [],
   "source": []
  }
 ],
 "metadata": {
  "kernelspec": {
   "display_name": "Python 3",
   "language": "python",
   "name": "python3"
  },
  "language_info": {
   "codemirror_mode": {
    "name": "ipython",
    "version": 3
   },
   "file_extension": ".py",
   "mimetype": "text/x-python",
   "name": "python",
   "nbconvert_exporter": "python",
   "pygments_lexer": "ipython3",
   "version": "3.5.0"
  }
 },
 "nbformat": 4,
 "nbformat_minor": 2
}
