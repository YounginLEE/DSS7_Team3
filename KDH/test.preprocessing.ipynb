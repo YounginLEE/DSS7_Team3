{
 "cells": [
  {
   "cell_type": "code",
   "execution_count": 374,
   "metadata": {
    "scrolled": true
   },
   "outputs": [
    {
     "data": {
      "text/html": [
       "<div>\n",
       "<style scoped>\n",
       "    .dataframe tbody tr th:only-of-type {\n",
       "        vertical-align: middle;\n",
       "    }\n",
       "\n",
       "    .dataframe tbody tr th {\n",
       "        vertical-align: top;\n",
       "    }\n",
       "\n",
       "    .dataframe thead th {\n",
       "        text-align: right;\n",
       "    }\n",
       "</style>\n",
       "<table border=\"1\" class=\"dataframe\">\n",
       "  <thead>\n",
       "    <tr style=\"text-align: right;\">\n",
       "      <th></th>\n",
       "      <th>VisitNumber</th>\n",
       "      <th>Weekday</th>\n",
       "      <th>Upc</th>\n",
       "      <th>ScanCount</th>\n",
       "      <th>DepartmentDescription</th>\n",
       "      <th>FinelineNumber</th>\n",
       "    </tr>\n",
       "  </thead>\n",
       "  <tbody>\n",
       "    <tr>\n",
       "      <th>0</th>\n",
       "      <td>1</td>\n",
       "      <td>Friday</td>\n",
       "      <td>7.250339e+10</td>\n",
       "      <td>1</td>\n",
       "      <td>SHOES</td>\n",
       "      <td>3002.0</td>\n",
       "    </tr>\n",
       "    <tr>\n",
       "      <th>1</th>\n",
       "      <td>1</td>\n",
       "      <td>Friday</td>\n",
       "      <td>1.707711e+09</td>\n",
       "      <td>1</td>\n",
       "      <td>DAIRY</td>\n",
       "      <td>1526.0</td>\n",
       "    </tr>\n",
       "    <tr>\n",
       "      <th>2</th>\n",
       "      <td>1</td>\n",
       "      <td>Friday</td>\n",
       "      <td>8.947000e+10</td>\n",
       "      <td>1</td>\n",
       "      <td>DAIRY</td>\n",
       "      <td>1431.0</td>\n",
       "    </tr>\n",
       "    <tr>\n",
       "      <th>3</th>\n",
       "      <td>1</td>\n",
       "      <td>Friday</td>\n",
       "      <td>8.849121e+10</td>\n",
       "      <td>1</td>\n",
       "      <td>GROCERY DRY GOODS</td>\n",
       "      <td>3555.0</td>\n",
       "    </tr>\n",
       "    <tr>\n",
       "      <th>4</th>\n",
       "      <td>2</td>\n",
       "      <td>Friday</td>\n",
       "      <td>2.840015e+09</td>\n",
       "      <td>1</td>\n",
       "      <td>DSD GROCERY</td>\n",
       "      <td>4408.0</td>\n",
       "    </tr>\n",
       "  </tbody>\n",
       "</table>\n",
       "</div>"
      ],
      "text/plain": [
       "   VisitNumber Weekday           Upc  ScanCount DepartmentDescription  \\\n",
       "0            1  Friday  7.250339e+10          1                 SHOES   \n",
       "1            1  Friday  1.707711e+09          1                 DAIRY   \n",
       "2            1  Friday  8.947000e+10          1                 DAIRY   \n",
       "3            1  Friday  8.849121e+10          1     GROCERY DRY GOODS   \n",
       "4            2  Friday  2.840015e+09          1           DSD GROCERY   \n",
       "\n",
       "   FinelineNumber  \n",
       "0          3002.0  \n",
       "1          1526.0  \n",
       "2          1431.0  \n",
       "3          3555.0  \n",
       "4          4408.0  "
      ]
     },
     "execution_count": 374,
     "metadata": {},
     "output_type": "execute_result"
    }
   ],
   "source": [
    "data = pd.read_csv('../data/test.csv')\n",
    "data.head()"
   ]
  },
  {
   "cell_type": "code",
   "execution_count": 375,
   "metadata": {},
   "outputs": [
    {
     "data": {
      "text/html": [
       "<div>\n",
       "<style scoped>\n",
       "    .dataframe tbody tr th:only-of-type {\n",
       "        vertical-align: middle;\n",
       "    }\n",
       "\n",
       "    .dataframe tbody tr th {\n",
       "        vertical-align: top;\n",
       "    }\n",
       "\n",
       "    .dataframe thead th {\n",
       "        text-align: right;\n",
       "    }\n",
       "</style>\n",
       "<table border=\"1\" class=\"dataframe\">\n",
       "  <thead>\n",
       "    <tr style=\"text-align: right;\">\n",
       "      <th></th>\n",
       "      <th>VisitNumber</th>\n",
       "      <th>Weekday</th>\n",
       "      <th>Upc</th>\n",
       "      <th>ScanCount</th>\n",
       "      <th>DepartmentDescription</th>\n",
       "      <th>FinelineNumber</th>\n",
       "    </tr>\n",
       "  </thead>\n",
       "  <tbody>\n",
       "    <tr>\n",
       "      <th>0</th>\n",
       "      <td>1</td>\n",
       "      <td>Friday</td>\n",
       "      <td>72503389714</td>\n",
       "      <td>1</td>\n",
       "      <td>SHOES</td>\n",
       "      <td>3002.0</td>\n",
       "    </tr>\n",
       "    <tr>\n",
       "      <th>1</th>\n",
       "      <td>1</td>\n",
       "      <td>Friday</td>\n",
       "      <td>1707710732</td>\n",
       "      <td>1</td>\n",
       "      <td>DAIRY</td>\n",
       "      <td>1526.0</td>\n",
       "    </tr>\n",
       "    <tr>\n",
       "      <th>2</th>\n",
       "      <td>1</td>\n",
       "      <td>Friday</td>\n",
       "      <td>89470001026</td>\n",
       "      <td>1</td>\n",
       "      <td>DAIRY</td>\n",
       "      <td>1431.0</td>\n",
       "    </tr>\n",
       "    <tr>\n",
       "      <th>3</th>\n",
       "      <td>1</td>\n",
       "      <td>Friday</td>\n",
       "      <td>88491211470</td>\n",
       "      <td>1</td>\n",
       "      <td>GROCERY DRY GOODS</td>\n",
       "      <td>3555.0</td>\n",
       "    </tr>\n",
       "    <tr>\n",
       "      <th>4</th>\n",
       "      <td>2</td>\n",
       "      <td>Friday</td>\n",
       "      <td>2840015224</td>\n",
       "      <td>1</td>\n",
       "      <td>DSD GROCERY</td>\n",
       "      <td>4408.0</td>\n",
       "    </tr>\n",
       "  </tbody>\n",
       "</table>\n",
       "</div>"
      ],
      "text/plain": [
       "   VisitNumber Weekday          Upc  ScanCount DepartmentDescription  \\\n",
       "0            1  Friday  72503389714          1                 SHOES   \n",
       "1            1  Friday   1707710732          1                 DAIRY   \n",
       "2            1  Friday  89470001026          1                 DAIRY   \n",
       "3            1  Friday  88491211470          1     GROCERY DRY GOODS   \n",
       "4            2  Friday   2840015224          1           DSD GROCERY   \n",
       "\n",
       "   FinelineNumber  \n",
       "0          3002.0  \n",
       "1          1526.0  \n",
       "2          1431.0  \n",
       "3          3555.0  \n",
       "4          4408.0  "
      ]
     },
     "execution_count": 375,
     "metadata": {},
     "output_type": "execute_result"
    }
   ],
   "source": [
    "data['Upc'] = data['Upc'].fillna(value = 0)\n",
    "data['Upc'] = data['Upc'].astype(int)\n",
    "data.head()"
   ]
  },
  {
   "cell_type": "code",
   "execution_count": 376,
   "metadata": {},
   "outputs": [],
   "source": [
    "def check_len(upc):\n",
    "    return len(str(upc))"
   ]
  },
  {
   "cell_type": "code",
   "execution_count": 377,
   "metadata": {},
   "outputs": [],
   "source": [
    "data['len(upc)'] = data['Upc'].apply(check_len)"
   ]
  },
  {
   "cell_type": "code",
   "execution_count": 378,
   "metadata": {},
   "outputs": [
    {
     "name": "stdout",
     "output_type": "stream",
     "text": [
      "1  :   3986\n",
      "3  :   15\n",
      "4  :   29564\n",
      "5  :   286\n",
      "7  :   1\n",
      "8  :   400\n",
      "9  :   2314\n",
      "10  :   439012\n",
      "11  :   169550\n",
      "12  :   8518\n"
     ]
    }
   ],
   "source": [
    "s = list(data['len(upc)'].unique())\n",
    "s.sort()\n",
    "for idx in s:\n",
    "\n",
    "    count = len(data[data['len(upc)'].isin([idx])])\n",
    "    print(idx,\" :  \",count)"
   ]
  },
  {
   "cell_type": "code",
   "execution_count": 379,
   "metadata": {},
   "outputs": [
    {
     "data": {
      "text/plain": [
       "(653646, 7)"
      ]
     },
     "execution_count": 379,
     "metadata": {},
     "output_type": "execute_result"
    }
   ],
   "source": [
    "data.shape"
   ]
  },
  {
   "cell_type": "code",
   "execution_count": 380,
   "metadata": {},
   "outputs": [],
   "source": [
    "# check digit 구하는 함수\n",
    "\n",
    "def get_checkdigit(upc):\n",
    "    \n",
    "    odd_s = [int(i) for i in str(upc)[-1::-2]]\n",
    "    even_s = [int(i) for i in str(upc)[-2::-2]]\n",
    "    \n",
    "    odd_sum = sum(list(map(lambda number : number * 3, odd_s)))\n",
    "    even_sum = sum(list(map(lambda number : number, even_s)))\n",
    "    check_sum = (odd_sum + even_sum) % 10\n",
    "    \n",
    "\n",
    "    if check_sum == 0:\n",
    "        return check_sum\n",
    "    else:\n",
    "        return 10 - check_sum"
   ]
  },
  {
   "cell_type": "code",
   "execution_count": 381,
   "metadata": {},
   "outputs": [],
   "source": [
    "def make_full_upc(upc):\n",
    "    if upc == 0:\n",
    "        return \"missing\"\n",
    "    else:\n",
    "        tmp_upc = str(upc) + str(get_checkdigit(upc))\n",
    "\n",
    "\n",
    "        if len(tmp_upc) < 12:\n",
    "            length = 12 - len(tmp_upc)\n",
    "            zero = \"0\" * length\n",
    "            standard_upc = zero + tmp_upc\n",
    "            return standard_upc\n",
    "        else:\n",
    "            return tmp_upc "
   ]
  },
  {
   "cell_type": "code",
   "execution_count": 382,
   "metadata": {},
   "outputs": [],
   "source": [
    "data['standard_upc'] = data['Upc'].apply(make_full_upc)\n",
    "data['standard_upc(len)'] = data['standard_upc'].apply(check_len)"
   ]
  },
  {
   "cell_type": "code",
   "execution_count": 383,
   "metadata": {},
   "outputs": [
    {
     "data": {
      "text/plain": [
       "array([12, 13,  7])"
      ]
     },
     "execution_count": 383,
     "metadata": {},
     "output_type": "execute_result"
    }
   ],
   "source": [
    "data['standard_upc(len)'].unique()"
   ]
  },
  {
   "cell_type": "code",
   "execution_count": 384,
   "metadata": {},
   "outputs": [],
   "source": [
    "def classify_company_product(standard_upc):\n",
    "    class_ = []\n",
    "    \n",
    "    if standard_upc == \"missing\":\n",
    "        return standard_upc\n",
    "    \n",
    "    elif len(standard_upc) == 13:\n",
    "        company = standard_upc[2:7]\n",
    "        product = standard_upc[7:12]\n",
    "        \n",
    "        class_.append(company)\n",
    "        class_.append(product)\n",
    "        return class_\n",
    "    \n",
    "    # len = 12\n",
    "    else: \n",
    "        if standard_upc[:6] == \"000000\":\n",
    "            company = standard_upc[-6:-3]\n",
    "            product = standard_upc[-3:-1]\n",
    "            class_.append(company)\n",
    "            class_.append(product)\n",
    "            return class_\n",
    "        else:\n",
    "            company = standard_upc[1:6]\n",
    "            product = standard_upc[6:11]\n",
    "\n",
    "            class_.append(company)\n",
    "            class_.append(product)\n",
    "            return class_"
   ]
  },
  {
   "cell_type": "code",
   "execution_count": null,
   "metadata": {},
   "outputs": [],
   "source": []
  },
  {
   "cell_type": "code",
   "execution_count": 385,
   "metadata": {},
   "outputs": [
    {
     "data": {
      "text/plain": [
       "['80989', '58656']"
      ]
     },
     "execution_count": 385,
     "metadata": {},
     "output_type": "execute_result"
    }
   ],
   "source": [
    "classify_company_product(\"9780989586566\")"
   ]
  },
  {
   "cell_type": "code",
   "execution_count": 386,
   "metadata": {},
   "outputs": [
    {
     "data": {
      "text/plain": [
       "['94700', '01026']"
      ]
     },
     "execution_count": 386,
     "metadata": {},
     "output_type": "execute_result"
    }
   ],
   "source": [
    "classify_company_product(\"894700010267\")"
   ]
  },
  {
   "cell_type": "code",
   "execution_count": 387,
   "metadata": {},
   "outputs": [],
   "source": [
    "data['tmp'] = data['standard_upc'].apply(classify_company_product)"
   ]
  },
  {
   "cell_type": "code",
   "execution_count": 388,
   "metadata": {},
   "outputs": [
    {
     "data": {
      "text/html": [
       "<div>\n",
       "<style scoped>\n",
       "    .dataframe tbody tr th:only-of-type {\n",
       "        vertical-align: middle;\n",
       "    }\n",
       "\n",
       "    .dataframe tbody tr th {\n",
       "        vertical-align: top;\n",
       "    }\n",
       "\n",
       "    .dataframe thead th {\n",
       "        text-align: right;\n",
       "    }\n",
       "</style>\n",
       "<table border=\"1\" class=\"dataframe\">\n",
       "  <thead>\n",
       "    <tr style=\"text-align: right;\">\n",
       "      <th></th>\n",
       "      <th>VisitNumber</th>\n",
       "      <th>Weekday</th>\n",
       "      <th>Upc</th>\n",
       "      <th>ScanCount</th>\n",
       "      <th>DepartmentDescription</th>\n",
       "      <th>FinelineNumber</th>\n",
       "      <th>len(upc)</th>\n",
       "      <th>standard_upc</th>\n",
       "      <th>standard_upc(len)</th>\n",
       "      <th>tmp</th>\n",
       "    </tr>\n",
       "  </thead>\n",
       "  <tbody>\n",
       "    <tr>\n",
       "      <th>0</th>\n",
       "      <td>1</td>\n",
       "      <td>Friday</td>\n",
       "      <td>72503389714</td>\n",
       "      <td>1</td>\n",
       "      <td>SHOES</td>\n",
       "      <td>3002.0</td>\n",
       "      <td>11</td>\n",
       "      <td>725033897143</td>\n",
       "      <td>12</td>\n",
       "      <td>[25033, 89714]</td>\n",
       "    </tr>\n",
       "    <tr>\n",
       "      <th>1</th>\n",
       "      <td>1</td>\n",
       "      <td>Friday</td>\n",
       "      <td>1707710732</td>\n",
       "      <td>1</td>\n",
       "      <td>DAIRY</td>\n",
       "      <td>1526.0</td>\n",
       "      <td>10</td>\n",
       "      <td>017077107327</td>\n",
       "      <td>12</td>\n",
       "      <td>[17077, 10732]</td>\n",
       "    </tr>\n",
       "    <tr>\n",
       "      <th>2</th>\n",
       "      <td>1</td>\n",
       "      <td>Friday</td>\n",
       "      <td>89470001026</td>\n",
       "      <td>1</td>\n",
       "      <td>DAIRY</td>\n",
       "      <td>1431.0</td>\n",
       "      <td>11</td>\n",
       "      <td>894700010267</td>\n",
       "      <td>12</td>\n",
       "      <td>[94700, 01026]</td>\n",
       "    </tr>\n",
       "    <tr>\n",
       "      <th>3</th>\n",
       "      <td>1</td>\n",
       "      <td>Friday</td>\n",
       "      <td>88491211470</td>\n",
       "      <td>1</td>\n",
       "      <td>GROCERY DRY GOODS</td>\n",
       "      <td>3555.0</td>\n",
       "      <td>11</td>\n",
       "      <td>884912114709</td>\n",
       "      <td>12</td>\n",
       "      <td>[84912, 11470]</td>\n",
       "    </tr>\n",
       "    <tr>\n",
       "      <th>4</th>\n",
       "      <td>2</td>\n",
       "      <td>Friday</td>\n",
       "      <td>2840015224</td>\n",
       "      <td>1</td>\n",
       "      <td>DSD GROCERY</td>\n",
       "      <td>4408.0</td>\n",
       "      <td>10</td>\n",
       "      <td>028400152242</td>\n",
       "      <td>12</td>\n",
       "      <td>[28400, 15224]</td>\n",
       "    </tr>\n",
       "  </tbody>\n",
       "</table>\n",
       "</div>"
      ],
      "text/plain": [
       "   VisitNumber Weekday          Upc  ScanCount DepartmentDescription  \\\n",
       "0            1  Friday  72503389714          1                 SHOES   \n",
       "1            1  Friday   1707710732          1                 DAIRY   \n",
       "2            1  Friday  89470001026          1                 DAIRY   \n",
       "3            1  Friday  88491211470          1     GROCERY DRY GOODS   \n",
       "4            2  Friday   2840015224          1           DSD GROCERY   \n",
       "\n",
       "   FinelineNumber  len(upc)  standard_upc  standard_upc(len)             tmp  \n",
       "0          3002.0        11  725033897143                 12  [25033, 89714]  \n",
       "1          1526.0        10  017077107327                 12  [17077, 10732]  \n",
       "2          1431.0        11  894700010267                 12  [94700, 01026]  \n",
       "3          3555.0        11  884912114709                 12  [84912, 11470]  \n",
       "4          4408.0        10  028400152242                 12  [28400, 15224]  "
      ]
     },
     "execution_count": 388,
     "metadata": {},
     "output_type": "execute_result"
    }
   ],
   "source": [
    "data.head()"
   ]
  },
  {
   "cell_type": "code",
   "execution_count": 389,
   "metadata": {},
   "outputs": [],
   "source": [
    "def make_company_col(tmp):\n",
    "    if tmp == \"missing\":\n",
    "        return tmp\n",
    "    else:\n",
    "        return tmp[0]\n",
    "\n",
    "def make_product_col(tmp):\n",
    "    if tmp == \"missing\":\n",
    "        return tmp\n",
    "    else:\n",
    "        return tmp[1]\n",
    "\n",
    "data['company_code'] = data['tmp'].apply(make_company_col)\n",
    "data['product_code'] = data['tmp'].apply(make_product_col)"
   ]
  },
  {
   "cell_type": "code",
   "execution_count": 390,
   "metadata": {},
   "outputs": [
    {
     "data": {
      "text/html": [
       "<div>\n",
       "<style scoped>\n",
       "    .dataframe tbody tr th:only-of-type {\n",
       "        vertical-align: middle;\n",
       "    }\n",
       "\n",
       "    .dataframe tbody tr th {\n",
       "        vertical-align: top;\n",
       "    }\n",
       "\n",
       "    .dataframe thead th {\n",
       "        text-align: right;\n",
       "    }\n",
       "</style>\n",
       "<table border=\"1\" class=\"dataframe\">\n",
       "  <thead>\n",
       "    <tr style=\"text-align: right;\">\n",
       "      <th></th>\n",
       "      <th>VisitNumber</th>\n",
       "      <th>Weekday</th>\n",
       "      <th>Upc</th>\n",
       "      <th>ScanCount</th>\n",
       "      <th>DepartmentDescription</th>\n",
       "      <th>FinelineNumber</th>\n",
       "      <th>len(upc)</th>\n",
       "      <th>standard_upc</th>\n",
       "      <th>standard_upc(len)</th>\n",
       "      <th>tmp</th>\n",
       "      <th>company_code</th>\n",
       "      <th>product_code</th>\n",
       "    </tr>\n",
       "  </thead>\n",
       "  <tbody>\n",
       "    <tr>\n",
       "      <th>0</th>\n",
       "      <td>1</td>\n",
       "      <td>Friday</td>\n",
       "      <td>72503389714</td>\n",
       "      <td>1</td>\n",
       "      <td>SHOES</td>\n",
       "      <td>3002.0</td>\n",
       "      <td>11</td>\n",
       "      <td>725033897143</td>\n",
       "      <td>12</td>\n",
       "      <td>[25033, 89714]</td>\n",
       "      <td>25033</td>\n",
       "      <td>89714</td>\n",
       "    </tr>\n",
       "    <tr>\n",
       "      <th>1</th>\n",
       "      <td>1</td>\n",
       "      <td>Friday</td>\n",
       "      <td>1707710732</td>\n",
       "      <td>1</td>\n",
       "      <td>DAIRY</td>\n",
       "      <td>1526.0</td>\n",
       "      <td>10</td>\n",
       "      <td>017077107327</td>\n",
       "      <td>12</td>\n",
       "      <td>[17077, 10732]</td>\n",
       "      <td>17077</td>\n",
       "      <td>10732</td>\n",
       "    </tr>\n",
       "    <tr>\n",
       "      <th>2</th>\n",
       "      <td>1</td>\n",
       "      <td>Friday</td>\n",
       "      <td>89470001026</td>\n",
       "      <td>1</td>\n",
       "      <td>DAIRY</td>\n",
       "      <td>1431.0</td>\n",
       "      <td>11</td>\n",
       "      <td>894700010267</td>\n",
       "      <td>12</td>\n",
       "      <td>[94700, 01026]</td>\n",
       "      <td>94700</td>\n",
       "      <td>01026</td>\n",
       "    </tr>\n",
       "    <tr>\n",
       "      <th>3</th>\n",
       "      <td>1</td>\n",
       "      <td>Friday</td>\n",
       "      <td>88491211470</td>\n",
       "      <td>1</td>\n",
       "      <td>GROCERY DRY GOODS</td>\n",
       "      <td>3555.0</td>\n",
       "      <td>11</td>\n",
       "      <td>884912114709</td>\n",
       "      <td>12</td>\n",
       "      <td>[84912, 11470]</td>\n",
       "      <td>84912</td>\n",
       "      <td>11470</td>\n",
       "    </tr>\n",
       "    <tr>\n",
       "      <th>4</th>\n",
       "      <td>2</td>\n",
       "      <td>Friday</td>\n",
       "      <td>2840015224</td>\n",
       "      <td>1</td>\n",
       "      <td>DSD GROCERY</td>\n",
       "      <td>4408.0</td>\n",
       "      <td>10</td>\n",
       "      <td>028400152242</td>\n",
       "      <td>12</td>\n",
       "      <td>[28400, 15224]</td>\n",
       "      <td>28400</td>\n",
       "      <td>15224</td>\n",
       "    </tr>\n",
       "  </tbody>\n",
       "</table>\n",
       "</div>"
      ],
      "text/plain": [
       "   VisitNumber Weekday          Upc  ScanCount DepartmentDescription  \\\n",
       "0            1  Friday  72503389714          1                 SHOES   \n",
       "1            1  Friday   1707710732          1                 DAIRY   \n",
       "2            1  Friday  89470001026          1                 DAIRY   \n",
       "3            1  Friday  88491211470          1     GROCERY DRY GOODS   \n",
       "4            2  Friday   2840015224          1           DSD GROCERY   \n",
       "\n",
       "   FinelineNumber  len(upc)  standard_upc  standard_upc(len)             tmp  \\\n",
       "0          3002.0        11  725033897143                 12  [25033, 89714]   \n",
       "1          1526.0        10  017077107327                 12  [17077, 10732]   \n",
       "2          1431.0        11  894700010267                 12  [94700, 01026]   \n",
       "3          3555.0        11  884912114709                 12  [84912, 11470]   \n",
       "4          4408.0        10  028400152242                 12  [28400, 15224]   \n",
       "\n",
       "  company_code product_code  \n",
       "0        25033        89714  \n",
       "1        17077        10732  \n",
       "2        94700        01026  \n",
       "3        84912        11470  \n",
       "4        28400        15224  "
      ]
     },
     "execution_count": 390,
     "metadata": {},
     "output_type": "execute_result"
    }
   ],
   "source": [
    "data.head()"
   ]
  },
  {
   "cell_type": "code",
   "execution_count": 391,
   "metadata": {},
   "outputs": [],
   "source": [
    "del data['Upc'], data['len(upc)'], data['tmp'], data['standard_upc(len)']"
   ]
  },
  {
   "cell_type": "code",
   "execution_count": 392,
   "metadata": {},
   "outputs": [
    {
     "data": {
      "text/html": [
       "<div>\n",
       "<style scoped>\n",
       "    .dataframe tbody tr th:only-of-type {\n",
       "        vertical-align: middle;\n",
       "    }\n",
       "\n",
       "    .dataframe tbody tr th {\n",
       "        vertical-align: top;\n",
       "    }\n",
       "\n",
       "    .dataframe thead th {\n",
       "        text-align: right;\n",
       "    }\n",
       "</style>\n",
       "<table border=\"1\" class=\"dataframe\">\n",
       "  <thead>\n",
       "    <tr style=\"text-align: right;\">\n",
       "      <th></th>\n",
       "      <th>VisitNumber</th>\n",
       "      <th>Weekday</th>\n",
       "      <th>ScanCount</th>\n",
       "      <th>DepartmentDescription</th>\n",
       "      <th>FinelineNumber</th>\n",
       "      <th>standard_upc</th>\n",
       "      <th>company_code</th>\n",
       "      <th>product_code</th>\n",
       "    </tr>\n",
       "  </thead>\n",
       "  <tbody>\n",
       "    <tr>\n",
       "      <th>0</th>\n",
       "      <td>1</td>\n",
       "      <td>Friday</td>\n",
       "      <td>1</td>\n",
       "      <td>SHOES</td>\n",
       "      <td>3002.0</td>\n",
       "      <td>725033897143</td>\n",
       "      <td>25033</td>\n",
       "      <td>89714</td>\n",
       "    </tr>\n",
       "    <tr>\n",
       "      <th>1</th>\n",
       "      <td>1</td>\n",
       "      <td>Friday</td>\n",
       "      <td>1</td>\n",
       "      <td>DAIRY</td>\n",
       "      <td>1526.0</td>\n",
       "      <td>017077107327</td>\n",
       "      <td>17077</td>\n",
       "      <td>10732</td>\n",
       "    </tr>\n",
       "    <tr>\n",
       "      <th>2</th>\n",
       "      <td>1</td>\n",
       "      <td>Friday</td>\n",
       "      <td>1</td>\n",
       "      <td>DAIRY</td>\n",
       "      <td>1431.0</td>\n",
       "      <td>894700010267</td>\n",
       "      <td>94700</td>\n",
       "      <td>01026</td>\n",
       "    </tr>\n",
       "    <tr>\n",
       "      <th>3</th>\n",
       "      <td>1</td>\n",
       "      <td>Friday</td>\n",
       "      <td>1</td>\n",
       "      <td>GROCERY DRY GOODS</td>\n",
       "      <td>3555.0</td>\n",
       "      <td>884912114709</td>\n",
       "      <td>84912</td>\n",
       "      <td>11470</td>\n",
       "    </tr>\n",
       "    <tr>\n",
       "      <th>4</th>\n",
       "      <td>2</td>\n",
       "      <td>Friday</td>\n",
       "      <td>1</td>\n",
       "      <td>DSD GROCERY</td>\n",
       "      <td>4408.0</td>\n",
       "      <td>028400152242</td>\n",
       "      <td>28400</td>\n",
       "      <td>15224</td>\n",
       "    </tr>\n",
       "  </tbody>\n",
       "</table>\n",
       "</div>"
      ],
      "text/plain": [
       "   VisitNumber Weekday  ScanCount DepartmentDescription  FinelineNumber  \\\n",
       "0            1  Friday          1                 SHOES          3002.0   \n",
       "1            1  Friday          1                 DAIRY          1526.0   \n",
       "2            1  Friday          1                 DAIRY          1431.0   \n",
       "3            1  Friday          1     GROCERY DRY GOODS          3555.0   \n",
       "4            2  Friday          1           DSD GROCERY          4408.0   \n",
       "\n",
       "   standard_upc company_code product_code  \n",
       "0  725033897143        25033        89714  \n",
       "1  017077107327        17077        10732  \n",
       "2  894700010267        94700        01026  \n",
       "3  884912114709        84912        11470  \n",
       "4  028400152242        28400        15224  "
      ]
     },
     "execution_count": 392,
     "metadata": {},
     "output_type": "execute_result"
    }
   ],
   "source": [
    "data.head()"
   ]
  },
  {
   "cell_type": "code",
   "execution_count": 558,
   "metadata": {},
   "outputs": [],
   "source": [
    "data.to_csv('../data/test_v1.csv')"
   ]
  },
  {
   "cell_type": "code",
   "execution_count": null,
   "metadata": {},
   "outputs": [],
   "source": []
  },
  {
   "cell_type": "code",
   "execution_count": null,
   "metadata": {},
   "outputs": [],
   "source": []
  },
  {
   "cell_type": "code",
   "execution_count": 1,
   "metadata": {
    "scrolled": true
   },
   "outputs": [
    {
     "data": {
      "text/html": [
       "<div>\n",
       "<style scoped>\n",
       "    .dataframe tbody tr th:only-of-type {\n",
       "        vertical-align: middle;\n",
       "    }\n",
       "\n",
       "    .dataframe tbody tr th {\n",
       "        vertical-align: top;\n",
       "    }\n",
       "\n",
       "    .dataframe thead th {\n",
       "        text-align: right;\n",
       "    }\n",
       "</style>\n",
       "<table border=\"1\" class=\"dataframe\">\n",
       "  <thead>\n",
       "    <tr style=\"text-align: right;\">\n",
       "      <th></th>\n",
       "      <th>VisitNumber</th>\n",
       "      <th>Weekday</th>\n",
       "      <th>ScanCount</th>\n",
       "      <th>DepartmentDescription</th>\n",
       "      <th>FinelineNumber</th>\n",
       "      <th>standard_upc</th>\n",
       "      <th>company_code</th>\n",
       "      <th>product_code</th>\n",
       "    </tr>\n",
       "  </thead>\n",
       "  <tbody>\n",
       "    <tr>\n",
       "      <th>0</th>\n",
       "      <td>1</td>\n",
       "      <td>Friday</td>\n",
       "      <td>1</td>\n",
       "      <td>SHOES</td>\n",
       "      <td>3002.0</td>\n",
       "      <td>725033897143</td>\n",
       "      <td>25033</td>\n",
       "      <td>89714</td>\n",
       "    </tr>\n",
       "    <tr>\n",
       "      <th>1</th>\n",
       "      <td>1</td>\n",
       "      <td>Friday</td>\n",
       "      <td>1</td>\n",
       "      <td>DAIRY</td>\n",
       "      <td>1526.0</td>\n",
       "      <td>017077107327</td>\n",
       "      <td>17077</td>\n",
       "      <td>10732</td>\n",
       "    </tr>\n",
       "    <tr>\n",
       "      <th>2</th>\n",
       "      <td>1</td>\n",
       "      <td>Friday</td>\n",
       "      <td>1</td>\n",
       "      <td>DAIRY</td>\n",
       "      <td>1431.0</td>\n",
       "      <td>894700010267</td>\n",
       "      <td>94700</td>\n",
       "      <td>01026</td>\n",
       "    </tr>\n",
       "    <tr>\n",
       "      <th>3</th>\n",
       "      <td>1</td>\n",
       "      <td>Friday</td>\n",
       "      <td>1</td>\n",
       "      <td>GROCERY DRY GOODS</td>\n",
       "      <td>3555.0</td>\n",
       "      <td>884912114709</td>\n",
       "      <td>84912</td>\n",
       "      <td>11470</td>\n",
       "    </tr>\n",
       "    <tr>\n",
       "      <th>4</th>\n",
       "      <td>2</td>\n",
       "      <td>Friday</td>\n",
       "      <td>1</td>\n",
       "      <td>DSD GROCERY</td>\n",
       "      <td>4408.0</td>\n",
       "      <td>028400152242</td>\n",
       "      <td>28400</td>\n",
       "      <td>15224</td>\n",
       "    </tr>\n",
       "  </tbody>\n",
       "</table>\n",
       "</div>"
      ],
      "text/plain": [
       "   VisitNumber Weekday  ScanCount DepartmentDescription  FinelineNumber  \\\n",
       "0            1  Friday          1                 SHOES          3002.0   \n",
       "1            1  Friday          1                 DAIRY          1526.0   \n",
       "2            1  Friday          1                 DAIRY          1431.0   \n",
       "3            1  Friday          1     GROCERY DRY GOODS          3555.0   \n",
       "4            2  Friday          1           DSD GROCERY          4408.0   \n",
       "\n",
       "   standard_upc company_code product_code  \n",
       "0  725033897143        25033        89714  \n",
       "1  017077107327        17077        10732  \n",
       "2  894700010267        94700        01026  \n",
       "3  884912114709        84912        11470  \n",
       "4  028400152242        28400        15224  "
      ]
     },
     "execution_count": 1,
     "metadata": {},
     "output_type": "execute_result"
    }
   ],
   "source": [
    "test = pd.read_csv('../data/test_v1.csv', index_col = 0)\n",
    "test.head()"
   ]
  },
  {
   "cell_type": "code",
   "execution_count": 2,
   "metadata": {
    "scrolled": true
   },
   "outputs": [
    {
     "data": {
      "text/html": [
       "<div>\n",
       "<style scoped>\n",
       "    .dataframe tbody tr th:only-of-type {\n",
       "        vertical-align: middle;\n",
       "    }\n",
       "\n",
       "    .dataframe tbody tr th {\n",
       "        vertical-align: top;\n",
       "    }\n",
       "\n",
       "    .dataframe thead th {\n",
       "        text-align: right;\n",
       "    }\n",
       "</style>\n",
       "<table border=\"1\" class=\"dataframe\">\n",
       "  <thead>\n",
       "    <tr style=\"text-align: right;\">\n",
       "      <th></th>\n",
       "      <th>TripType</th>\n",
       "      <th>VisitNumber</th>\n",
       "      <th>Weekday</th>\n",
       "      <th>ScanCount</th>\n",
       "      <th>DepartmentDescription</th>\n",
       "      <th>FinelineNumber</th>\n",
       "      <th>standard_upc</th>\n",
       "      <th>company_code</th>\n",
       "      <th>product_code</th>\n",
       "    </tr>\n",
       "  </thead>\n",
       "  <tbody>\n",
       "    <tr>\n",
       "      <th>0</th>\n",
       "      <td>999</td>\n",
       "      <td>5</td>\n",
       "      <td>Friday</td>\n",
       "      <td>-1</td>\n",
       "      <td>0</td>\n",
       "      <td>1000</td>\n",
       "      <td>681131529297</td>\n",
       "      <td>81131</td>\n",
       "      <td>52929</td>\n",
       "    </tr>\n",
       "    <tr>\n",
       "      <th>1</th>\n",
       "      <td>30</td>\n",
       "      <td>7</td>\n",
       "      <td>Friday</td>\n",
       "      <td>1</td>\n",
       "      <td>1</td>\n",
       "      <td>8931</td>\n",
       "      <td>605388159809</td>\n",
       "      <td>05388</td>\n",
       "      <td>15980</td>\n",
       "    </tr>\n",
       "    <tr>\n",
       "      <th>2</th>\n",
       "      <td>30</td>\n",
       "      <td>7</td>\n",
       "      <td>Friday</td>\n",
       "      <td>1</td>\n",
       "      <td>2</td>\n",
       "      <td>4504</td>\n",
       "      <td>074108110992</td>\n",
       "      <td>74108</td>\n",
       "      <td>11099</td>\n",
       "    </tr>\n",
       "    <tr>\n",
       "      <th>3</th>\n",
       "      <td>26</td>\n",
       "      <td>8</td>\n",
       "      <td>Friday</td>\n",
       "      <td>2</td>\n",
       "      <td>3</td>\n",
       "      <td>3565</td>\n",
       "      <td>022384035102</td>\n",
       "      <td>22384</td>\n",
       "      <td>03510</td>\n",
       "    </tr>\n",
       "    <tr>\n",
       "      <th>4</th>\n",
       "      <td>26</td>\n",
       "      <td>8</td>\n",
       "      <td>Friday</td>\n",
       "      <td>2</td>\n",
       "      <td>3</td>\n",
       "      <td>1017</td>\n",
       "      <td>020066137441</td>\n",
       "      <td>20066</td>\n",
       "      <td>13744</td>\n",
       "    </tr>\n",
       "  </tbody>\n",
       "</table>\n",
       "</div>"
      ],
      "text/plain": [
       "   TripType  VisitNumber Weekday  ScanCount  DepartmentDescription  \\\n",
       "0       999            5  Friday         -1                      0   \n",
       "1        30            7  Friday          1                      1   \n",
       "2        30            7  Friday          1                      2   \n",
       "3        26            8  Friday          2                      3   \n",
       "4        26            8  Friday          2                      3   \n",
       "\n",
       "   FinelineNumber  standard_upc company_code product_code  \n",
       "0            1000  681131529297        81131        52929  \n",
       "1            8931  605388159809        05388        15980  \n",
       "2            4504  074108110992        74108        11099  \n",
       "3            3565  022384035102        22384        03510  \n",
       "4            1017  020066137441        20066        13744  "
      ]
     },
     "execution_count": 2,
     "metadata": {},
     "output_type": "execute_result"
    }
   ],
   "source": [
    "train = pd.read_csv('../data/train_v2.csv', index_col = 0)\n",
    "train.head()"
   ]
  },
  {
   "cell_type": "code",
   "execution_count": 3,
   "metadata": {},
   "outputs": [
    {
     "data": {
      "text/plain": [
       "(653646, 647052)"
      ]
     },
     "execution_count": 3,
     "metadata": {},
     "output_type": "execute_result"
    }
   ],
   "source": [
    "len(test), len(train)"
   ]
  },
  {
   "cell_type": "code",
   "execution_count": 4,
   "metadata": {},
   "outputs": [
    {
     "data": {
      "text/plain": [
       "(95674, 95674)"
      ]
     },
     "execution_count": 4,
     "metadata": {},
     "output_type": "execute_result"
    }
   ],
   "source": [
    "len(test['VisitNumber'].unique()), len(train['VisitNumber'].unique())"
   ]
  },
  {
   "cell_type": "code",
   "execution_count": 5,
   "metadata": {},
   "outputs": [],
   "source": [
    "def convert_description(description):\n",
    "    \n",
    "    description_list= ['FINANCIAL SERVICES', 'SHOES', 'PERSONAL CARE', 'PAINT AND ACCESSORIES', 'DSD GROCERY', 'MEAT - FRESH & FROZEN', 'DAIRY', 'PETS AND SUPPLIES', 'HOUSEHOLD CHEMICALS/SUPP', 'MISSING', 'IMPULSE MERCHANDISE', 'PRODUCE', 'CANDY, TOBACCO, COOKIES', 'GROCERY DRY GOODS', 'BOYS WEAR', 'FABRICS AND CRAFTS', 'JEWELRY AND SUNGLASSES', 'MENS WEAR', 'ACCESSORIES', 'HOME MANAGEMENT', 'FROZEN FOODS', 'SERVICE DELI', 'INFANT CONSUMABLE HARDLINES', 'PRE PACKED DELI', 'COOK AND DINE', 'PHARMACY OTC', 'LADIESWEAR', 'COMM BREAD', 'BAKERY', 'HOUSEHOLD PAPER GOODS', 'CELEBRATION', 'HARDWARE', 'BEAUTY', 'AUTOMOTIVE', 'BOOKS AND MAGAZINES', 'SEAFOOD', 'OFFICE SUPPLIES', 'LAWN AND GARDEN', 'SHEER HOSIERY', 'WIRELESS', 'BEDDING', 'BATH AND SHOWER', 'HORTICULTURE AND ACCESS', 'HOME DECOR', 'TOYS', 'INFANT APPAREL', 'LADIES SOCKS', 'PLUS AND MATERNITY', 'ELECTRONICS', 'GIRLS WEAR, 4-6X  AND 7-14', 'BRAS & SHAPEWEAR', 'LIQUOR,WINE,BEER', 'SLEEPWEAR/FOUNDATIONS', 'CAMERAS AND SUPPLIES', 'SPORTING GOODS', 'PLAYERS AND ELECTRONICS', 'PHARMACY RX', 'MENSWEAR', 'OPTICAL - FRAMES', 'SWIMWEAR/OUTERWEAR', 'OTHER DEPARTMENTS', 'MEDIA AND GAMING', 'FURNITURE', 'OPTICAL - LENSES', 'SEASONAL', 'LARGE HOUSEHOLD GOODS', '1-HR PHOTO', 'CONCEPT STORES', 'HEALTH AND BEAUTY AIDS']\n",
    "    result = description_list.index(description)\n",
    "    \n",
    "    if result == 9:\n",
    "        return 999\n",
    "    else:\n",
    "        return result"
   ]
  },
  {
   "cell_type": "code",
   "execution_count": 6,
   "metadata": {},
   "outputs": [
    {
     "data": {
      "text/plain": [
       "(653646, 8)"
      ]
     },
     "execution_count": 6,
     "metadata": {},
     "output_type": "execute_result"
    }
   ],
   "source": [
    "test.shape"
   ]
  },
  {
   "cell_type": "code",
   "execution_count": 7,
   "metadata": {},
   "outputs": [],
   "source": [
    "test['DepartmentDescription'] = test['DepartmentDescription'].fillna(value = \"MISSING\")"
   ]
  },
  {
   "cell_type": "code",
   "execution_count": 8,
   "metadata": {},
   "outputs": [],
   "source": [
    "test['DepartmentDescription'] = test['DepartmentDescription'].apply(convert_description)"
   ]
  },
  {
   "cell_type": "code",
   "execution_count": 9,
   "metadata": {},
   "outputs": [],
   "source": [
    "def convert_missing(missing):\n",
    "    if missing == \"missing\":\n",
    "        return 999\n",
    "    else:\n",
    "        return missing"
   ]
  },
  {
   "cell_type": "code",
   "execution_count": 10,
   "metadata": {},
   "outputs": [],
   "source": [
    "test['standard_upc'] = test['standard_upc'].apply(convert_missing)\n",
    "test['company_code'] = test['company_code'].apply(convert_missing)\n",
    "test['product_code'] = test['product_code'].apply(convert_missing)\n",
    "\n",
    "test['FinelineNumber'] = test['FinelineNumber'].fillna(value = 999)\n",
    "test['FinelineNumber'] = test['FinelineNumber'].astype(int)\n",
    "test['FinelineNumber'] = test['FinelineNumber'].astype('category')\n",
    "test['company_code'] = test['company_code'].fillna(value = 999)\n",
    "test['company_code'] = test['company_code'].astype('category')\n",
    "test['product_code'] = test['product_code'].fillna(value = 999)\n",
    "test['product_code'] = test['product_code'].astype('category')"
   ]
  },
  {
   "cell_type": "code",
   "execution_count": 11,
   "metadata": {},
   "outputs": [],
   "source": [
    "train['standard_upc'] = train['standard_upc'].apply(convert_missing)\n",
    "train['company_code'] = train['company_code'].apply(convert_missing)\n",
    "train['product_code'] = train['product_code'].apply(convert_missing)\n",
    "\n",
    "train['FinelineNumber'] = train['FinelineNumber'].fillna(value = 999)\n",
    "train['FinelineNumber'] = train['FinelineNumber'].astype(int)\n",
    "train['FinelineNumber'] = train['FinelineNumber'].astype('category')\n",
    "train['company_code'] = train['company_code'].fillna(value = 999)\n",
    "train['company_code'] = train['company_code'].astype('category')\n",
    "train['product_code'] = train['product_code'].fillna(value = 999)\n",
    "train['product_code'] = train['product_code'].astype('category')"
   ]
  },
  {
   "cell_type": "code",
   "execution_count": 12,
   "metadata": {},
   "outputs": [
    {
     "data": {
      "text/plain": [
       "(95674, 95674)"
      ]
     },
     "execution_count": 12,
     "metadata": {},
     "output_type": "execute_result"
    }
   ],
   "source": [
    "len(test['VisitNumber'].unique()), len(train['VisitNumber'].unique())"
   ]
  },
  {
   "cell_type": "code",
   "execution_count": 13,
   "metadata": {
    "scrolled": true
   },
   "outputs": [],
   "source": [
    "#delete_index = train[train['company_code'].isin([9999])].index"
   ]
  },
  {
   "cell_type": "code",
   "execution_count": 14,
   "metadata": {},
   "outputs": [],
   "source": [
    "#train = train.drop(index=delete_index)"
   ]
  },
  {
   "cell_type": "code",
   "execution_count": 15,
   "metadata": {},
   "outputs": [
    {
     "data": {
      "text/plain": [
       "(95674, 95674)"
      ]
     },
     "execution_count": 15,
     "metadata": {},
     "output_type": "execute_result"
    }
   ],
   "source": [
    "len(test['VisitNumber'].unique()), len(train['VisitNumber'].unique())"
   ]
  },
  {
   "cell_type": "code",
   "execution_count": 16,
   "metadata": {},
   "outputs": [
    {
     "name": "stdout",
     "output_type": "stream",
     "text": [
      "9021\n",
      "8796\n"
     ]
    }
   ],
   "source": [
    "print(len(set(test['product_code'].unique()) - set(train['product_code'].unique())))\n",
    "print(len(set(train['product_code'].unique()) - set(test['product_code'].unique())))"
   ]
  },
  {
   "cell_type": "code",
   "execution_count": 17,
   "metadata": {},
   "outputs": [
    {
     "data": {
      "text/plain": [
       "(421, 401)"
      ]
     },
     "execution_count": 17,
     "metadata": {},
     "output_type": "execute_result"
    }
   ],
   "source": [
    "421,401"
   ]
  },
  {
   "cell_type": "code",
   "execution_count": 18,
   "metadata": {},
   "outputs": [
    {
     "name": "stdout",
     "output_type": "stream",
     "text": [
      "421\n",
      "401\n"
     ]
    }
   ],
   "source": [
    "print(len(set(test['company_code'].unique()) - set(train['company_code'].unique())))\n",
    "print(len(set(train['company_code'].unique()) - set(test['company_code'].unique())))"
   ]
  },
  {
   "cell_type": "code",
   "execution_count": 19,
   "metadata": {},
   "outputs": [
    {
     "name": "stdout",
     "output_type": "stream",
     "text": [
      "158\n",
      "150\n"
     ]
    }
   ],
   "source": [
    "print(len(set(test['FinelineNumber'].unique()) - set(train['FinelineNumber'].unique())))\n",
    "print(len(set(train['FinelineNumber'].unique()) - set(test['FinelineNumber'].unique())))"
   ]
  },
  {
   "cell_type": "code",
   "execution_count": 20,
   "metadata": {},
   "outputs": [
    {
     "name": "stdout",
     "output_type": "stream",
     "text": [
      "0\n",
      "0\n"
     ]
    }
   ],
   "source": [
    "print(len(set(test['DepartmentDescription'].unique()) - set(train['DepartmentDescription'].unique())))\n",
    "print(len(set(train['DepartmentDescription'].unique()) - set(test['DepartmentDescription'].unique())))"
   ]
  },
  {
   "cell_type": "code",
   "execution_count": 21,
   "metadata": {},
   "outputs": [
    {
     "name": "stdout",
     "output_type": "stream",
     "text": [
      "95674\n",
      "95674\n"
     ]
    }
   ],
   "source": [
    "print(len(set(test['VisitNumber'].unique()) - set(train['VisitNumber'].unique())))\n",
    "print(len(set(train['VisitNumber'].unique()) - set(test['VisitNumber'].unique())))"
   ]
  },
  {
   "cell_type": "code",
   "execution_count": 22,
   "metadata": {
    "scrolled": true
   },
   "outputs": [
    {
     "name": "stdout",
     "output_type": "stream",
     "text": [
      "[3, 4, 5, 6, 7, 8, 9, 12, 14, 15, 18, 19, 20, 21, 22, 23, 24, 25, 26, 27, 28, 29, 30, 31, 32, 33, 34, 35, 36, 37, 38, 39, 40, 41, 42, 43, 44, 999]\n"
     ]
    }
   ],
   "source": [
    "a = list(train['TripType'].unique())\n",
    "a.sort()\n",
    "print(a)"
   ]
  },
  {
   "cell_type": "code",
   "execution_count": null,
   "metadata": {},
   "outputs": [],
   "source": []
  },
  {
   "cell_type": "code",
   "execution_count": 23,
   "metadata": {},
   "outputs": [],
   "source": [
    "comcode_list1 = list(set(test['company_code'].unique()) - set(train['company_code'].unique()))\n",
    "comcode_list2 = list(set(train['company_code'].unique()) - set(test['company_code'].unique()))"
   ]
  },
  {
   "cell_type": "code",
   "execution_count": 24,
   "metadata": {},
   "outputs": [
    {
     "data": {
      "text/plain": [
       "[25033, 17077, 94700, 84912, 28400, ..., 91953, 35200, 12574, 87083, 64666]\n",
       "Length: 5833\n",
       "Categories (5833, object): [25033, 17077, 94700, 84912, ..., 35200, 12574, 87083, 64666]"
      ]
     },
     "execution_count": 24,
     "metadata": {},
     "output_type": "execute_result"
    }
   ],
   "source": [
    "test['company_code'].unique()"
   ]
  },
  {
   "cell_type": "code",
   "execution_count": 25,
   "metadata": {},
   "outputs": [],
   "source": [
    "delete_test = test[test['company_code'].isin(comcode_list1)].index\n",
    "delete_train = train[train['company_code'].isin(comcode_list2)].index"
   ]
  },
  {
   "cell_type": "code",
   "execution_count": 26,
   "metadata": {},
   "outputs": [],
   "source": [
    "test_df = test.drop(index = delete_test)\n",
    "train_df = train.drop(index = delete_train)"
   ]
  },
  {
   "cell_type": "code",
   "execution_count": 27,
   "metadata": {},
   "outputs": [],
   "source": [
    "global tmp\n",
    "tmp = list(train_df['company_code'].unique())\n",
    "def convert_comcode(comcode):\n",
    "    global tmp\n",
    "    try:\n",
    "        return tmp.index(comcode)\n",
    "    except:\n",
    "        return 9999\n",
    "train_df['company_code'] = train_df['company_code'].apply(convert_comcode)\n",
    "test_df['company_code'] = test_df['company_code'].apply(convert_comcode)"
   ]
  },
  {
   "cell_type": "code",
   "execution_count": 28,
   "metadata": {},
   "outputs": [],
   "source": [
    "company_set = train.groupby('TripType')[\"company_code\"].apply(set)"
   ]
  },
  {
   "cell_type": "code",
   "execution_count": 29,
   "metadata": {},
   "outputs": [
    {
     "data": {
      "text/plain": [
       "('81131', '05388', '34000')"
      ]
     },
     "execution_count": 29,
     "metadata": {},
     "output_type": "execute_result"
    }
   ],
   "source": [
    "tmp[0], tmp[1], tmp[63]"
   ]
  },
  {
   "cell_type": "code",
   "execution_count": 30,
   "metadata": {},
   "outputs": [
    {
     "data": {
      "text/plain": [
       "{'05388', '34000', '81131'}"
      ]
     },
     "execution_count": 30,
     "metadata": {},
     "output_type": "execute_result"
    }
   ],
   "source": [
    "company_set[3]&company_set[4]&company_set[5]&company_set[6]&company_set[7]&company_set[8]&company_set[9]&company_set[12]&company_set[14]&company_set[15]&company_set[18]&company_set[19]&company_set[20]&company_set[21]&company_set[22]&company_set[23]&company_set[24]&company_set[25]&company_set[26]&company_set[27]&company_set[28]&company_set[29]&company_set[30]&company_set[31]&company_set[32]&company_set[33]&company_set[34]&company_set[35]&company_set[36]&company_set[37]&company_set[38]&company_set[39]&company_set[40]&company_set[41]&company_set[42]&company_set[43]&company_set[44]&company_set[999]"
   ]
  },
  {
   "cell_type": "code",
   "execution_count": 31,
   "metadata": {},
   "outputs": [],
   "source": [
    "description_set = train.groupby('TripType')[\"DepartmentDescription\"].apply(set)"
   ]
  },
  {
   "cell_type": "code",
   "execution_count": 32,
   "metadata": {},
   "outputs": [
    {
     "data": {
      "text/plain": [
       "{10, 29, 30, 36}"
      ]
     },
     "execution_count": 32,
     "metadata": {},
     "output_type": "execute_result"
    }
   ],
   "source": [
    "description_set[3]&description_set[4]&description_set[5]&description_set[6]&description_set[7]&description_set[8]&description_set[9]&description_set[12]&description_set[14]&description_set[15]&description_set[18]&description_set[19]&description_set[20]&description_set[21]&description_set[22]&description_set[23]&description_set[24]&description_set[25]&description_set[26]&description_set[27]&description_set[28]&description_set[29]&description_set[30]&description_set[31]&description_set[32]&description_set[33]&description_set[34]&description_set[35]&description_set[36]&description_set[37]&description_set[38]&description_set[39]&description_set[40]&description_set[41]&description_set[42]&description_set[43]&description_set[44]&description_set[999]"
   ]
  },
  {
   "cell_type": "code",
   "execution_count": 33,
   "metadata": {},
   "outputs": [],
   "source": [
    "description_list = ['FINANCIAL SERVICES', 'SHOES', 'PERSONAL CARE', 'PAINT AND ACCESSORIES', 'DSD GROCERY', 'MEAT - FRESH & FROZEN', 'DAIRY', 'PETS AND SUPPLIES', 'HOUSEHOLD CHEMICALS/SUPP', 'MISSING', 'IMPULSE MERCHANDISE', 'PRODUCE', 'CANDY, TOBACCO, COOKIES', 'GROCERY DRY GOODS', 'BOYS WEAR', 'FABRICS AND CRAFTS', 'JEWELRY AND SUNGLASSES', 'MENS WEAR', 'ACCESSORIES', 'HOME MANAGEMENT', 'FROZEN FOODS', 'SERVICE DELI', 'INFANT CONSUMABLE HARDLINES', 'PRE PACKED DELI', 'COOK AND DINE', 'PHARMACY OTC', 'LADIESWEAR', 'COMM BREAD', 'BAKERY', 'HOUSEHOLD PAPER GOODS', 'CELEBRATION', 'HARDWARE', 'BEAUTY', 'AUTOMOTIVE', 'BOOKS AND MAGAZINES', 'SEAFOOD', 'OFFICE SUPPLIES', 'LAWN AND GARDEN', 'SHEER HOSIERY', 'WIRELESS', 'BEDDING', 'BATH AND SHOWER', 'HORTICULTURE AND ACCESS', 'HOME DECOR', 'TOYS', 'INFANT APPAREL', 'LADIES SOCKS', 'PLUS AND MATERNITY', 'ELECTRONICS', 'GIRLS WEAR, 4-6X  AND 7-14', 'BRAS & SHAPEWEAR', 'LIQUOR,WINE,BEER', 'SLEEPWEAR/FOUNDATIONS', 'CAMERAS AND SUPPLIES', 'SPORTING GOODS', 'PLAYERS AND ELECTRONICS', 'PHARMACY RX', 'MENSWEAR', 'OPTICAL - FRAMES', 'SWIMWEAR/OUTERWEAR', 'OTHER DEPARTMENTS', 'MEDIA AND GAMING', 'FURNITURE', 'OPTICAL - LENSES', 'SEASONAL', 'LARGE HOUSEHOLD GOODS', '1-HR PHOTO', 'CONCEPT STORES', 'HEALTH AND BEAUTY AIDS']"
   ]
  },
  {
   "cell_type": "code",
   "execution_count": 34,
   "metadata": {},
   "outputs": [
    {
     "name": "stdout",
     "output_type": "stream",
     "text": [
      "IMPULSE MERCHANDISE\n",
      "HOUSEHOLD PAPER GOODS\n",
      "CELEBRATION\n",
      "OFFICE SUPPLIES\n"
     ]
    }
   ],
   "source": [
    "print(description_list[10])\n",
    "print(description_list[29])\n",
    "print(description_list[30])\n",
    "print(description_list[36])"
   ]
  },
  {
   "cell_type": "code",
   "execution_count": 35,
   "metadata": {},
   "outputs": [],
   "source": [
    "def product_info(description,comcode):\n",
    "    \n",
    "    if (description == 10 and comcode == 0) or (description == 10 and comcode == 1) or (description == 10 and comcode == 63):\n",
    "        return \"0_0\"\n",
    "    \n",
    "    elif (description == 29 and comcode == 0) or (description == 29 and comcode == 1) or (description == 29 and comcode == 63):\n",
    "        return \"0_0\"\n",
    "    \n",
    "    elif (description == 30 and comcode == 0) or (description == 30 and comcode == 1) or (description == 30 and comcode == 63):\n",
    "        return \"0_0\"\n",
    "    \n",
    "    elif (description == 36 and comcode == 0) or (description == 36 and comcode == 1) or (description == 36 and comcode == 63):\n",
    "        return \"0_0\"\n",
    "    \n",
    "    else:\n",
    "        result = str(description) + \"_\" + str(comcode)\n",
    "        return result"
   ]
  },
  {
   "cell_type": "code",
   "execution_count": 36,
   "metadata": {},
   "outputs": [],
   "source": [
    "def product_info(description,comcode):\n",
    "    \n",
    "    result = str(description) + \"_\" + str(comcode)\n",
    "    return result"
   ]
  },
  {
   "cell_type": "code",
   "execution_count": null,
   "metadata": {},
   "outputs": [],
   "source": []
  },
  {
   "cell_type": "code",
   "execution_count": 37,
   "metadata": {},
   "outputs": [],
   "source": [
    "test_df['product_info'] = test_df.apply(lambda row : product_info(row['DepartmentDescription'], row['company_code']), axis = 1)\n",
    "train_df['product_info'] = train_df.apply(lambda row : product_info(row['DepartmentDescription'], row['company_code']), axis = 1)\n"
   ]
  },
  {
   "cell_type": "code",
   "execution_count": 38,
   "metadata": {},
   "outputs": [
    {
     "data": {
      "text/plain": [
       "138"
      ]
     },
     "execution_count": 38,
     "metadata": {},
     "output_type": "execute_result"
    }
   ],
   "source": [
    "len(set(train_df['product_info'].unique()) - set(test_df['product_info'].unique()))"
   ]
  },
  {
   "cell_type": "code",
   "execution_count": 39,
   "metadata": {},
   "outputs": [],
   "source": [
    "def weekday(x):\n",
    "    if x == \"Saturday\" or x == \"Sumday\":\n",
    "        return 1\n",
    "    else:\n",
    "        return 0"
   ]
  },
  {
   "cell_type": "code",
   "execution_count": 40,
   "metadata": {},
   "outputs": [],
   "source": [
    "test_df['Weekday'] = test_df['Weekday'].apply(weekday)\n",
    "train_df['Weekday'] = train_df['Weekday'].apply(weekday)"
   ]
  },
  {
   "cell_type": "code",
   "execution_count": 41,
   "metadata": {},
   "outputs": [
    {
     "data": {
      "text/plain": [
       "set()"
      ]
     },
     "execution_count": 41,
     "metadata": {},
     "output_type": "execute_result"
    }
   ],
   "source": [
    "set(train_df['company_code'].unique()) - set(test_df['company_code'].unique())"
   ]
  },
  {
   "cell_type": "code",
   "execution_count": 42,
   "metadata": {},
   "outputs": [
    {
     "data": {
      "text/plain": [
       "set()"
      ]
     },
     "execution_count": 42,
     "metadata": {},
     "output_type": "execute_result"
    }
   ],
   "source": [
    "set(test_df['company_code'].unique()) - set(train_df['company_code'].unique())"
   ]
  },
  {
   "cell_type": "code",
   "execution_count": 43,
   "metadata": {},
   "outputs": [
    {
     "data": {
      "text/plain": [
       "5412"
      ]
     },
     "execution_count": 43,
     "metadata": {},
     "output_type": "execute_result"
    }
   ],
   "source": [
    "len(train_df['company_code'].unique())"
   ]
  },
  {
   "cell_type": "code",
   "execution_count": 44,
   "metadata": {},
   "outputs": [],
   "source": [
    "global tmp\n",
    "tmp = list(train_df['FinelineNumber'].unique())\n",
    "def convert_fineline(fineline):\n",
    "    global tmp\n",
    "    try:\n",
    "        return tmp.index(fineline)\n",
    "    except:\n",
    "        return 9999\n",
    "train_df['FinelineNumber'] = train_df['FinelineNumber'].apply(convert_fineline)\n",
    "test_df['FinelineNumber'] = test_df['FinelineNumber'].apply(convert_fineline)"
   ]
  },
  {
   "cell_type": "code",
   "execution_count": 45,
   "metadata": {},
   "outputs": [],
   "source": [
    "train_df['refund'] = train_df['ScanCount'].apply(lambda x: -x if x < 0 else 0)\n",
    "train_df['purchase'] = train_df['ScanCount'].apply(lambda x: x if x > 0 else 0)\n",
    "\n",
    "test_df['refund'] = test_df['ScanCount'].apply(lambda x: -x if x < 0 else 0)\n",
    "test_df['purchase'] = test_df['ScanCount'].apply(lambda x: x if x > 0 else 0)"
   ]
  },
  {
   "cell_type": "code",
   "execution_count": 46,
   "metadata": {},
   "outputs": [],
   "source": [
    "del train_df['product_code'], train_df['product_info'], train_df['standard_upc'], train_df['ScanCount']\n",
    "del test_df['product_code'], test_df['product_info'], test_df['standard_upc'] , test_df['ScanCount']"
   ]
  },
  {
   "cell_type": "code",
   "execution_count": 47,
   "metadata": {
    "scrolled": true
   },
   "outputs": [
    {
     "data": {
      "text/html": [
       "<div>\n",
       "<style scoped>\n",
       "    .dataframe tbody tr th:only-of-type {\n",
       "        vertical-align: middle;\n",
       "    }\n",
       "\n",
       "    .dataframe tbody tr th {\n",
       "        vertical-align: top;\n",
       "    }\n",
       "\n",
       "    .dataframe thead th {\n",
       "        text-align: right;\n",
       "    }\n",
       "</style>\n",
       "<table border=\"1\" class=\"dataframe\">\n",
       "  <thead>\n",
       "    <tr style=\"text-align: right;\">\n",
       "      <th></th>\n",
       "      <th>TripType</th>\n",
       "      <th>VisitNumber</th>\n",
       "      <th>Weekday</th>\n",
       "      <th>DepartmentDescription</th>\n",
       "      <th>FinelineNumber</th>\n",
       "      <th>company_code</th>\n",
       "      <th>refund</th>\n",
       "      <th>purchase</th>\n",
       "    </tr>\n",
       "  </thead>\n",
       "  <tbody>\n",
       "    <tr>\n",
       "      <th>0</th>\n",
       "      <td>999</td>\n",
       "      <td>5</td>\n",
       "      <td>0</td>\n",
       "      <td>0</td>\n",
       "      <td>0</td>\n",
       "      <td>0</td>\n",
       "      <td>1</td>\n",
       "      <td>0</td>\n",
       "    </tr>\n",
       "    <tr>\n",
       "      <th>1</th>\n",
       "      <td>30</td>\n",
       "      <td>7</td>\n",
       "      <td>0</td>\n",
       "      <td>1</td>\n",
       "      <td>1</td>\n",
       "      <td>1</td>\n",
       "      <td>0</td>\n",
       "      <td>1</td>\n",
       "    </tr>\n",
       "    <tr>\n",
       "      <th>2</th>\n",
       "      <td>30</td>\n",
       "      <td>7</td>\n",
       "      <td>0</td>\n",
       "      <td>2</td>\n",
       "      <td>2</td>\n",
       "      <td>2</td>\n",
       "      <td>0</td>\n",
       "      <td>1</td>\n",
       "    </tr>\n",
       "    <tr>\n",
       "      <th>3</th>\n",
       "      <td>26</td>\n",
       "      <td>8</td>\n",
       "      <td>0</td>\n",
       "      <td>3</td>\n",
       "      <td>3</td>\n",
       "      <td>3</td>\n",
       "      <td>0</td>\n",
       "      <td>2</td>\n",
       "    </tr>\n",
       "    <tr>\n",
       "      <th>4</th>\n",
       "      <td>26</td>\n",
       "      <td>8</td>\n",
       "      <td>0</td>\n",
       "      <td>3</td>\n",
       "      <td>4</td>\n",
       "      <td>4</td>\n",
       "      <td>0</td>\n",
       "      <td>2</td>\n",
       "    </tr>\n",
       "  </tbody>\n",
       "</table>\n",
       "</div>"
      ],
      "text/plain": [
       "   TripType  VisitNumber  Weekday  DepartmentDescription  FinelineNumber  \\\n",
       "0       999            5        0                      0               0   \n",
       "1        30            7        0                      1               1   \n",
       "2        30            7        0                      2               2   \n",
       "3        26            8        0                      3               3   \n",
       "4        26            8        0                      3               4   \n",
       "\n",
       "   company_code  refund  purchase  \n",
       "0             0       1         0  \n",
       "1             1       0         1  \n",
       "2             2       0         1  \n",
       "3             3       0         2  \n",
       "4             4       0         2  "
      ]
     },
     "execution_count": 47,
     "metadata": {},
     "output_type": "execute_result"
    }
   ],
   "source": [
    "train_df.head()"
   ]
  },
  {
   "cell_type": "code",
   "execution_count": 76,
   "metadata": {},
   "outputs": [
    {
     "data": {
      "text/html": [
       "<div>\n",
       "<style scoped>\n",
       "    .dataframe tbody tr th:only-of-type {\n",
       "        vertical-align: middle;\n",
       "    }\n",
       "\n",
       "    .dataframe tbody tr th {\n",
       "        vertical-align: top;\n",
       "    }\n",
       "\n",
       "    .dataframe thead th {\n",
       "        text-align: right;\n",
       "    }\n",
       "</style>\n",
       "<table border=\"1\" class=\"dataframe\">\n",
       "  <thead>\n",
       "    <tr style=\"text-align: right;\">\n",
       "      <th></th>\n",
       "      <th>VisitNumber</th>\n",
       "      <th>DepartmentDescription</th>\n",
       "      <th>FinelineNumber</th>\n",
       "      <th>company_code</th>\n",
       "    </tr>\n",
       "  </thead>\n",
       "  <tbody>\n",
       "    <tr>\n",
       "      <th>0</th>\n",
       "      <td>5</td>\n",
       "      <td>0</td>\n",
       "      <td>0</td>\n",
       "      <td>0</td>\n",
       "    </tr>\n",
       "    <tr>\n",
       "      <th>1</th>\n",
       "      <td>7</td>\n",
       "      <td>1</td>\n",
       "      <td>1</td>\n",
       "      <td>1</td>\n",
       "    </tr>\n",
       "    <tr>\n",
       "      <th>2</th>\n",
       "      <td>7</td>\n",
       "      <td>2</td>\n",
       "      <td>2</td>\n",
       "      <td>2</td>\n",
       "    </tr>\n",
       "    <tr>\n",
       "      <th>3</th>\n",
       "      <td>8</td>\n",
       "      <td>3</td>\n",
       "      <td>3</td>\n",
       "      <td>3</td>\n",
       "    </tr>\n",
       "    <tr>\n",
       "      <th>4</th>\n",
       "      <td>8</td>\n",
       "      <td>3</td>\n",
       "      <td>4</td>\n",
       "      <td>4</td>\n",
       "    </tr>\n",
       "  </tbody>\n",
       "</table>\n",
       "</div>"
      ],
      "text/plain": [
       "   VisitNumber  DepartmentDescription  FinelineNumber  company_code\n",
       "0            5                      0               0             0\n",
       "1            7                      1               1             1\n",
       "2            7                      2               2             2\n",
       "3            8                      3               3             3\n",
       "4            8                      3               4             4"
      ]
     },
     "execution_count": 76,
     "metadata": {},
     "output_type": "execute_result"
    }
   ],
   "source": [
    "X = train_df.loc[:,\"VisitNumber\":\"company_code\"]\n",
    "del X['Weekday']\n",
    "X.head()"
   ]
  },
  {
   "cell_type": "code",
   "execution_count": 75,
   "metadata": {
    "scrolled": true
   },
   "outputs": [],
   "source": [
    "X1 = X.loc[:200000,:]\n",
    "X2 = X.loc[200001:400011,:]\n",
    "X3 = X.loc[400012:,:]"
   ]
  },
  {
   "cell_type": "code",
   "execution_count": 77,
   "metadata": {},
   "outputs": [],
   "source": [
    "from sklearn.preprocessing import OneHotEncoder\n",
    "ohe = OneHotEncoder(categorical_features=[False, True, True, True])\n",
    "\n",
    "pre1 = ohe.fit_transform(X1)\n",
    "pre2 = ohe.fit_transform(X2)\n",
    "pre3 = ohe.fit_transform(X3)\n",
    "\n",
    "df1 = pd.DataFrame(pre1.toarray())\n",
    "df2 = pd.DataFrame(pre2.toarray())\n",
    "df3 = pd.DataFrame(pre3.toarray())"
   ]
  },
  {
   "cell_type": "code",
   "execution_count": null,
   "metadata": {},
   "outputs": [],
   "source": [
    "df1 = df1.rename(columns={9438 : \"VisitNumber\"})\n",
    "df2 = df2.rename(columns={9438 : \"VisitNumber\"})\n",
    "df3 = df3.rename(columns={9438 : \"VisitNumber\"})\n",
    "\n",
    "df1 = df1.groupby(df1['VisitNumber']).sum()\n",
    "df2 = df2.groupby(df2['VisitNumber']).sum()\n",
    "df3 = df3.groupby(df3['VisitNumber']).sum()"
   ]
  },
  {
   "cell_type": "code",
   "execution_count": 67,
   "metadata": {},
   "outputs": [],
   "source": [
    "df4 = train_df[['VisitNumber', 'TripType','Weekday']].groupby('VisitNumber').mean()\n",
    "df5 = train_df[['VisitNumber', 'refund','purchase']].groupby('VisitNumber').sum()"
   ]
  },
  {
   "cell_type": "code",
   "execution_count": null,
   "metadata": {},
   "outputs": [],
   "source": []
  },
  {
   "cell_type": "code",
   "execution_count": 111,
   "metadata": {},
   "outputs": [
    {
     "data": {
      "text/html": [
       "<div>\n",
       "<style scoped>\n",
       "    .dataframe tbody tr th:only-of-type {\n",
       "        vertical-align: middle;\n",
       "    }\n",
       "\n",
       "    .dataframe tbody tr th {\n",
       "        vertical-align: top;\n",
       "    }\n",
       "\n",
       "    .dataframe thead th {\n",
       "        text-align: right;\n",
       "    }\n",
       "</style>\n",
       "<table border=\"1\" class=\"dataframe\">\n",
       "  <thead>\n",
       "    <tr style=\"text-align: right;\">\n",
       "      <th></th>\n",
       "      <th>TripType</th>\n",
       "      <th>Weekday</th>\n",
       "    </tr>\n",
       "    <tr>\n",
       "      <th>VisitNumber</th>\n",
       "      <th></th>\n",
       "      <th></th>\n",
       "    </tr>\n",
       "  </thead>\n",
       "  <tbody>\n",
       "    <tr>\n",
       "      <th>5</th>\n",
       "      <td>999</td>\n",
       "      <td>0</td>\n",
       "    </tr>\n",
       "    <tr>\n",
       "      <th>7</th>\n",
       "      <td>30</td>\n",
       "      <td>0</td>\n",
       "    </tr>\n",
       "    <tr>\n",
       "      <th>8</th>\n",
       "      <td>26</td>\n",
       "      <td>0</td>\n",
       "    </tr>\n",
       "    <tr>\n",
       "      <th>9</th>\n",
       "      <td>8</td>\n",
       "      <td>0</td>\n",
       "    </tr>\n",
       "    <tr>\n",
       "      <th>10</th>\n",
       "      <td>8</td>\n",
       "      <td>0</td>\n",
       "    </tr>\n",
       "    <tr>\n",
       "      <th>11</th>\n",
       "      <td>35</td>\n",
       "      <td>0</td>\n",
       "    </tr>\n",
       "    <tr>\n",
       "      <th>12</th>\n",
       "      <td>41</td>\n",
       "      <td>0</td>\n",
       "    </tr>\n",
       "    <tr>\n",
       "      <th>15</th>\n",
       "      <td>21</td>\n",
       "      <td>0</td>\n",
       "    </tr>\n",
       "    <tr>\n",
       "      <th>17</th>\n",
       "      <td>6</td>\n",
       "      <td>0</td>\n",
       "    </tr>\n",
       "    <tr>\n",
       "      <th>19</th>\n",
       "      <td>42</td>\n",
       "      <td>0</td>\n",
       "    </tr>\n",
       "    <tr>\n",
       "      <th>20</th>\n",
       "      <td>7</td>\n",
       "      <td>0</td>\n",
       "    </tr>\n",
       "    <tr>\n",
       "      <th>23</th>\n",
       "      <td>9</td>\n",
       "      <td>0</td>\n",
       "    </tr>\n",
       "    <tr>\n",
       "      <th>25</th>\n",
       "      <td>8</td>\n",
       "      <td>0</td>\n",
       "    </tr>\n",
       "    <tr>\n",
       "      <th>26</th>\n",
       "      <td>39</td>\n",
       "      <td>0</td>\n",
       "    </tr>\n",
       "    <tr>\n",
       "      <th>28</th>\n",
       "      <td>25</td>\n",
       "      <td>0</td>\n",
       "    </tr>\n",
       "    <tr>\n",
       "      <th>29</th>\n",
       "      <td>8</td>\n",
       "      <td>0</td>\n",
       "    </tr>\n",
       "    <tr>\n",
       "      <th>30</th>\n",
       "      <td>9</td>\n",
       "      <td>0</td>\n",
       "    </tr>\n",
       "    <tr>\n",
       "      <th>31</th>\n",
       "      <td>8</td>\n",
       "      <td>0</td>\n",
       "    </tr>\n",
       "    <tr>\n",
       "      <th>32</th>\n",
       "      <td>8</td>\n",
       "      <td>0</td>\n",
       "    </tr>\n",
       "    <tr>\n",
       "      <th>33</th>\n",
       "      <td>8</td>\n",
       "      <td>0</td>\n",
       "    </tr>\n",
       "    <tr>\n",
       "      <th>40</th>\n",
       "      <td>8</td>\n",
       "      <td>0</td>\n",
       "    </tr>\n",
       "    <tr>\n",
       "      <th>41</th>\n",
       "      <td>8</td>\n",
       "      <td>0</td>\n",
       "    </tr>\n",
       "    <tr>\n",
       "      <th>42</th>\n",
       "      <td>8</td>\n",
       "      <td>0</td>\n",
       "    </tr>\n",
       "    <tr>\n",
       "      <th>43</th>\n",
       "      <td>38</td>\n",
       "      <td>0</td>\n",
       "    </tr>\n",
       "    <tr>\n",
       "      <th>45</th>\n",
       "      <td>8</td>\n",
       "      <td>0</td>\n",
       "    </tr>\n",
       "    <tr>\n",
       "      <th>47</th>\n",
       "      <td>35</td>\n",
       "      <td>0</td>\n",
       "    </tr>\n",
       "    <tr>\n",
       "      <th>49</th>\n",
       "      <td>15</td>\n",
       "      <td>0</td>\n",
       "    </tr>\n",
       "    <tr>\n",
       "      <th>50</th>\n",
       "      <td>9</td>\n",
       "      <td>0</td>\n",
       "    </tr>\n",
       "    <tr>\n",
       "      <th>51</th>\n",
       "      <td>8</td>\n",
       "      <td>0</td>\n",
       "    </tr>\n",
       "    <tr>\n",
       "      <th>53</th>\n",
       "      <td>8</td>\n",
       "      <td>0</td>\n",
       "    </tr>\n",
       "    <tr>\n",
       "      <th>...</th>\n",
       "      <td>...</td>\n",
       "      <td>...</td>\n",
       "    </tr>\n",
       "    <tr>\n",
       "      <th>191276</th>\n",
       "      <td>21</td>\n",
       "      <td>0</td>\n",
       "    </tr>\n",
       "    <tr>\n",
       "      <th>191277</th>\n",
       "      <td>44</td>\n",
       "      <td>0</td>\n",
       "    </tr>\n",
       "    <tr>\n",
       "      <th>191280</th>\n",
       "      <td>8</td>\n",
       "      <td>0</td>\n",
       "    </tr>\n",
       "    <tr>\n",
       "      <th>191283</th>\n",
       "      <td>44</td>\n",
       "      <td>0</td>\n",
       "    </tr>\n",
       "    <tr>\n",
       "      <th>191286</th>\n",
       "      <td>40</td>\n",
       "      <td>0</td>\n",
       "    </tr>\n",
       "    <tr>\n",
       "      <th>191287</th>\n",
       "      <td>26</td>\n",
       "      <td>0</td>\n",
       "    </tr>\n",
       "    <tr>\n",
       "      <th>191289</th>\n",
       "      <td>8</td>\n",
       "      <td>0</td>\n",
       "    </tr>\n",
       "    <tr>\n",
       "      <th>191291</th>\n",
       "      <td>8</td>\n",
       "      <td>0</td>\n",
       "    </tr>\n",
       "    <tr>\n",
       "      <th>191293</th>\n",
       "      <td>36</td>\n",
       "      <td>0</td>\n",
       "    </tr>\n",
       "    <tr>\n",
       "      <th>191298</th>\n",
       "      <td>40</td>\n",
       "      <td>0</td>\n",
       "    </tr>\n",
       "    <tr>\n",
       "      <th>191301</th>\n",
       "      <td>42</td>\n",
       "      <td>0</td>\n",
       "    </tr>\n",
       "    <tr>\n",
       "      <th>191304</th>\n",
       "      <td>36</td>\n",
       "      <td>0</td>\n",
       "    </tr>\n",
       "    <tr>\n",
       "      <th>191305</th>\n",
       "      <td>31</td>\n",
       "      <td>0</td>\n",
       "    </tr>\n",
       "    <tr>\n",
       "      <th>191311</th>\n",
       "      <td>9</td>\n",
       "      <td>0</td>\n",
       "    </tr>\n",
       "    <tr>\n",
       "      <th>191312</th>\n",
       "      <td>42</td>\n",
       "      <td>0</td>\n",
       "    </tr>\n",
       "    <tr>\n",
       "      <th>191313</th>\n",
       "      <td>30</td>\n",
       "      <td>0</td>\n",
       "    </tr>\n",
       "    <tr>\n",
       "      <th>191318</th>\n",
       "      <td>7</td>\n",
       "      <td>0</td>\n",
       "    </tr>\n",
       "    <tr>\n",
       "      <th>191322</th>\n",
       "      <td>38</td>\n",
       "      <td>0</td>\n",
       "    </tr>\n",
       "    <tr>\n",
       "      <th>191324</th>\n",
       "      <td>40</td>\n",
       "      <td>0</td>\n",
       "    </tr>\n",
       "    <tr>\n",
       "      <th>191326</th>\n",
       "      <td>38</td>\n",
       "      <td>0</td>\n",
       "    </tr>\n",
       "    <tr>\n",
       "      <th>191329</th>\n",
       "      <td>24</td>\n",
       "      <td>0</td>\n",
       "    </tr>\n",
       "    <tr>\n",
       "      <th>191331</th>\n",
       "      <td>9</td>\n",
       "      <td>0</td>\n",
       "    </tr>\n",
       "    <tr>\n",
       "      <th>191335</th>\n",
       "      <td>32</td>\n",
       "      <td>0</td>\n",
       "    </tr>\n",
       "    <tr>\n",
       "      <th>191337</th>\n",
       "      <td>38</td>\n",
       "      <td>0</td>\n",
       "    </tr>\n",
       "    <tr>\n",
       "      <th>191342</th>\n",
       "      <td>8</td>\n",
       "      <td>0</td>\n",
       "    </tr>\n",
       "    <tr>\n",
       "      <th>191343</th>\n",
       "      <td>25</td>\n",
       "      <td>0</td>\n",
       "    </tr>\n",
       "    <tr>\n",
       "      <th>191344</th>\n",
       "      <td>22</td>\n",
       "      <td>0</td>\n",
       "    </tr>\n",
       "    <tr>\n",
       "      <th>191345</th>\n",
       "      <td>39</td>\n",
       "      <td>0</td>\n",
       "    </tr>\n",
       "    <tr>\n",
       "      <th>191346</th>\n",
       "      <td>39</td>\n",
       "      <td>0</td>\n",
       "    </tr>\n",
       "    <tr>\n",
       "      <th>191347</th>\n",
       "      <td>8</td>\n",
       "      <td>0</td>\n",
       "    </tr>\n",
       "  </tbody>\n",
       "</table>\n",
       "<p>95599 rows × 2 columns</p>\n",
       "</div>"
      ],
      "text/plain": [
       "             TripType  Weekday\n",
       "VisitNumber                   \n",
       "5                 999        0\n",
       "7                  30        0\n",
       "8                  26        0\n",
       "9                   8        0\n",
       "10                  8        0\n",
       "11                 35        0\n",
       "12                 41        0\n",
       "15                 21        0\n",
       "17                  6        0\n",
       "19                 42        0\n",
       "20                  7        0\n",
       "23                  9        0\n",
       "25                  8        0\n",
       "26                 39        0\n",
       "28                 25        0\n",
       "29                  8        0\n",
       "30                  9        0\n",
       "31                  8        0\n",
       "32                  8        0\n",
       "33                  8        0\n",
       "40                  8        0\n",
       "41                  8        0\n",
       "42                  8        0\n",
       "43                 38        0\n",
       "45                  8        0\n",
       "47                 35        0\n",
       "49                 15        0\n",
       "50                  9        0\n",
       "51                  8        0\n",
       "53                  8        0\n",
       "...               ...      ...\n",
       "191276             21        0\n",
       "191277             44        0\n",
       "191280              8        0\n",
       "191283             44        0\n",
       "191286             40        0\n",
       "191287             26        0\n",
       "191289              8        0\n",
       "191291              8        0\n",
       "191293             36        0\n",
       "191298             40        0\n",
       "191301             42        0\n",
       "191304             36        0\n",
       "191305             31        0\n",
       "191311              9        0\n",
       "191312             42        0\n",
       "191313             30        0\n",
       "191318              7        0\n",
       "191322             38        0\n",
       "191324             40        0\n",
       "191326             38        0\n",
       "191329             24        0\n",
       "191331              9        0\n",
       "191335             32        0\n",
       "191337             38        0\n",
       "191342              8        0\n",
       "191343             25        0\n",
       "191344             22        0\n",
       "191345             39        0\n",
       "191346             39        0\n",
       "191347              8        0\n",
       "\n",
       "[95599 rows x 2 columns]"
      ]
     },
     "execution_count": 111,
     "metadata": {},
     "output_type": "execute_result"
    }
   ],
   "source": [
    "df2 = train_df"
   ]
  },
  {
   "cell_type": "code",
   "execution_count": null,
   "metadata": {},
   "outputs": [],
   "source": []
  },
  {
   "cell_type": "code",
   "execution_count": null,
   "metadata": {},
   "outputs": [],
   "source": []
  },
  {
   "cell_type": "code",
   "execution_count": null,
   "metadata": {},
   "outputs": [],
   "source": []
  },
  {
   "cell_type": "code",
   "execution_count": null,
   "metadata": {},
   "outputs": [],
   "source": []
  },
  {
   "cell_type": "code",
   "execution_count": 122,
   "metadata": {},
   "outputs": [],
   "source": [
    "del test['standard_upc'], test['company_code'], test['product_code'], test['FinelineNumber'], test['DepartmentDescription']"
   ]
  },
  {
   "cell_type": "code",
   "execution_count": 123,
   "metadata": {},
   "outputs": [],
   "source": [
    "del train['standard_upc'], train['company_code'], train['product_code'], train['FinelineNumber'], train['DepartmentDescription']"
   ]
  },
  {
   "cell_type": "code",
   "execution_count": 124,
   "metadata": {},
   "outputs": [
    {
     "data": {
      "text/plain": [
       "(95674, 95674)"
      ]
     },
     "execution_count": 124,
     "metadata": {},
     "output_type": "execute_result"
    }
   ],
   "source": [
    "len(test['VisitNumber'].unique()), len(train['VisitNumber'].unique())"
   ]
  },
  {
   "cell_type": "code",
   "execution_count": 125,
   "metadata": {},
   "outputs": [
    {
     "data": {
      "text/html": [
       "<div>\n",
       "<style scoped>\n",
       "    .dataframe tbody tr th:only-of-type {\n",
       "        vertical-align: middle;\n",
       "    }\n",
       "\n",
       "    .dataframe tbody tr th {\n",
       "        vertical-align: top;\n",
       "    }\n",
       "\n",
       "    .dataframe thead th {\n",
       "        text-align: right;\n",
       "    }\n",
       "</style>\n",
       "<table border=\"1\" class=\"dataframe\">\n",
       "  <thead>\n",
       "    <tr style=\"text-align: right;\">\n",
       "      <th></th>\n",
       "      <th>VisitNumber</th>\n",
       "      <th>Weekday</th>\n",
       "      <th>ScanCount</th>\n",
       "      <th>product_info</th>\n",
       "    </tr>\n",
       "  </thead>\n",
       "  <tbody>\n",
       "    <tr>\n",
       "      <th>0</th>\n",
       "      <td>1</td>\n",
       "      <td>0</td>\n",
       "      <td>1</td>\n",
       "      <td>1_34</td>\n",
       "    </tr>\n",
       "    <tr>\n",
       "      <th>1</th>\n",
       "      <td>1</td>\n",
       "      <td>0</td>\n",
       "      <td>1</td>\n",
       "      <td>6_3743</td>\n",
       "    </tr>\n",
       "    <tr>\n",
       "      <th>2</th>\n",
       "      <td>1</td>\n",
       "      <td>0</td>\n",
       "      <td>1</td>\n",
       "      <td>6_51</td>\n",
       "    </tr>\n",
       "    <tr>\n",
       "      <th>3</th>\n",
       "      <td>1</td>\n",
       "      <td>0</td>\n",
       "      <td>1</td>\n",
       "      <td>13_373</td>\n",
       "    </tr>\n",
       "    <tr>\n",
       "      <th>4</th>\n",
       "      <td>2</td>\n",
       "      <td>0</td>\n",
       "      <td>1</td>\n",
       "      <td>4_26</td>\n",
       "    </tr>\n",
       "  </tbody>\n",
       "</table>\n",
       "</div>"
      ],
      "text/plain": [
       "   VisitNumber  Weekday  ScanCount product_info\n",
       "0            1        0          1         1_34\n",
       "1            1        0          1       6_3743\n",
       "2            1        0          1         6_51\n",
       "3            1        0          1       13_373\n",
       "4            2        0          1         4_26"
      ]
     },
     "execution_count": 125,
     "metadata": {},
     "output_type": "execute_result"
    }
   ],
   "source": [
    "test.head()"
   ]
  },
  {
   "cell_type": "code",
   "execution_count": 126,
   "metadata": {},
   "outputs": [
    {
     "data": {
      "text/html": [
       "<div>\n",
       "<style scoped>\n",
       "    .dataframe tbody tr th:only-of-type {\n",
       "        vertical-align: middle;\n",
       "    }\n",
       "\n",
       "    .dataframe tbody tr th {\n",
       "        vertical-align: top;\n",
       "    }\n",
       "\n",
       "    .dataframe thead th {\n",
       "        text-align: right;\n",
       "    }\n",
       "</style>\n",
       "<table border=\"1\" class=\"dataframe\">\n",
       "  <thead>\n",
       "    <tr style=\"text-align: right;\">\n",
       "      <th></th>\n",
       "      <th>TripType</th>\n",
       "      <th>VisitNumber</th>\n",
       "      <th>Weekday</th>\n",
       "      <th>ScanCount</th>\n",
       "      <th>product_info</th>\n",
       "    </tr>\n",
       "  </thead>\n",
       "  <tbody>\n",
       "    <tr>\n",
       "      <th>0</th>\n",
       "      <td>999</td>\n",
       "      <td>5</td>\n",
       "      <td>0</td>\n",
       "      <td>-1</td>\n",
       "      <td>0_0</td>\n",
       "    </tr>\n",
       "    <tr>\n",
       "      <th>1</th>\n",
       "      <td>30</td>\n",
       "      <td>7</td>\n",
       "      <td>0</td>\n",
       "      <td>1</td>\n",
       "      <td>1_0</td>\n",
       "    </tr>\n",
       "    <tr>\n",
       "      <th>2</th>\n",
       "      <td>30</td>\n",
       "      <td>7</td>\n",
       "      <td>0</td>\n",
       "      <td>1</td>\n",
       "      <td>2_2</td>\n",
       "    </tr>\n",
       "    <tr>\n",
       "      <th>3</th>\n",
       "      <td>26</td>\n",
       "      <td>8</td>\n",
       "      <td>0</td>\n",
       "      <td>2</td>\n",
       "      <td>3_3</td>\n",
       "    </tr>\n",
       "    <tr>\n",
       "      <th>4</th>\n",
       "      <td>26</td>\n",
       "      <td>8</td>\n",
       "      <td>0</td>\n",
       "      <td>2</td>\n",
       "      <td>3_4</td>\n",
       "    </tr>\n",
       "  </tbody>\n",
       "</table>\n",
       "</div>"
      ],
      "text/plain": [
       "   TripType  VisitNumber  Weekday  ScanCount product_info\n",
       "0       999            5        0         -1          0_0\n",
       "1        30            7        0          1          1_0\n",
       "2        30            7        0          1          2_2\n",
       "3        26            8        0          2          3_3\n",
       "4        26            8        0          2          3_4"
      ]
     },
     "execution_count": 126,
     "metadata": {},
     "output_type": "execute_result"
    }
   ],
   "source": [
    "train.head()"
   ]
  },
  {
   "cell_type": "code",
   "execution_count": null,
   "metadata": {},
   "outputs": [],
   "source": []
  },
  {
   "cell_type": "code",
   "execution_count": 52,
   "metadata": {},
   "outputs": [
    {
     "data": {
      "text/plain": [
       "(653646, 4)"
      ]
     },
     "execution_count": 52,
     "metadata": {},
     "output_type": "execute_result"
    }
   ],
   "source": [
    "test.shape"
   ]
  },
  {
   "cell_type": "code",
   "execution_count": 53,
   "metadata": {},
   "outputs": [
    {
     "data": {
      "text/plain": [
       "(95674, 95674)"
      ]
     },
     "execution_count": 53,
     "metadata": {},
     "output_type": "execute_result"
    }
   ],
   "source": [
    "len(test['VisitNumber'].unique()), len(train['VisitNumber'].unique())"
   ]
  },
  {
   "cell_type": "code",
   "execution_count": 54,
   "metadata": {},
   "outputs": [],
   "source": [
    "#delete_info_list = list(set(train['product_info'].unique()) - set(test['product_info'].unique()))"
   ]
  },
  {
   "cell_type": "code",
   "execution_count": 55,
   "metadata": {},
   "outputs": [],
   "source": [
    "#delete_info_list2 = list(set(test['product_info'].unique()) - set(train['product_info'].unique()))"
   ]
  },
  {
   "cell_type": "code",
   "execution_count": 56,
   "metadata": {},
   "outputs": [],
   "source": [
    "#delete_index1 = train[train['product_info'].isin(delete_info_list)].index"
   ]
  },
  {
   "cell_type": "code",
   "execution_count": 57,
   "metadata": {},
   "outputs": [],
   "source": [
    "#delete_index2 = test[test['product_info'].isin(delete_info_list2)].index"
   ]
  },
  {
   "cell_type": "code",
   "execution_count": 58,
   "metadata": {},
   "outputs": [],
   "source": [
    "#train_df = train.drop(index = delete_index1)\n",
    "#test_df = test.drop(index = delete_index2)"
   ]
  },
  {
   "cell_type": "code",
   "execution_count": 129,
   "metadata": {
    "scrolled": true
   },
   "outputs": [],
   "source": [
    "train_df = train.copy()\n",
    "test_df = test.copy()"
   ]
  },
  {
   "cell_type": "code",
   "execution_count": 130,
   "metadata": {
    "scrolled": true
   },
   "outputs": [
    {
     "data": {
      "text/plain": [
       "541"
      ]
     },
     "execution_count": 130,
     "metadata": {},
     "output_type": "execute_result"
    }
   ],
   "source": [
    "len(set(train_df['product_info'].unique()) - set(test_df['product_info'].unique()))"
   ]
  },
  {
   "cell_type": "code",
   "execution_count": 131,
   "metadata": {},
   "outputs": [
    {
     "data": {
      "text/plain": [
       "171"
      ]
     },
     "execution_count": 131,
     "metadata": {},
     "output_type": "execute_result"
    }
   ],
   "source": [
    "len(set(test_df['product_info'].unique()) - set(train_df['product_info'].unique()))"
   ]
  },
  {
   "cell_type": "code",
   "execution_count": 61,
   "metadata": {},
   "outputs": [
    {
     "data": {
      "text/plain": [
       "(95565, 95574)"
      ]
     },
     "execution_count": 61,
     "metadata": {},
     "output_type": "execute_result"
    }
   ],
   "source": [
    "len(test_df['VisitNumber'].unique()), len(train_df['VisitNumber'].unique())"
   ]
  },
  {
   "cell_type": "code",
   "execution_count": 127,
   "metadata": {},
   "outputs": [
    {
     "ename": "NameError",
     "evalue": "name 'train_df' is not defined",
     "output_type": "error",
     "traceback": [
      "\u001b[0;31m---------------------------------------------------------------------------\u001b[0m",
      "\u001b[0;31mNameError\u001b[0m                                 Traceback (most recent call last)",
      "\u001b[0;32m<ipython-input-127-036c81078676>\u001b[0m in \u001b[0;36m<module>\u001b[0;34m()\u001b[0m\n\u001b[1;32m      1\u001b[0m \u001b[0;32mglobal\u001b[0m \u001b[0minfo_list\u001b[0m\u001b[0;34m\u001b[0m\u001b[0m\n\u001b[0;32m----> 2\u001b[0;31m \u001b[0minfo_list\u001b[0m \u001b[0;34m=\u001b[0m \u001b[0mlist\u001b[0m\u001b[0;34m(\u001b[0m\u001b[0mtrain_df\u001b[0m\u001b[0;34m[\u001b[0m\u001b[0;34m'product_info'\u001b[0m\u001b[0;34m]\u001b[0m\u001b[0;34m.\u001b[0m\u001b[0munique\u001b[0m\u001b[0;34m(\u001b[0m\u001b[0;34m)\u001b[0m\u001b[0;34m)\u001b[0m\u001b[0;34m\u001b[0m\u001b[0m\n\u001b[0m\u001b[1;32m      3\u001b[0m \u001b[0;32mdef\u001b[0m \u001b[0mconvert_product_info\u001b[0m\u001b[0;34m(\u001b[0m\u001b[0minfo\u001b[0m\u001b[0;34m)\u001b[0m\u001b[0;34m:\u001b[0m\u001b[0;34m\u001b[0m\u001b[0m\n\u001b[1;32m      4\u001b[0m \u001b[0;34m\u001b[0m\u001b[0m\n\u001b[1;32m      5\u001b[0m \u001b[0;34m\u001b[0m\u001b[0m\n",
      "\u001b[0;31mNameError\u001b[0m: name 'train_df' is not defined"
     ]
    }
   ],
   "source": [
    "global info_list\n",
    "info_list = list(train_df['product_info'].unique())\n",
    "def convert_product_info(info):\n",
    "\n",
    "    return info_list.index(info)\n",
    "\n",
    "train_df['product_info'] = train_df['product_info'].apply(convert_product_info)\n",
    "test_df['product_info'] = test_df['product_info'].apply(convert_product_info)\n",
    "\n",
    "train_df['refund'] = train_df['ScanCount'].apply(lambda x: -x if x < 0 else 0)\n",
    "train_df['purchase'] = train_df['ScanCount'].apply(lambda x: x if x > 0 else 0)\n",
    "\n",
    "test_df['refund'] = test_df['ScanCount'].apply(lambda x: -x if x < 0 else 0)\n",
    "test_df['purchase'] = test_df['ScanCount'].apply(lambda x: x if x > 0 else 0)\n",
    "\n",
    "del train_df['ScanCount']\n",
    "del test_df['ScanCount']"
   ]
  },
  {
   "cell_type": "code",
   "execution_count": 63,
   "metadata": {},
   "outputs": [
    {
     "data": {
      "text/html": [
       "<div>\n",
       "<style scoped>\n",
       "    .dataframe tbody tr th:only-of-type {\n",
       "        vertical-align: middle;\n",
       "    }\n",
       "\n",
       "    .dataframe tbody tr th {\n",
       "        vertical-align: top;\n",
       "    }\n",
       "\n",
       "    .dataframe thead th {\n",
       "        text-align: right;\n",
       "    }\n",
       "</style>\n",
       "<table border=\"1\" class=\"dataframe\">\n",
       "  <thead>\n",
       "    <tr style=\"text-align: right;\">\n",
       "      <th></th>\n",
       "      <th>TripType</th>\n",
       "      <th>VisitNumber</th>\n",
       "      <th>Weekday</th>\n",
       "      <th>product_info</th>\n",
       "      <th>refund</th>\n",
       "      <th>purchase</th>\n",
       "    </tr>\n",
       "  </thead>\n",
       "  <tbody>\n",
       "    <tr>\n",
       "      <th>0</th>\n",
       "      <td>999</td>\n",
       "      <td>5</td>\n",
       "      <td>0</td>\n",
       "      <td>0</td>\n",
       "      <td>1</td>\n",
       "      <td>0</td>\n",
       "    </tr>\n",
       "    <tr>\n",
       "      <th>1</th>\n",
       "      <td>30</td>\n",
       "      <td>7</td>\n",
       "      <td>0</td>\n",
       "      <td>1</td>\n",
       "      <td>0</td>\n",
       "      <td>1</td>\n",
       "    </tr>\n",
       "    <tr>\n",
       "      <th>2</th>\n",
       "      <td>30</td>\n",
       "      <td>7</td>\n",
       "      <td>0</td>\n",
       "      <td>2</td>\n",
       "      <td>0</td>\n",
       "      <td>1</td>\n",
       "    </tr>\n",
       "    <tr>\n",
       "      <th>3</th>\n",
       "      <td>26</td>\n",
       "      <td>8</td>\n",
       "      <td>0</td>\n",
       "      <td>3</td>\n",
       "      <td>0</td>\n",
       "      <td>2</td>\n",
       "    </tr>\n",
       "    <tr>\n",
       "      <th>4</th>\n",
       "      <td>26</td>\n",
       "      <td>8</td>\n",
       "      <td>0</td>\n",
       "      <td>4</td>\n",
       "      <td>0</td>\n",
       "      <td>2</td>\n",
       "    </tr>\n",
       "  </tbody>\n",
       "</table>\n",
       "</div>"
      ],
      "text/plain": [
       "   TripType  VisitNumber  Weekday  product_info  refund  purchase\n",
       "0       999            5        0             0       1         0\n",
       "1        30            7        0             1       0         1\n",
       "2        30            7        0             2       0         1\n",
       "3        26            8        0             3       0         2\n",
       "4        26            8        0             4       0         2"
      ]
     },
     "execution_count": 63,
     "metadata": {},
     "output_type": "execute_result"
    }
   ],
   "source": [
    "train_df.head()"
   ]
  },
  {
   "cell_type": "code",
   "execution_count": 64,
   "metadata": {},
   "outputs": [
    {
     "data": {
      "text/html": [
       "<div>\n",
       "<style scoped>\n",
       "    .dataframe tbody tr th:only-of-type {\n",
       "        vertical-align: middle;\n",
       "    }\n",
       "\n",
       "    .dataframe tbody tr th {\n",
       "        vertical-align: top;\n",
       "    }\n",
       "\n",
       "    .dataframe thead th {\n",
       "        text-align: right;\n",
       "    }\n",
       "</style>\n",
       "<table border=\"1\" class=\"dataframe\">\n",
       "  <thead>\n",
       "    <tr style=\"text-align: right;\">\n",
       "      <th></th>\n",
       "      <th>VisitNumber</th>\n",
       "      <th>Weekday</th>\n",
       "      <th>product_info</th>\n",
       "      <th>refund</th>\n",
       "      <th>purchase</th>\n",
       "    </tr>\n",
       "  </thead>\n",
       "  <tbody>\n",
       "    <tr>\n",
       "      <th>0</th>\n",
       "      <td>1</td>\n",
       "      <td>0</td>\n",
       "      <td>34</td>\n",
       "      <td>0</td>\n",
       "      <td>1</td>\n",
       "    </tr>\n",
       "    <tr>\n",
       "      <th>1</th>\n",
       "      <td>1</td>\n",
       "      <td>0</td>\n",
       "      <td>4502</td>\n",
       "      <td>0</td>\n",
       "      <td>1</td>\n",
       "    </tr>\n",
       "    <tr>\n",
       "      <th>2</th>\n",
       "      <td>1</td>\n",
       "      <td>0</td>\n",
       "      <td>55</td>\n",
       "      <td>0</td>\n",
       "      <td>1</td>\n",
       "    </tr>\n",
       "    <tr>\n",
       "      <th>3</th>\n",
       "      <td>1</td>\n",
       "      <td>0</td>\n",
       "      <td>434</td>\n",
       "      <td>0</td>\n",
       "      <td>1</td>\n",
       "    </tr>\n",
       "    <tr>\n",
       "      <th>4</th>\n",
       "      <td>2</td>\n",
       "      <td>0</td>\n",
       "      <td>38</td>\n",
       "      <td>0</td>\n",
       "      <td>1</td>\n",
       "    </tr>\n",
       "  </tbody>\n",
       "</table>\n",
       "</div>"
      ],
      "text/plain": [
       "   VisitNumber  Weekday  product_info  refund  purchase\n",
       "0            1        0            34       0         1\n",
       "1            1        0          4502       0         1\n",
       "2            1        0            55       0         1\n",
       "3            1        0           434       0         1\n",
       "4            2        0            38       0         1"
      ]
     },
     "execution_count": 64,
     "metadata": {},
     "output_type": "execute_result"
    }
   ],
   "source": [
    "test_df.head()"
   ]
  },
  {
   "cell_type": "code",
   "execution_count": 65,
   "metadata": {},
   "outputs": [
    {
     "data": {
      "text/html": [
       "<div>\n",
       "<style scoped>\n",
       "    .dataframe tbody tr th:only-of-type {\n",
       "        vertical-align: middle;\n",
       "    }\n",
       "\n",
       "    .dataframe tbody tr th {\n",
       "        vertical-align: top;\n",
       "    }\n",
       "\n",
       "    .dataframe thead th {\n",
       "        text-align: right;\n",
       "    }\n",
       "</style>\n",
       "<table border=\"1\" class=\"dataframe\">\n",
       "  <thead>\n",
       "    <tr style=\"text-align: right;\">\n",
       "      <th></th>\n",
       "      <th>0</th>\n",
       "      <th>1</th>\n",
       "      <th>2</th>\n",
       "      <th>3</th>\n",
       "      <th>4</th>\n",
       "      <th>5</th>\n",
       "      <th>6</th>\n",
       "      <th>7</th>\n",
       "      <th>8</th>\n",
       "      <th>9</th>\n",
       "      <th>...</th>\n",
       "      <th>6821</th>\n",
       "      <th>6822</th>\n",
       "      <th>6823</th>\n",
       "      <th>6824</th>\n",
       "      <th>6825</th>\n",
       "      <th>6826</th>\n",
       "      <th>6827</th>\n",
       "      <th>6828</th>\n",
       "      <th>6829</th>\n",
       "      <th>6830</th>\n",
       "    </tr>\n",
       "  </thead>\n",
       "  <tbody>\n",
       "    <tr>\n",
       "      <th>0</th>\n",
       "      <td>1.0</td>\n",
       "      <td>0.0</td>\n",
       "      <td>0.0</td>\n",
       "      <td>0.0</td>\n",
       "      <td>0.0</td>\n",
       "      <td>0.0</td>\n",
       "      <td>0.0</td>\n",
       "      <td>0.0</td>\n",
       "      <td>0.0</td>\n",
       "      <td>0.0</td>\n",
       "      <td>...</td>\n",
       "      <td>0.0</td>\n",
       "      <td>0.0</td>\n",
       "      <td>0.0</td>\n",
       "      <td>0.0</td>\n",
       "      <td>0.0</td>\n",
       "      <td>999.0</td>\n",
       "      <td>5.0</td>\n",
       "      <td>0.0</td>\n",
       "      <td>1.0</td>\n",
       "      <td>0.0</td>\n",
       "    </tr>\n",
       "    <tr>\n",
       "      <th>1</th>\n",
       "      <td>0.0</td>\n",
       "      <td>1.0</td>\n",
       "      <td>0.0</td>\n",
       "      <td>0.0</td>\n",
       "      <td>0.0</td>\n",
       "      <td>0.0</td>\n",
       "      <td>0.0</td>\n",
       "      <td>0.0</td>\n",
       "      <td>0.0</td>\n",
       "      <td>0.0</td>\n",
       "      <td>...</td>\n",
       "      <td>0.0</td>\n",
       "      <td>0.0</td>\n",
       "      <td>0.0</td>\n",
       "      <td>0.0</td>\n",
       "      <td>0.0</td>\n",
       "      <td>30.0</td>\n",
       "      <td>7.0</td>\n",
       "      <td>0.0</td>\n",
       "      <td>0.0</td>\n",
       "      <td>1.0</td>\n",
       "    </tr>\n",
       "    <tr>\n",
       "      <th>2</th>\n",
       "      <td>0.0</td>\n",
       "      <td>0.0</td>\n",
       "      <td>1.0</td>\n",
       "      <td>0.0</td>\n",
       "      <td>0.0</td>\n",
       "      <td>0.0</td>\n",
       "      <td>0.0</td>\n",
       "      <td>0.0</td>\n",
       "      <td>0.0</td>\n",
       "      <td>0.0</td>\n",
       "      <td>...</td>\n",
       "      <td>0.0</td>\n",
       "      <td>0.0</td>\n",
       "      <td>0.0</td>\n",
       "      <td>0.0</td>\n",
       "      <td>0.0</td>\n",
       "      <td>30.0</td>\n",
       "      <td>7.0</td>\n",
       "      <td>0.0</td>\n",
       "      <td>0.0</td>\n",
       "      <td>1.0</td>\n",
       "    </tr>\n",
       "    <tr>\n",
       "      <th>3</th>\n",
       "      <td>0.0</td>\n",
       "      <td>0.0</td>\n",
       "      <td>0.0</td>\n",
       "      <td>1.0</td>\n",
       "      <td>0.0</td>\n",
       "      <td>0.0</td>\n",
       "      <td>0.0</td>\n",
       "      <td>0.0</td>\n",
       "      <td>0.0</td>\n",
       "      <td>0.0</td>\n",
       "      <td>...</td>\n",
       "      <td>0.0</td>\n",
       "      <td>0.0</td>\n",
       "      <td>0.0</td>\n",
       "      <td>0.0</td>\n",
       "      <td>0.0</td>\n",
       "      <td>26.0</td>\n",
       "      <td>8.0</td>\n",
       "      <td>0.0</td>\n",
       "      <td>0.0</td>\n",
       "      <td>2.0</td>\n",
       "    </tr>\n",
       "    <tr>\n",
       "      <th>4</th>\n",
       "      <td>0.0</td>\n",
       "      <td>0.0</td>\n",
       "      <td>0.0</td>\n",
       "      <td>0.0</td>\n",
       "      <td>1.0</td>\n",
       "      <td>0.0</td>\n",
       "      <td>0.0</td>\n",
       "      <td>0.0</td>\n",
       "      <td>0.0</td>\n",
       "      <td>0.0</td>\n",
       "      <td>...</td>\n",
       "      <td>0.0</td>\n",
       "      <td>0.0</td>\n",
       "      <td>0.0</td>\n",
       "      <td>0.0</td>\n",
       "      <td>0.0</td>\n",
       "      <td>26.0</td>\n",
       "      <td>8.0</td>\n",
       "      <td>0.0</td>\n",
       "      <td>0.0</td>\n",
       "      <td>2.0</td>\n",
       "    </tr>\n",
       "  </tbody>\n",
       "</table>\n",
       "<p>5 rows × 6831 columns</p>\n",
       "</div>"
      ],
      "text/plain": [
       "   0     1     2     3     4     5     6     7     8     9     ...   6821  \\\n",
       "0   1.0   0.0   0.0   0.0   0.0   0.0   0.0   0.0   0.0   0.0  ...    0.0   \n",
       "1   0.0   1.0   0.0   0.0   0.0   0.0   0.0   0.0   0.0   0.0  ...    0.0   \n",
       "2   0.0   0.0   1.0   0.0   0.0   0.0   0.0   0.0   0.0   0.0  ...    0.0   \n",
       "3   0.0   0.0   0.0   1.0   0.0   0.0   0.0   0.0   0.0   0.0  ...    0.0   \n",
       "4   0.0   0.0   0.0   0.0   1.0   0.0   0.0   0.0   0.0   0.0  ...    0.0   \n",
       "\n",
       "   6822  6823  6824  6825   6826  6827  6828  6829  6830  \n",
       "0   0.0   0.0   0.0   0.0  999.0   5.0   0.0   1.0   0.0  \n",
       "1   0.0   0.0   0.0   0.0   30.0   7.0   0.0   0.0   1.0  \n",
       "2   0.0   0.0   0.0   0.0   30.0   7.0   0.0   0.0   1.0  \n",
       "3   0.0   0.0   0.0   0.0   26.0   8.0   0.0   0.0   2.0  \n",
       "4   0.0   0.0   0.0   0.0   26.0   8.0   0.0   0.0   2.0  \n",
       "\n",
       "[5 rows x 6831 columns]"
      ]
     },
     "execution_count": 65,
     "metadata": {},
     "output_type": "execute_result"
    }
   ],
   "source": [
    "from sklearn.preprocessing import OneHotEncoder\n",
    "ohe = OneHotEncoder(categorical_features=[False, False, False, True, False, False])\n",
    "\n",
    "pre_X = ohe.fit_transform(train_df)\n",
    "\n",
    "train_df = pd.DataFrame(pre_X.toarray())\n",
    "train_df.head()\n"
   ]
  },
  {
   "cell_type": "code",
   "execution_count": null,
   "metadata": {},
   "outputs": [],
   "source": [
    "train_df = train_df.rename(columns = {6826:\"TripType\", 6827 : \"VisitNumber\", 6828 : \"Weekday\", 6829 : \"refund\", 6830 : \"purchase\"})\n",
    "train_df.head()"
   ]
  },
  {
   "cell_type": "code",
   "execution_count": 543,
   "metadata": {},
   "outputs": [
    {
     "data": {
      "text/html": [
       "<div>\n",
       "<style scoped>\n",
       "    .dataframe tbody tr th:only-of-type {\n",
       "        vertical-align: middle;\n",
       "    }\n",
       "\n",
       "    .dataframe tbody tr th {\n",
       "        vertical-align: top;\n",
       "    }\n",
       "\n",
       "    .dataframe thead th {\n",
       "        text-align: right;\n",
       "    }\n",
       "</style>\n",
       "<table border=\"1\" class=\"dataframe\">\n",
       "  <thead>\n",
       "    <tr style=\"text-align: right;\">\n",
       "      <th></th>\n",
       "      <th>0</th>\n",
       "      <th>1</th>\n",
       "      <th>2</th>\n",
       "      <th>3</th>\n",
       "      <th>4</th>\n",
       "      <th>5</th>\n",
       "      <th>6</th>\n",
       "      <th>7</th>\n",
       "      <th>8</th>\n",
       "      <th>9</th>\n",
       "      <th>...</th>\n",
       "      <th>6820</th>\n",
       "      <th>6821</th>\n",
       "      <th>6822</th>\n",
       "      <th>6823</th>\n",
       "      <th>6824</th>\n",
       "      <th>6825</th>\n",
       "      <th>6826</th>\n",
       "      <th>6827</th>\n",
       "      <th>6828</th>\n",
       "      <th>6829</th>\n",
       "    </tr>\n",
       "  </thead>\n",
       "  <tbody>\n",
       "    <tr>\n",
       "      <th>0</th>\n",
       "      <td>0.0</td>\n",
       "      <td>0.0</td>\n",
       "      <td>0.0</td>\n",
       "      <td>0.0</td>\n",
       "      <td>0.0</td>\n",
       "      <td>0.0</td>\n",
       "      <td>0.0</td>\n",
       "      <td>0.0</td>\n",
       "      <td>0.0</td>\n",
       "      <td>0.0</td>\n",
       "      <td>...</td>\n",
       "      <td>0.0</td>\n",
       "      <td>0.0</td>\n",
       "      <td>0.0</td>\n",
       "      <td>0.0</td>\n",
       "      <td>0.0</td>\n",
       "      <td>0.0</td>\n",
       "      <td>1.0</td>\n",
       "      <td>0.0</td>\n",
       "      <td>0.0</td>\n",
       "      <td>1.0</td>\n",
       "    </tr>\n",
       "    <tr>\n",
       "      <th>1</th>\n",
       "      <td>0.0</td>\n",
       "      <td>0.0</td>\n",
       "      <td>0.0</td>\n",
       "      <td>0.0</td>\n",
       "      <td>0.0</td>\n",
       "      <td>0.0</td>\n",
       "      <td>0.0</td>\n",
       "      <td>0.0</td>\n",
       "      <td>0.0</td>\n",
       "      <td>0.0</td>\n",
       "      <td>...</td>\n",
       "      <td>0.0</td>\n",
       "      <td>0.0</td>\n",
       "      <td>0.0</td>\n",
       "      <td>0.0</td>\n",
       "      <td>0.0</td>\n",
       "      <td>0.0</td>\n",
       "      <td>1.0</td>\n",
       "      <td>0.0</td>\n",
       "      <td>0.0</td>\n",
       "      <td>1.0</td>\n",
       "    </tr>\n",
       "    <tr>\n",
       "      <th>2</th>\n",
       "      <td>0.0</td>\n",
       "      <td>0.0</td>\n",
       "      <td>0.0</td>\n",
       "      <td>0.0</td>\n",
       "      <td>0.0</td>\n",
       "      <td>0.0</td>\n",
       "      <td>0.0</td>\n",
       "      <td>0.0</td>\n",
       "      <td>0.0</td>\n",
       "      <td>0.0</td>\n",
       "      <td>...</td>\n",
       "      <td>0.0</td>\n",
       "      <td>0.0</td>\n",
       "      <td>0.0</td>\n",
       "      <td>0.0</td>\n",
       "      <td>0.0</td>\n",
       "      <td>0.0</td>\n",
       "      <td>1.0</td>\n",
       "      <td>0.0</td>\n",
       "      <td>0.0</td>\n",
       "      <td>1.0</td>\n",
       "    </tr>\n",
       "    <tr>\n",
       "      <th>3</th>\n",
       "      <td>0.0</td>\n",
       "      <td>0.0</td>\n",
       "      <td>0.0</td>\n",
       "      <td>0.0</td>\n",
       "      <td>0.0</td>\n",
       "      <td>0.0</td>\n",
       "      <td>0.0</td>\n",
       "      <td>0.0</td>\n",
       "      <td>0.0</td>\n",
       "      <td>0.0</td>\n",
       "      <td>...</td>\n",
       "      <td>0.0</td>\n",
       "      <td>0.0</td>\n",
       "      <td>0.0</td>\n",
       "      <td>0.0</td>\n",
       "      <td>0.0</td>\n",
       "      <td>0.0</td>\n",
       "      <td>1.0</td>\n",
       "      <td>0.0</td>\n",
       "      <td>0.0</td>\n",
       "      <td>1.0</td>\n",
       "    </tr>\n",
       "    <tr>\n",
       "      <th>4</th>\n",
       "      <td>0.0</td>\n",
       "      <td>0.0</td>\n",
       "      <td>0.0</td>\n",
       "      <td>0.0</td>\n",
       "      <td>0.0</td>\n",
       "      <td>0.0</td>\n",
       "      <td>0.0</td>\n",
       "      <td>0.0</td>\n",
       "      <td>0.0</td>\n",
       "      <td>0.0</td>\n",
       "      <td>...</td>\n",
       "      <td>0.0</td>\n",
       "      <td>0.0</td>\n",
       "      <td>0.0</td>\n",
       "      <td>0.0</td>\n",
       "      <td>0.0</td>\n",
       "      <td>0.0</td>\n",
       "      <td>2.0</td>\n",
       "      <td>0.0</td>\n",
       "      <td>0.0</td>\n",
       "      <td>1.0</td>\n",
       "    </tr>\n",
       "  </tbody>\n",
       "</table>\n",
       "<p>5 rows × 6830 columns</p>\n",
       "</div>"
      ],
      "text/plain": [
       "   0     1     2     3     4     5     6     7     8     9     ...   6820  \\\n",
       "0   0.0   0.0   0.0   0.0   0.0   0.0   0.0   0.0   0.0   0.0  ...    0.0   \n",
       "1   0.0   0.0   0.0   0.0   0.0   0.0   0.0   0.0   0.0   0.0  ...    0.0   \n",
       "2   0.0   0.0   0.0   0.0   0.0   0.0   0.0   0.0   0.0   0.0  ...    0.0   \n",
       "3   0.0   0.0   0.0   0.0   0.0   0.0   0.0   0.0   0.0   0.0  ...    0.0   \n",
       "4   0.0   0.0   0.0   0.0   0.0   0.0   0.0   0.0   0.0   0.0  ...    0.0   \n",
       "\n",
       "   6821  6822  6823  6824  6825  6826  6827  6828  6829  \n",
       "0   0.0   0.0   0.0   0.0   0.0   1.0   0.0   0.0   1.0  \n",
       "1   0.0   0.0   0.0   0.0   0.0   1.0   0.0   0.0   1.0  \n",
       "2   0.0   0.0   0.0   0.0   0.0   1.0   0.0   0.0   1.0  \n",
       "3   0.0   0.0   0.0   0.0   0.0   1.0   0.0   0.0   1.0  \n",
       "4   0.0   0.0   0.0   0.0   0.0   2.0   0.0   0.0   1.0  \n",
       "\n",
       "[5 rows x 6830 columns]"
      ]
     },
     "execution_count": 543,
     "metadata": {},
     "output_type": "execute_result"
    }
   ],
   "source": [
    "from sklearn.preprocessing import OneHotEncoder\n",
    "ohe = OneHotEncoder(categorical_features=[False, False, True, False, False])\n",
    "\n",
    "pre_X = ohe.fit_transform(test_df)\n",
    "\n",
    "test_df = pd.DataFrame(pre_X.toarray())\n",
    "test_df.head()\n"
   ]
  },
  {
   "cell_type": "code",
   "execution_count": null,
   "metadata": {},
   "outputs": [],
   "source": [
    "test_df = test_df.rename(columns = {6826 : \"VisitNumber\", 6827 : \"Weekday\", 6828 : \"refund\", 6829 : \"purchase\"})\n",
    "test_df.head()"
   ]
  },
  {
   "cell_type": "code",
   "execution_count": null,
   "metadata": {},
   "outputs": [],
   "source": [
    "(95674, 95674)"
   ]
  },
  {
   "cell_type": "code",
   "execution_count": null,
   "metadata": {},
   "outputs": [],
   "source": [
    "train_df = train_df.rename(columns = {7367:\"TripType\", 7368 : \"VisitNumber\", 7369 : \"Weekday\", 7370 : \"refund\", 7371 : \"purchase\"})\n",
    "train_df.head()"
   ]
  },
  {
   "cell_type": "code",
   "execution_count": null,
   "metadata": {},
   "outputs": [],
   "source": [
    "del data['standard_upc']"
   ]
  },
  {
   "cell_type": "code",
   "execution_count": null,
   "metadata": {
    "scrolled": true
   },
   "outputs": [],
   "source": [
    "data[data['DepartmentDescription'].isnull()]"
   ]
  },
  {
   "cell_type": "code",
   "execution_count": null,
   "metadata": {},
   "outputs": [],
   "source": [
    "data[data['FinelineNumber'].isnull()]"
   ]
  },
  {
   "cell_type": "code",
   "execution_count": null,
   "metadata": {},
   "outputs": [],
   "source": []
  }
 ],
 "metadata": {
  "kernelspec": {
   "display_name": "Python 3",
   "language": "python",
   "name": "python3"
  },
  "language_info": {
   "codemirror_mode": {
    "name": "ipython",
    "version": 3
   },
   "file_extension": ".py",
   "mimetype": "text/x-python",
   "name": "python",
   "nbconvert_exporter": "python",
   "pygments_lexer": "ipython3",
   "version": "3.5.0"
  }
 },
 "nbformat": 4,
 "nbformat_minor": 2
}
