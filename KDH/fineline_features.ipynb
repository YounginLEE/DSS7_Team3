{
 "cells": [
  {
   "cell_type": "code",
   "execution_count": 18,
   "metadata": {},
   "outputs": [
    {
     "data": {
      "text/html": [
       "<div>\n",
       "<style scoped>\n",
       "    .dataframe tbody tr th:only-of-type {\n",
       "        vertical-align: middle;\n",
       "    }\n",
       "\n",
       "    .dataframe tbody tr th {\n",
       "        vertical-align: top;\n",
       "    }\n",
       "\n",
       "    .dataframe thead th {\n",
       "        text-align: right;\n",
       "    }\n",
       "</style>\n",
       "<table border=\"1\" class=\"dataframe\">\n",
       "  <thead>\n",
       "    <tr style=\"text-align: right;\">\n",
       "      <th></th>\n",
       "      <th>TripType</th>\n",
       "      <th>VisitNumber</th>\n",
       "      <th>Weekday</th>\n",
       "      <th>ScanCount</th>\n",
       "      <th>DepartmentDescription</th>\n",
       "      <th>FinelineNumber</th>\n",
       "      <th>company_code</th>\n",
       "      <th>product_code</th>\n",
       "      <th>Count</th>\n",
       "    </tr>\n",
       "  </thead>\n",
       "  <tbody>\n",
       "    <tr>\n",
       "      <th>0</th>\n",
       "      <td>999</td>\n",
       "      <td>5</td>\n",
       "      <td>Friday</td>\n",
       "      <td>-1</td>\n",
       "      <td>FINANCIAL SERVICES</td>\n",
       "      <td>1000</td>\n",
       "      <td>81131</td>\n",
       "      <td>52929</td>\n",
       "      <td>0</td>\n",
       "    </tr>\n",
       "    <tr>\n",
       "      <th>1</th>\n",
       "      <td>30</td>\n",
       "      <td>7</td>\n",
       "      <td>Friday</td>\n",
       "      <td>1</td>\n",
       "      <td>SHOES</td>\n",
       "      <td>8931</td>\n",
       "      <td>05388</td>\n",
       "      <td>15980</td>\n",
       "      <td>1</td>\n",
       "    </tr>\n",
       "    <tr>\n",
       "      <th>2</th>\n",
       "      <td>30</td>\n",
       "      <td>7</td>\n",
       "      <td>Friday</td>\n",
       "      <td>1</td>\n",
       "      <td>PERSONAL CARE</td>\n",
       "      <td>4504</td>\n",
       "      <td>74108</td>\n",
       "      <td>11099</td>\n",
       "      <td>1</td>\n",
       "    </tr>\n",
       "    <tr>\n",
       "      <th>3</th>\n",
       "      <td>26</td>\n",
       "      <td>8</td>\n",
       "      <td>Friday</td>\n",
       "      <td>2</td>\n",
       "      <td>PAINT AND ACCESSORIES</td>\n",
       "      <td>3565</td>\n",
       "      <td>22384</td>\n",
       "      <td>03510</td>\n",
       "      <td>2</td>\n",
       "    </tr>\n",
       "    <tr>\n",
       "      <th>4</th>\n",
       "      <td>26</td>\n",
       "      <td>8</td>\n",
       "      <td>Friday</td>\n",
       "      <td>2</td>\n",
       "      <td>PAINT AND ACCESSORIES</td>\n",
       "      <td>1017</td>\n",
       "      <td>20066</td>\n",
       "      <td>13744</td>\n",
       "      <td>2</td>\n",
       "    </tr>\n",
       "  </tbody>\n",
       "</table>\n",
       "</div>"
      ],
      "text/plain": [
       "   TripType  VisitNumber Weekday  ScanCount  DepartmentDescription  \\\n",
       "0       999            5  Friday         -1     FINANCIAL SERVICES   \n",
       "1        30            7  Friday          1                  SHOES   \n",
       "2        30            7  Friday          1          PERSONAL CARE   \n",
       "3        26            8  Friday          2  PAINT AND ACCESSORIES   \n",
       "4        26            8  Friday          2  PAINT AND ACCESSORIES   \n",
       "\n",
       "   FinelineNumber company_code product_code  Count  \n",
       "0            1000        81131        52929      0  \n",
       "1            8931        05388        15980      1  \n",
       "2            4504        74108        11099      1  \n",
       "3            3565        22384        03510      2  \n",
       "4            1017        20066        13744      2  "
      ]
     },
     "execution_count": 18,
     "metadata": {},
     "output_type": "execute_result"
    }
   ],
   "source": [
    "train = pd.read_csv('../data/train_v1.csv')\n",
    "train['FinelineNumber'] = train['FinelineNumber'].astype(int)\n",
    "train.head()"
   ]
  },
  {
   "cell_type": "code",
   "execution_count": 19,
   "metadata": {
    "scrolled": true
   },
   "outputs": [
    {
     "data": {
      "text/html": [
       "<div>\n",
       "<style scoped>\n",
       "    .dataframe tbody tr th:only-of-type {\n",
       "        vertical-align: middle;\n",
       "    }\n",
       "\n",
       "    .dataframe tbody tr th {\n",
       "        vertical-align: top;\n",
       "    }\n",
       "\n",
       "    .dataframe thead th {\n",
       "        text-align: right;\n",
       "    }\n",
       "</style>\n",
       "<table border=\"1\" class=\"dataframe\">\n",
       "  <thead>\n",
       "    <tr style=\"text-align: right;\">\n",
       "      <th></th>\n",
       "      <th>VisitNumber</th>\n",
       "      <th>Weekday</th>\n",
       "      <th>ScanCount</th>\n",
       "      <th>DepartmentDescription</th>\n",
       "      <th>FinelineNumber</th>\n",
       "      <th>company_code</th>\n",
       "      <th>product_code</th>\n",
       "    </tr>\n",
       "  </thead>\n",
       "  <tbody>\n",
       "    <tr>\n",
       "      <th>0</th>\n",
       "      <td>1</td>\n",
       "      <td>Friday</td>\n",
       "      <td>1</td>\n",
       "      <td>SHOES</td>\n",
       "      <td>3002</td>\n",
       "      <td>25033</td>\n",
       "      <td>89714</td>\n",
       "    </tr>\n",
       "    <tr>\n",
       "      <th>1</th>\n",
       "      <td>1</td>\n",
       "      <td>Friday</td>\n",
       "      <td>1</td>\n",
       "      <td>DAIRY</td>\n",
       "      <td>1526</td>\n",
       "      <td>17077</td>\n",
       "      <td>10732</td>\n",
       "    </tr>\n",
       "    <tr>\n",
       "      <th>2</th>\n",
       "      <td>1</td>\n",
       "      <td>Friday</td>\n",
       "      <td>1</td>\n",
       "      <td>DAIRY</td>\n",
       "      <td>1431</td>\n",
       "      <td>94700</td>\n",
       "      <td>01026</td>\n",
       "    </tr>\n",
       "    <tr>\n",
       "      <th>3</th>\n",
       "      <td>1</td>\n",
       "      <td>Friday</td>\n",
       "      <td>1</td>\n",
       "      <td>GROCERY DRY GOODS</td>\n",
       "      <td>3555</td>\n",
       "      <td>84912</td>\n",
       "      <td>11470</td>\n",
       "    </tr>\n",
       "    <tr>\n",
       "      <th>4</th>\n",
       "      <td>2</td>\n",
       "      <td>Friday</td>\n",
       "      <td>1</td>\n",
       "      <td>DSD GROCERY</td>\n",
       "      <td>4408</td>\n",
       "      <td>28400</td>\n",
       "      <td>15224</td>\n",
       "    </tr>\n",
       "  </tbody>\n",
       "</table>\n",
       "</div>"
      ],
      "text/plain": [
       "   VisitNumber Weekday  ScanCount DepartmentDescription  FinelineNumber  \\\n",
       "0            1  Friday          1                 SHOES            3002   \n",
       "1            1  Friday          1                 DAIRY            1526   \n",
       "2            1  Friday          1                 DAIRY            1431   \n",
       "3            1  Friday          1     GROCERY DRY GOODS            3555   \n",
       "4            2  Friday          1           DSD GROCERY            4408   \n",
       "\n",
       "  company_code product_code  \n",
       "0        25033        89714  \n",
       "1        17077        10732  \n",
       "2        94700        01026  \n",
       "3        84912        11470  \n",
       "4        28400        15224  "
      ]
     },
     "execution_count": 19,
     "metadata": {},
     "output_type": "execute_result"
    }
   ],
   "source": [
    "test = pd.read_csv('../data/test_v1.csv')\n",
    "test = test.fillna(value = 9999)\n",
    "test['FinelineNumber'] = test['FinelineNumber'].astype(int)\n",
    "test.head()\n"
   ]
  },
  {
   "cell_type": "code",
   "execution_count": 22,
   "metadata": {},
   "outputs": [],
   "source": [
    "df = train[['TripType','VisitNumber', 'FinelineNumber']]\n",
    "df_ = test[['VisitNumber', 'FinelineNumber']]"
   ]
  },
  {
   "cell_type": "code",
   "execution_count": 38,
   "metadata": {},
   "outputs": [],
   "source": [
    "type_list = list(df['TripType'].unique())\n",
    "type_list.sort()"
   ]
  },
  {
   "cell_type": "code",
   "execution_count": 27,
   "metadata": {},
   "outputs": [],
   "source": [
    "tmp_df = df[df['TripType'].isin([3])]\n",
    "tmp_fine_list = list(tmp_df['FinelineNumber'].unique())"
   ]
  },
  {
   "cell_type": "code",
   "execution_count": 80,
   "metadata": {},
   "outputs": [],
   "source": [
    "def get_fineline_set(df_f, type_list):\n",
    "\n",
    "    set_list = []\n",
    "    \n",
    "    for i in type_list:\n",
    "        td = df[df['TripType'].isin([i])]\n",
    "        td_fine = list(td['FinelineNumber'].unique())\n",
    "        set_list.append(td_fine)\n",
    "    \n",
    "    return set_list"
   ]
  },
  {
   "cell_type": "code",
   "execution_count": 114,
   "metadata": {},
   "outputs": [],
   "source": [
    "def get_type_fineline_unique(set_list,type_list):\n",
    "\n",
    "    unique_list = []\n",
    "    \n",
    "    for i in range(len(type_list)):\n",
    "        t_type = type_list[i]\n",
    "        tmp_unique = set_list[i]\n",
    "        for j in range(len(set_list)):\n",
    "\n",
    "            if type_list[j] != t_type:\n",
    "                tmp_unique = list(set(tmp_unique) - set(set_list[j]))\n",
    "                \n",
    "        unique_list.append(tmp_unique)\n",
    "    return unique_list"
   ]
  },
  {
   "cell_type": "code",
   "execution_count": 115,
   "metadata": {},
   "outputs": [],
   "source": [
    "unique_list = get_type_fineline_unique(set_list,type_list)"
   ]
  },
  {
   "cell_type": "code",
   "execution_count": 156,
   "metadata": {},
   "outputs": [],
   "source": [
    "def get_unique_fine_columns(df, unique_list):\n",
    "    \n",
    "    tmp_df  = df[['VisitNumber','Weekday']].drop_duplicates()\n",
    "    \n",
    "    for i in unique_list:\n",
    "        t_df = df[df['FinelineNumber'] == i]\n",
    "        t_df = t_df.groupby(['VisitNumber'], as_index = False)['ScanCount'].sum()\n",
    "        t_df.rename(columns={'ScanCount': 'fine_%s' %(i)}, inplace = True)\n",
    "        \n",
    "        tmp_df = tmp_df.merge(t_df, how = 'left', on = 'VisitNumber', copy = True)\n",
    "        tmp_df['fine_%s' %(i)].fillna(value = 0, inplace = True)\n",
    "    \n",
    "    tmp_df.drop(columns=['Weekday'], inplace = True)\n",
    "    \n",
    "    return tmp_df"
   ]
  },
  {
   "cell_type": "code",
   "execution_count": 158,
   "metadata": {
    "scrolled": true
   },
   "outputs": [],
   "source": [
    "train_f = get_unique_fine_columns(train, unique_fine)\n",
    "test_f = get_unique_fine_columns(test, unique_fine)"
   ]
  },
  {
   "cell_type": "code",
   "execution_count": 159,
   "metadata": {},
   "outputs": [],
   "source": [
    "df = train[['TripType','VisitNumber', 'company_code']]\n",
    "df_ = test[['VisitNumber', 'company_code']]"
   ]
  },
  {
   "cell_type": "markdown",
   "metadata": {},
   "source": [
    "# company_code"
   ]
  },
  {
   "cell_type": "code",
   "execution_count": 160,
   "metadata": {},
   "outputs": [],
   "source": [
    "def get_company_set(df, type_list):\n",
    "\n",
    "    set_list = []\n",
    "    \n",
    "    for i in type_list:\n",
    "        td = df[df['TripType'].isin([i])]\n",
    "        td_fine = list(td['company_code'].unique())\n",
    "        set_list.append(td_fine)\n",
    "    \n",
    "    return set_list"
   ]
  },
  {
   "cell_type": "code",
   "execution_count": 161,
   "metadata": {},
   "outputs": [],
   "source": [
    "company_set_list = get_company_set(df, type_list)"
   ]
  },
  {
   "cell_type": "code",
   "execution_count": 162,
   "metadata": {},
   "outputs": [],
   "source": [
    "def get_type_company_unique(set_list,type_list):\n",
    "\n",
    "    unique_list = []\n",
    "    \n",
    "    for i in range(len(type_list)):\n",
    "        t_type = type_list[i]\n",
    "        tmp_unique = set_list[i]\n",
    "        for j in range(len(set_list)):\n",
    "\n",
    "            if type_list[j] != t_type:\n",
    "                tmp_unique = list(set(tmp_unique) - set(set_list[j]))\n",
    "                \n",
    "        unique_list.append(tmp_unique)\n",
    "    return unique_list"
   ]
  },
  {
   "cell_type": "code",
   "execution_count": 164,
   "metadata": {},
   "outputs": [],
   "source": [
    "company_unique_list = get_type_fineline_unique(company_set_list, type_list)"
   ]
  },
  {
   "cell_type": "code",
   "execution_count": 166,
   "metadata": {},
   "outputs": [],
   "source": [
    "def get_unique_com_columns(df, unique_list):\n",
    "    \n",
    "    tmp_df  = df[['VisitNumber','Weekday']].drop_duplicates()\n",
    "    \n",
    "    for i in unique_list:\n",
    "        t_df = df[df['company_code'] == i]\n",
    "        t_df = t_df.groupby(['VisitNumber'], as_index = False)['ScanCount'].sum()\n",
    "        t_df.rename(columns={'ScanCount': 'comcode_%s' %(i)}, inplace = True)\n",
    "        \n",
    "        tmp_df = tmp_df.merge(t_df, how = 'left', on = 'VisitNumber', copy = True)\n",
    "        tmp_df['comcode_%s' %(i)].fillna(value = 0, inplace = True)\n",
    "    \n",
    "    tmp_df.drop(columns=['Weekday'], inplace = True)\n",
    "    \n",
    "    return tmp_df"
   ]
  },
  {
   "cell_type": "code",
   "execution_count": 170,
   "metadata": {},
   "outputs": [],
   "source": [
    "c_unique_list = []\n",
    "\n",
    "for i in company_unique_list:\n",
    "    for j in i:\n",
    "        c_unique_list.append(j)"
   ]
  },
  {
   "cell_type": "code",
   "execution_count": 172,
   "metadata": {},
   "outputs": [
    {
     "data": {
      "text/plain": [
       "810"
      ]
     },
     "execution_count": 172,
     "metadata": {},
     "output_type": "execute_result"
    }
   ],
   "source": [
    "len(c_unique_list)"
   ]
  },
  {
   "cell_type": "code",
   "execution_count": 174,
   "metadata": {},
   "outputs": [],
   "source": [
    "train_c = get_unique_com_columns(train, c_unique_list)\n",
    "test_c = get_unique_com_columns(test, c_unique_list)"
   ]
  },
  {
   "cell_type": "code",
   "execution_count": 175,
   "metadata": {},
   "outputs": [],
   "source": [
    "df = train[['TripType','VisitNumber', 'product_code']]\n",
    "df_ = test[['VisitNumber', 'product_code']]"
   ]
  },
  {
   "cell_type": "code",
   "execution_count": 176,
   "metadata": {},
   "outputs": [],
   "source": [
    "def get_product_set(df, type_list):\n",
    "\n",
    "    set_list = []\n",
    "    \n",
    "    for i in type_list:\n",
    "        td = df[df['TripType'].isin([i])]\n",
    "        td_fine = list(td['product_code'].unique())\n",
    "        set_list.append(td_fine)\n",
    "    \n",
    "    return set_list"
   ]
  },
  {
   "cell_type": "code",
   "execution_count": 177,
   "metadata": {},
   "outputs": [],
   "source": [
    "product_set_list = get_product_set(df, type_list)"
   ]
  },
  {
   "cell_type": "code",
   "execution_count": 178,
   "metadata": {},
   "outputs": [],
   "source": [
    "def get_type_product_unique(set_list,type_list):\n",
    "\n",
    "    unique_list = []\n",
    "    \n",
    "    for i in range(len(type_list)):\n",
    "        t_type = type_list[i]\n",
    "        tmp_unique = set_list[i]\n",
    "        for j in range(len(set_list)):\n",
    "\n",
    "            if type_list[j] != t_type:\n",
    "                tmp_unique = list(set(tmp_unique) - set(set_list[j]))\n",
    "                \n",
    "        unique_list.append(tmp_unique)\n",
    "    return unique_list"
   ]
  },
  {
   "cell_type": "code",
   "execution_count": 179,
   "metadata": {},
   "outputs": [],
   "source": [
    "product_unique_list = get_type_product_unique(product_set_list, type_list)"
   ]
  },
  {
   "cell_type": "code",
   "execution_count": 180,
   "metadata": {},
   "outputs": [],
   "source": [
    "p_unique_list = []\n",
    "\n",
    "for i in product_unique_list:\n",
    "    for j in i:\n",
    "        p_unique_list.append(j)"
   ]
  },
  {
   "cell_type": "code",
   "execution_count": 181,
   "metadata": {},
   "outputs": [
    {
     "data": {
      "text/plain": [
       "15689"
      ]
     },
     "execution_count": 181,
     "metadata": {},
     "output_type": "execute_result"
    }
   ],
   "source": [
    "len(p_unique_list)"
   ]
  },
  {
   "cell_type": "code",
   "execution_count": null,
   "metadata": {},
   "outputs": [],
   "source": [
    "def get_unique_product_columns(df, unique_list):\n",
    "    \n",
    "    tmp_df  = df[['VisitNumber','Weekday']].drop_duplicates()\n",
    "    \n",
    "    for i in unique_list:\n",
    "        t_df = df[df['product_code'] == i]\n",
    "        t_df = t_df.groupby(['VisitNumber'], as_index = False)['ScanCount'].sum()\n",
    "        t_df.rename(columns={'ScanCount': 'prod_%s' %(i)}, inplace = True)\n",
    "        \n",
    "        tmp_df = tmp_df.merge(t_df, how = 'left', on = 'VisitNumber', copy = True)\n",
    "        tmp_df['prod_%s' %(i)].fillna(value = 0, inplace = True)\n",
    "    \n",
    "    tmp_df.drop(columns=['Weekday'], inplace = True)\n",
    "    \n",
    "    return tmp_df"
   ]
  },
  {
   "cell_type": "code",
   "execution_count": null,
   "metadata": {},
   "outputs": [],
   "source": [
    "train_p = get_unique_fine_columns(train, p_unique_list)\n",
    "test_p = get_unique_fine_columns(test, p_unique_list)"
   ]
  },
  {
   "cell_type": "code",
   "execution_count": 182,
   "metadata": {},
   "outputs": [
    {
     "name": "stdout",
     "output_type": "stream",
     "text": [
      "(95674, 341) (95674, 811)\n",
      "(95674, 341) (95674, 811)\n"
     ]
    }
   ],
   "source": [
    "print(train_f.shape, train_c.shape)\n",
    "print(test_f.shape, test_c.shape)"
   ]
  },
  {
   "cell_type": "code",
   "execution_count": 186,
   "metadata": {},
   "outputs": [],
   "source": [
    "train_f.to_csv('../data/unique_fine.csv', index = False)\n",
    "test_f.to_csv('../data/t_unique_fine.csv', index = False)\n",
    "\n",
    "train_c.to_csv('../data/unique_com.csv', index = False)\n",
    "test_c.to_csv('../data/t_unique_com.csv', index = False)"
   ]
  },
  {
   "cell_type": "code",
   "execution_count": null,
   "metadata": {},
   "outputs": [],
   "source": []
  }
 ],
 "metadata": {
  "kernelspec": {
   "display_name": "Python 3",
   "language": "python",
   "name": "python3"
  },
  "language_info": {
   "codemirror_mode": {
    "name": "ipython",
    "version": 3
   },
   "file_extension": ".py",
   "mimetype": "text/x-python",
   "name": "python",
   "nbconvert_exporter": "python",
   "pygments_lexer": "ipython3",
   "version": "3.5.0"
  }
 },
 "nbformat": 4,
 "nbformat_minor": 2
}
