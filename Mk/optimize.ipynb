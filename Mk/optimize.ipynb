{
 "cells": [
  {
   "cell_type": "markdown",
   "metadata": {},
   "source": [
    "data setting"
   ]
  },
  {
   "cell_type": "code",
   "execution_count": 1,
   "metadata": {},
   "outputs": [],
   "source": [
    "%matplotlib inline\n",
    "from scipy import sparse\n",
    "from sklearn.model_selection import *\n",
    "from sklearn.model_selection import validation_curve\n",
    "# from sklearn.pipeline import Pipeline\n",
    "# from sklearn.ensemble import AdaBoostClassifier\n",
    "from sklearn.ensemble import ExtraTreesClassifier\n",
    "# from sklearn.tree import DecisionTreeClassifier\n",
    "# import xgboost"
   ]
  },
  {
   "cell_type": "code",
   "execution_count": 2,
   "metadata": {},
   "outputs": [],
   "source": [
    "X = pd.read_csv('edited_train.csv')"
   ]
  },
  {
   "cell_type": "code",
   "execution_count": 3,
   "metadata": {},
   "outputs": [],
   "source": [
    "x = pd.merge(pd.read_csv('Musthave_by_FinelineNumber.csv'), \n",
    "                 pd.read_csv('Musthave_by_company_code.csv'), on='VisitNumber')\n",
    "x = pd.merge(x, pd.read_csv('Musthave_by_product_code.csv'), on='VisitNumber')\n",
    "x = pd.merge(pd.read_csv('DD.csv'), x, on='VisitNumber')\n",
    "X = pd.merge(X, x, on='VisitNumber')"
   ]
  },
  {
   "cell_type": "markdown",
   "metadata": {},
   "source": [
    "---"
   ]
  },
  {
   "cell_type": "code",
   "execution_count": 3,
   "metadata": {},
   "outputs": [],
   "source": [
    "dd = pd.read_csv('DD.csv')\n",
    "x1 = pd.read_csv('Musthave_by_FinelineNumber.csv')\n",
    "# x2 = pd.read_csv('Musthave_by_DepartmentDescription.csv.csv')\n",
    "x3 = pd.read_csv('Musthave_by_company_code.csv')\n",
    "x4 = pd.read_csv('Musthave_by_product_code.csv')\n",
    "\n",
    "x = pd.merge(x1, x3, on='VisitNumber')\n",
    "x = pd.merge(x, x4, on='VisitNumber')\n",
    "x = pd.merge(dd, x, on='VisitNumber')\n",
    "X = pd.merge(X, x, on='VisitNumber')"
   ]
  },
  {
   "cell_type": "code",
   "execution_count": 5,
   "metadata": {},
   "outputs": [],
   "source": [
    "# X = pd.merge(X, x1, on='VisitNumber')\n",
    "# X = pd.merge(X, dd, on='VisitNumber')"
   ]
  },
  {
   "cell_type": "code",
   "execution_count": 4,
   "metadata": {},
   "outputs": [],
   "source": [
    "y = X['TripType']\n",
    "X = X.drop('TripType', axis=1)"
   ]
  },
  {
   "cell_type": "code",
   "execution_count": 5,
   "metadata": {},
   "outputs": [],
   "source": [
    "X = sparse.csr_matrix(X)"
   ]
  },
  {
   "cell_type": "code",
   "execution_count": 6,
   "metadata": {},
   "outputs": [],
   "source": [
    "gx = X[:50000]\n",
    "gy = y[:50000]"
   ]
  },
  {
   "cell_type": "markdown",
   "metadata": {},
   "source": [
    "---"
   ]
  },
  {
   "cell_type": "code",
   "execution_count": 6,
   "metadata": {},
   "outputs": [],
   "source": [
    "Eforest = ExtraTreesClassifier(max_depth=30, n_estimators=200, warm_start=True, n_jobs=-1)"
   ]
  },
  {
   "cell_type": "code",
   "execution_count": 8,
   "metadata": {},
   "outputs": [
    {
     "name": "stderr",
     "output_type": "stream",
     "text": [
      "/home/mk/anaconda3/lib/python3.6/site-packages/sklearn/model_selection/_split.py:605: Warning: The least populated class in y has only 4 members, which is too few. The minimum number of members in any class cannot be less than n_splits=5.\n",
      "  % (min_groups, self.n_splits)), Warning)\n"
     ]
    },
    {
     "name": "stdout",
     "output_type": "stream",
     "text": [
      "CPU times: user 1h 38min 24s, sys: 19.7 s, total: 1h 38min 44s\n",
      "Wall time: 27min 55s\n"
     ]
    },
    {
     "data": {
      "text/plain": [
       "0.7349786220247166"
      ]
     },
     "execution_count": 8,
     "metadata": {},
     "output_type": "execute_result"
    }
   ],
   "source": [
    "%time cross_val_score(Eforest, gx, gy, scoring=\"accuracy\", cv=5).mean()"
   ]
  },
  {
   "cell_type": "code",
   "execution_count": null,
   "metadata": {},
   "outputs": [],
   "source": [
    "%time Eforest.fit(X, y)"
   ]
  },
  {
   "cell_type": "code",
   "execution_count": null,
   "metadata": {},
   "outputs": [],
   "source": []
  },
  {
   "cell_type": "code",
   "execution_count": 9,
   "metadata": {},
   "outputs": [],
   "source": [
    "import pickle\n",
    "\n",
    "with open('model.pickle', 'wb') as f:\n",
    "    # Pickle the 'data' dictionary using the highest protocol available.\n",
    "    pickle.dump(Eforest, f, pickle.HIGHEST_PROTOCOL)"
   ]
  },
  {
   "cell_type": "code",
   "execution_count": 8,
   "metadata": {},
   "outputs": [],
   "source": [
    "with open('model.pickle', 'rb') as f:\n",
    "    model = pickle.load(f)"
   ]
  },
  {
   "cell_type": "code",
   "execution_count": 10,
   "metadata": {},
   "outputs": [],
   "source": [
    "test = pd.read_csv('edited_test.csv')\n",
    "t_visit=test['VisitNumber']\n",
    "\n",
    "T_dd = pd.read_csv('T_DD.csv')\n",
    "t1 = pd.read_csv('T_Musthave_by_FinelineNumber.csv')\n",
    "t3 = pd.read_csv('T_Musthave_by_company_code.csv')\n",
    "t4 = pd.read_csv('T_Musthave_by_product_code.csv')"
   ]
  },
  {
   "cell_type": "code",
   "execution_count": 11,
   "metadata": {},
   "outputs": [],
   "source": [
    "t = pd.merge(t1, t3, on='VisitNumber')\n",
    "t = pd.merge(t, t4, on='VisitNumber')\n",
    "t = pd.merge(T_dd, t, on='VisitNumber')\n",
    "test = pd.merge(test, t, on='VisitNumber')"
   ]
  },
  {
   "cell_type": "code",
   "execution_count": null,
   "metadata": {},
   "outputs": [],
   "source": [
    "ans = pd.DataFrame(data = forest.predict_proba(test),\n",
    "                   columns=list(map(lambda x: 'TripType_{}'.format(x), forest.classes_.astype(str))))\n",
    "ans = pd.concat([t_visit, ans], axis=1)\n",
    "\n",
    "ans.to_csv('ans.csv', index=False)"
   ]
  },
  {
   "cell_type": "markdown",
   "metadata": {},
   "source": [
    "\n",
    "---"
   ]
  },
  {
   "cell_type": "code",
   "execution_count": 7,
   "metadata": {},
   "outputs": [
    {
     "name": "stdout",
     "output_type": "stream",
     "text": [
      "CPU times: user 2min 22s, sys: 789 ms, total: 2min 23s\n",
      "Wall time: 43.2 s\n"
     ]
    },
    {
     "data": {
      "text/plain": [
       "ExtraTreesClassifier(bootstrap=False, class_weight=None, criterion='gini',\n",
       "           max_depth=30, max_features='auto', max_leaf_nodes=None,\n",
       "           min_impurity_decrease=0.0, min_impurity_split=None,\n",
       "           min_samples_leaf=1, min_samples_split=2,\n",
       "           min_weight_fraction_leaf=0.0, n_estimators=200, n_jobs=-1,\n",
       "           oob_score=False, random_state=None, verbose=0, warm_start=True)"
      ]
     },
     "execution_count": 7,
     "metadata": {},
     "output_type": "execute_result"
    }
   ],
   "source": [
    "Eforest = ExtraTreesClassifier(max_depth=30, n_estimators=200, warm_start=True, n_jobs=-1)\n",
    "%time Eforest.fit(gx, gy)"
   ]
  },
  {
   "cell_type": "markdown",
   "metadata": {},
   "source": [
    "everything"
   ]
  },
  {
   "cell_type": "code",
   "execution_count": 8,
   "metadata": {},
   "outputs": [
    {
     "name": "stderr",
     "output_type": "stream",
     "text": [
      "/home/mk/anaconda3/lib/python3.6/site-packages/sklearn/model_selection/_split.py:605: Warning: The least populated class in y has only 2 members, which is too few. The minimum number of members in any class cannot be less than n_splits=5.\n",
      "  % (min_groups, self.n_splits)), Warning)\n"
     ]
    },
    {
     "name": "stdout",
     "output_type": "stream",
     "text": [
      "CPU times: user 8min 6s, sys: 1.59 s, total: 8min 8s\n",
      "Wall time: 2min 8s\n"
     ]
    },
    {
     "data": {
      "text/plain": [
       "0.6689667059486677"
      ]
     },
     "execution_count": 8,
     "metadata": {},
     "output_type": "execute_result"
    }
   ],
   "source": [
    "%time cross_val_score(Eforest, gx, gy, scoring=\"accuracy\", cv=5).mean()"
   ]
  },
  {
   "cell_type": "markdown",
   "metadata": {},
   "source": [
    "only DD + Fineline"
   ]
  },
  {
   "cell_type": "code",
   "execution_count": 9,
   "metadata": {},
   "outputs": [
    {
     "name": "stderr",
     "output_type": "stream",
     "text": [
      "/home/mk/anaconda3/lib/python3.6/site-packages/sklearn/model_selection/_split.py:605: Warning: The least populated class in y has only 2 members, which is too few. The minimum number of members in any class cannot be less than n_splits=5.\n",
      "  % (min_groups, self.n_splits)), Warning)\n"
     ]
    },
    {
     "data": {
      "text/plain": [
       "0.6297782526810394"
      ]
     },
     "execution_count": 9,
     "metadata": {},
     "output_type": "execute_result"
    }
   ],
   "source": [
    "cross_val_score(Eforest, gx, gy, scoring=\"accuracy\", cv=5).mean()"
   ]
  },
  {
   "cell_type": "markdown",
   "metadata": {},
   "source": [
    "---"
   ]
  },
  {
   "cell_type": "markdown",
   "metadata": {},
   "source": [
    "ada"
   ]
  },
  {
   "cell_type": "code",
   "execution_count": 8,
   "metadata": {},
   "outputs": [],
   "source": [
    "#make model\n",
    "DT = DecisionTreeClassifier(max_depth=2, random_state=0)\n",
    "\n",
    "ada = AdaBoostClassifier(DT, \n",
    "                               algorithm=\"SAMME\", n_estimators=100, learning_rate=1.0)\n",
    "\n",
    "# range setting\n",
    "estimator_range = np.logspace(0,2.4, 5, dtype=int)\n",
    "learning_rate_range = np.logspace(-3, 0, 10)\n",
    "# DT_range = \n",
    "# base = Pipeline([('clf', DecisionTreeClassifier(random_state=0))])\n",
    "\n",
    "# grid setting\n",
    "param_grid ={\n",
    "    'n_estimators': estimator_range,\n",
    "     'learning_rate': learning_rate_range, \n",
    "}"
   ]
  },
  {
   "cell_type": "code",
   "execution_count": 9,
   "metadata": {},
   "outputs": [
    {
     "name": "stderr",
     "output_type": "stream",
     "text": [
      "/home/mk/anaconda3/lib/python3.6/site-packages/sklearn/model_selection/_split.py:605: Warning: The least populated class in y has only 4 members, which is too few. The minimum number of members in any class cannot be less than n_splits=10.\n",
      "  % (min_groups, self.n_splits)), Warning)\n"
     ]
    },
    {
     "name": "stdout",
     "output_type": "stream",
     "text": [
      "CPU times: user 5.11 s, sys: 584 ms, total: 5.69 s\n",
      "Wall time: 14min 36s\n"
     ]
    }
   ],
   "source": [
    "param_range=estimator_range\n",
    "%time train_scores, test_scores = \\\n",
    "    validation_curve(ada, X, y, \n",
    "                     param_name=\"n_estimators\", param_range=param_range,\n",
    "                     cv=10, scoring=\"accuracy\", n_jobs=-1)"
   ]
  },
  {
   "cell_type": "code",
   "execution_count": 10,
   "metadata": {},
   "outputs": [
    {
     "data": {
      "image/png": "[encoded data removed]",
      "text/plain": [
       "<matplotlib.figure.Figure at 0x7f3d482b3b38>"
      ]
     },
     "metadata": {},
     "output_type": "display_data"
    }
   ],
   "source": [
    "train_scores_mean = np.mean(train_scores, axis=1)\n",
    "train_scores_std = np.std(train_scores, axis=1)\n",
    "test_scores_mean = np.mean(test_scores, axis=1)\n",
    "test_scores_std = np.std(test_scores, axis=1)\n",
    "\n",
    "mpl.rcParams[\"font.family\"] = 'DejaVu Sans'\n",
    "plt.plot(param_range, train_scores_mean, label=\"Training score\", color=\"r\")\n",
    "plt.fill_between(param_range, train_scores_mean - train_scores_std,\n",
    "                 train_scores_mean + train_scores_std, alpha=0.2, color=\"r\")\n",
    "plt.plot(param_range, test_scores_mean, label=\"Cross-validation score\", color=\"g\")\n",
    "plt.fill_between(param_range, test_scores_mean - test_scores_std,\n",
    "                 test_scores_mean + test_scores_std, alpha=0.2, color=\"g\")\n",
    "plt.legend(loc=\"best\")\n",
    "plt.title(\"Validation Curve with Randomada\")\n",
    "plt.xlabel(\"n_estimator\")\n",
    "plt.ylabel(\"Score\")\n",
    "plt.ylim(0.0, 1.1)\n",
    "plt.show()"
   ]
  },
  {
   "cell_type": "markdown",
   "metadata": {},
   "source": [
    "learning_rate"
   ]
  },
  {
   "cell_type": "code",
   "execution_count": 8,
   "metadata": {},
   "outputs": [
    {
     "name": "stderr",
     "output_type": "stream",
     "text": [
      "/home/mk/anaconda3/lib/python3.6/site-packages/sklearn/model_selection/_split.py:605: Warning: The least populated class in y has only 4 members, which is too few. The minimum number of members in any class cannot be less than n_splits=10.\n",
      "  % (min_groups, self.n_splits)), Warning)\n"
     ]
    },
    {
     "name": "stdout",
     "output_type": "stream",
     "text": [
      "CPU times: user 6.23 s, sys: 990 ms, total: 7.21 s\n",
      "Wall time: 25min 54s\n"
     ]
    }
   ],
   "source": [
    "%%time\n",
    "param_range=learning_rate_range\n",
    "train_scores, test_scores = \\\n",
    "    validation_curve(ada, X, y, \n",
    "                     param_name=\"learning_rate\", param_range=param_range,\n",
    "                     cv=10, scoring=\"accuracy\", n_jobs=-1)"
   ]
  },
  {
   "cell_type": "code",
   "execution_count": 14,
   "metadata": {},
   "outputs": [
    {
     "data": {
      "image/png": "[encoded data removed]",
      "text/plain": [
       "<matplotlib.figure.Figure at 0x7fbc1a1717b8>"
      ]
     },
     "metadata": {},
     "output_type": "display_data"
    }
   ],
   "source": [
    "train_scores_mean = np.mean(train_scores, axis=1)\n",
    "train_scores_std = np.std(train_scores, axis=1)\n",
    "test_scores_mean = np.mean(test_scores, axis=1)\n",
    "test_scores_std = np.std(test_scores, axis=1)\n",
    "\n",
    "mpl.rcParams[\"font.family\"] = 'DejaVu Sans'\n",
    "plt.semilogx(param_range, train_scores_mean, label=\"Training score\", color=\"r\")\n",
    "plt.fill_between(param_range, train_scores_mean - train_scores_std,\n",
    "                 train_scores_mean + train_scores_std, alpha=0.2, color=\"r\")\n",
    "plt.semilogx(param_range, test_scores_mean, label=\"Cross-validation score\", color=\"g\")\n",
    "plt.fill_between(param_range, test_scores_mean - test_scores_std,\n",
    "                 test_scores_mean + test_scores_std, alpha=0.2, color=\"g\")\n",
    "plt.legend(loc=\"best\")\n",
    "plt.title(\"Validation Curve with Randomada\")\n",
    "plt.xlabel(\"learning_rate\")\n",
    "plt.ylabel(\"Score\")\n",
    "plt.ylim(0.1, 1.1)\n",
    "plt.show()"
   ]
  },
  {
   "cell_type": "markdown",
   "metadata": {},
   "source": [
    "gridsearch"
   ]
  },
  {
   "cell_type": "code",
   "execution_count": null,
   "metadata": {},
   "outputs": [],
   "source": [
    "# matke GS\n",
    "gs = GridSearchCV(estimator=ada, param_grid=param_grid, scoring='accuracy', cv=5, n_jobs=-1\n",
    "                 ,return_train_score=True)\n",
    "%time gs = gs.fit(X, y)"
   ]
  },
  {
   "cell_type": "code",
   "execution_count": null,
   "metadata": {},
   "outputs": [],
   "source": [
    "print(\"best_params\", gs.best_params_)\n",
    "print(\"best_score\", gs.best_score_)"
   ]
  },
  {
   "cell_type": "code",
   "execution_count": null,
   "metadata": {},
   "outputs": [],
   "source": [
    "train_scores_mean =gs.cv_results_['mean_train_score']\n",
    "train_scores_std = gs.cv_results_['std_train_score']\n",
    "test_scores_mean = gs.cv_results_['mean_test_score']\n",
    "test_scores_std = gs.cv_results_['std_test_score']\n",
    "\n",
    "param_range = range(len(train_scores_mean)) # 사이즈에 맞게 range 변경\n",
    "\n",
    "mpl.rcParams[\"font.family\"] = 'DejaVu Sans'\n",
    "plt.semilogx(param_range, train_scores_mean, label=\"Training score\", color=\"r\")\n",
    "plt.fill_between(param_range, train_scores_mean - train_scores_std,\n",
    "                 train_scores_mean + train_scores_std, alpha=0.2, color=\"r\")\n",
    "plt.semilogx(param_range, test_scores_mean, label=\"Cross-validation score\", color=\"g\")\n",
    "plt.fill_between(param_range, test_scores_mean - test_scores_std,\n",
    "                 test_scores_mean + test_scores_std, alpha=0.2, color=\"g\")\n",
    "plt.legend(loc=\"best\")\n",
    "plt.title(\"Validation Curve with RandomForest\")\n",
    "plt.xlabel(\"testing\")\n",
    "plt.ylabel(\"Score\")\n",
    "plt.ylim(0.9, 1.1)\n",
    "plt.show()"
   ]
  },
  {
   "cell_type": "markdown",
   "metadata": {},
   "source": [
    "---"
   ]
  },
  {
   "cell_type": "markdown",
   "metadata": {},
   "source": [
    "## XGboost\n",
    "- estimator_range\n",
    "- learning_rate\n",
    "- depth_range\n",
    "\n",
    "google - colab이용..."
   ]
  },
  {
   "cell_type": "code",
   "execution_count": 15,
   "metadata": {},
   "outputs": [],
   "source": [
    "#make model\n",
    "params = { \"n_estimators\": 10, 'max_depth':2, 'tree_method':['gpu_hist'], 'predictor':['gpu_predictor'] }\n",
    "xgb = xgboost.XGBClassifier(**params)\n",
    "\n",
    "# range setting\n",
    "estimator_range = np.logspace(0, 2.4, 5, dtype=int)\n",
    "depth_range = np.linspace(1,30,10, dtype=int)\n",
    "learning_rate_range = np.logspace(-3, -1, 5)\n",
    "# grid setting\n",
    "param_grid = {\n",
    "    'n_estimators': estimator_range,\n",
    "    'max_depth': depth_range,\n",
    "    'learning_rate': learning_rate_range,\n",
    "}"
   ]
  },
  {
   "cell_type": "code",
   "execution_count": null,
   "metadata": {},
   "outputs": [],
   "source": [
    "%%time\n",
    "param_range=depth_range\n",
    "train_scores, test_scores = \\\n",
    "    validation_curve(xgb, X, y, \n",
    "                     param_name=\"max_depth\", param_range=param_range,\n",
    "                     cv=5, scoring=\"accuracy\", n_jobs=-1)"
   ]
  },
  {
   "cell_type": "code",
   "execution_count": null,
   "metadata": {},
   "outputs": [],
   "source": [
    "train_scores_mean = np.mean(train_scores, axis=1)\n",
    "train_scores_std = np.std(train_scores, axis=1)\n",
    "test_scores_mean = np.mean(test_scores, axis=1)\n",
    "test_scores_std = np.std(test_scores, axis=1)\n",
    "\n",
    "mpl.rcParams[\"font.family\"] = 'DejaVu Sans'\n",
    "plt.plot(param_range, train_scores_mean, label=\"Training score\", color=\"r\")\n",
    "plt.fill_between(param_range, train_scores_mean - train_scores_std,\n",
    "                 train_scores_mean + train_scores_std, alpha=0.2, color=\"r\")\n",
    "plt.plot(param_range, test_scores_mean, label=\"Cross-validation score\", color=\"g\")\n",
    "plt.fill_between(param_range, test_scores_mean - test_scores_std,\n",
    "                 test_scores_mean + test_scores_std, alpha=0.2, color=\"g\")\n",
    "plt.legend(loc=\"best\")\n",
    "plt.title(\"Validation Curve with xgb\")\n",
    "plt.xlabel(\"depth\")\n",
    "plt.ylabel(\"Score\")\n",
    "plt.ylim(0.9, 1.05)\n",
    "plt.show()"
   ]
  },
  {
   "cell_type": "markdown",
   "metadata": {},
   "source": [
    "---"
   ]
  },
  {
   "cell_type": "markdown",
   "metadata": {},
   "source": [
    "### ExtraTrees"
   ]
  },
  {
   "cell_type": "code",
   "execution_count": 6,
   "metadata": {},
   "outputs": [
    {
     "data": {
      "text/plain": [
       "array([ 10,  26,  70, 188, 501])"
      ]
     },
     "execution_count": 6,
     "metadata": {},
     "output_type": "execute_result"
    }
   ],
   "source": [
    "np.logspace(1, 2.7, 5, dtype=int)"
   ]
  },
  {
   "cell_type": "code",
   "execution_count": 28,
   "metadata": {},
   "outputs": [
    {
     "data": {
      "text/plain": [
       "array([  1,   3,  10,  31, 100])"
      ]
     },
     "execution_count": 28,
     "metadata": {},
     "output_type": "execute_result"
    }
   ],
   "source": [
    "np.logspace(0, 2, 5, dtype=int)"
   ]
  },
  {
   "cell_type": "code",
   "execution_count": 9,
   "metadata": {},
   "outputs": [],
   "source": [
    "forest = ExtraTreesClassifier(max_depth=30, warm_start=True, n_jobs=-1)\n",
    "# range setting\n",
    "estimator_range = np.logspace(1, 2.7, 5, dtype=int)\n",
    "depth_range = np.logspace(0,2,5, dtype=int)\n",
    "# grid setting\n",
    "param_grid = {\n",
    "    'n_estimators': estimator_range,\n",
    "    'max_features': ['auto', 'log2'],\n",
    "    'max_depth': depth_range\n",
    "}\n"
   ]
  },
  {
   "cell_type": "code",
   "execution_count": 14,
   "metadata": {},
   "outputs": [
    {
     "name": "stderr",
     "output_type": "stream",
     "text": [
      "/home/mk/anaconda3/lib/python3.6/site-packages/sklearn/model_selection/_split.py:605: Warning: The least populated class in y has only 4 members, which is too few. The minimum number of members in any class cannot be less than n_splits=10.\n",
      "  % (min_groups, self.n_splits)), Warning)\n"
     ]
    },
    {
     "name": "stdout",
     "output_type": "stream",
     "text": [
      "CPU times: user 3.94 s, sys: 299 ms, total: 4.24 s\n",
      "Wall time: 7min 9s\n"
     ]
    }
   ],
   "source": [
    "param_range=depth_range\n",
    "%time train_scores, test_scores = \\\n",
    "    validation_curve(forest, X, y, \\\n",
    "                     param_name=\"max_depth\", param_range=param_range, \\\n",
    "                     cv=10, scoring=\"accuracy\", n_jobs=-1)"
   ]
  },
  {
   "cell_type": "code",
   "execution_count": 15,
   "metadata": {},
   "outputs": [
    {
     "data": {
      "image/png": "[encoded data removed]",
      "text/plain": [
       "<matplotlib.figure.Figure at 0x7f3d48023c50>"
      ]
     },
     "metadata": {},
     "output_type": "display_data"
    }
   ],
   "source": [
    "train_scores_mean = np.mean(train_scores, axis=1)\n",
    "train_scores_std = np.std(train_scores, axis=1)\n",
    "test_scores_mean = np.mean(test_scores, axis=1)\n",
    "test_scores_std = np.std(test_scores, axis=1)\n",
    "\n",
    "mpl.rcParams[\"font.family\"] = 'DejaVu Sans'\n",
    "plt.plot(param_range, train_scores_mean, label=\"Training score\", color=\"r\")\n",
    "plt.fill_between(param_range, train_scores_mean - train_scores_std,\n",
    "                 train_scores_mean + train_scores_std, alpha=0.2, color=\"r\")\n",
    "plt.plot(param_range, test_scores_mean, label=\"Cross-validation score\", color=\"g\")\n",
    "plt.fill_between(param_range, test_scores_mean - test_scores_std,\n",
    "                 test_scores_mean + test_scores_std, alpha=0.2, color=\"g\")\n",
    "plt.legend(loc=\"best\")\n",
    "plt.title(\"Validation Curve with RandomForest\")\n",
    "plt.xlabel(\"max_depth\")\n",
    "plt.ylabel(\"Score\")\n",
    "plt.ylim(0.0, 1.1)\n",
    "plt.show()"
   ]
  },
  {
   "cell_type": "markdown",
   "metadata": {},
   "source": [
    "30 정도가 적당한 듯"
   ]
  },
  {
   "cell_type": "code",
   "execution_count": 10,
   "metadata": {},
   "outputs": [
    {
     "name": "stderr",
     "output_type": "stream",
     "text": [
      "/home/mk/anaconda3/lib/python3.6/site-packages/sklearn/model_selection/_split.py:605: Warning: The least populated class in y has only 2 members, which is too few. The minimum number of members in any class cannot be less than n_splits=10.\n",
      "  % (min_groups, self.n_splits)), Warning)\n"
     ]
    },
    {
     "name": "stdout",
     "output_type": "stream",
     "text": [
      "CPU times: user 789 ms, sys: 170 ms, total: 959 ms\n",
      "Wall time: 5min 53s\n"
     ]
    }
   ],
   "source": [
    "%%time\n",
    "param_range=estimator_range\n",
    "train_scores, test_scores = \\\n",
    "    validation_curve(forest, gx, gy, \n",
    "                     param_name=\"n_estimators\", param_range=param_range,\n",
    "                     cv=10, scoring=\"accuracy\", n_jobs=-1)"
   ]
  },
  {
   "cell_type": "code",
   "execution_count": 11,
   "metadata": {},
   "outputs": [
    {
     "data": {
      "image/png": "[encoded data removed]",
      "text/plain": [
       "<matplotlib.figure.Figure at 0x7ffb70430898>"
      ]
     },
     "metadata": {},
     "output_type": "display_data"
    }
   ],
   "source": [
    "train_scores_mean = np.mean(train_scores, axis=1)\n",
    "train_scores_std = np.std(train_scores, axis=1)\n",
    "test_scores_mean = np.mean(test_scores, axis=1)\n",
    "test_scores_std = np.std(test_scores, axis=1)\n",
    "\n",
    "mpl.rcParams[\"font.family\"] = 'DejaVu Sans'\n",
    "plt.semilogx(param_range, train_scores_mean, label=\"Training score\", color=\"r\")\n",
    "plt.fill_between(param_range, train_scores_mean - train_scores_std,\n",
    "                 train_scores_mean + train_scores_std, alpha=0.2, color=\"r\")\n",
    "plt.semilogx(param_range, test_scores_mean, label=\"Cross-validation score\", color=\"g\")\n",
    "plt.fill_between(param_range, test_scores_mean - test_scores_std,\n",
    "                 test_scores_mean + test_scores_std, alpha=0.2, color=\"g\")\n",
    "plt.legend(loc=\"best\")\n",
    "plt.title(\"Validation Curve with RandomForest\")\n",
    "plt.xlabel(\"n_estimator\")\n",
    "plt.ylabel(\"Score\")\n",
    "plt.ylim(0.0, 1.1)\n",
    "plt.show()"
   ]
  },
  {
   "cell_type": "markdown",
   "metadata": {},
   "source": [
    "---"
   ]
  },
  {
   "cell_type": "code",
   "execution_count": 4,
   "metadata": {},
   "outputs": [],
   "source": [
    "forest = ExtraTreesClassifier()\n",
    "# range setting\n",
    "estimator_range = np.logspace(1, 3, 5, dtype=int)\n",
    "depth_range = np.logspace(0,2,5, dtype=int)\n",
    "# grid setting\n",
    "param_grid = {\n",
    "    'n_estimators': estimator_range,\n",
    "    'max_features': ['auto', 'log2'],\n",
    "    'max_depth': depth_range\n",
    "}\n"
   ]
  },
  {
   "cell_type": "code",
   "execution_count": 8,
   "metadata": {},
   "outputs": [
    {
     "name": "stderr",
     "output_type": "stream",
     "text": [
      "/home/mk/anaconda3/lib/python3.6/site-packages/sklearn/model_selection/_split.py:605: Warning: The least populated class in y has only 4 members, which is too few. The minimum number of members in any class cannot be less than n_splits=5.\n",
      "  % (min_groups, self.n_splits)), Warning)\n"
     ]
    },
    {
     "name": "stdout",
     "output_type": "stream",
     "text": [
      "CPU times: user 1min 27s, sys: 1.02 s, total: 1min 28s\n",
      "Wall time: 18min 24s\n"
     ]
    }
   ],
   "source": [
    "# matke GS\n",
    "gs = GridSearchCV(estimator=forest, param_grid=param_grid, scoring='accuracy', cv=5, n_jobs=-1\n",
    "                 ,return_train_score=True)\n",
    "%time gs = gs.fit(X, y)"
   ]
  },
  {
   "cell_type": "markdown",
   "metadata": {},
   "source": [
    "만개(visitnumber 기준) 돌리는데 18분..."
   ]
  },
  {
   "cell_type": "code",
   "execution_count": 9,
   "metadata": {},
   "outputs": [
    {
     "name": "stdout",
     "output_type": "stream",
     "text": [
      "best_params {'max_depth': 19, 'max_features': 'auto', 'n_estimators': 85}\n",
      "best_score 0.5281894767648473\n"
     ]
    }
   ],
   "source": [
    "print(\"best_params\", gs.best_params_)\n",
    "print(\"best_score\", gs.best_score_)"
   ]
  },
  {
   "cell_type": "code",
   "execution_count": 11,
   "metadata": {},
   "outputs": [
    {
     "data": {
      "image/png": "[encoded data removed]",
      "text/plain": [
       "<matplotlib.figure.Figure at 0x7feb8e3ba668>"
      ]
     },
     "metadata": {},
     "output_type": "display_data"
    }
   ],
   "source": [
    "train_scores_mean =gs.cv_results_['mean_train_score']\n",
    "train_scores_std = gs.cv_results_['std_train_score']\n",
    "test_scores_mean = gs.cv_results_['mean_test_score']\n",
    "test_scores_std = gs.cv_results_['std_test_score']\n",
    "\n",
    "param_range = range(len(train_scores_mean)) # 사이즈에 맞게 range 변경\n",
    "\n",
    "mpl.rcParams[\"font.family\"] = 'DejaVu Sans'\n",
    "plt.semilogx(param_range, train_scores_mean, label=\"Training score\", color=\"r\")\n",
    "plt.fill_between(param_range, train_scores_mean - train_scores_std,\n",
    "                 train_scores_mean + train_scores_std, alpha=0.2, color=\"r\")\n",
    "plt.semilogx(param_range, test_scores_mean, label=\"Cross-validation score\", color=\"g\")\n",
    "plt.fill_between(param_range, test_scores_mean - test_scores_std,\n",
    "                 test_scores_mean + test_scores_std, alpha=0.2, color=\"g\")\n",
    "plt.legend(loc=\"best\")\n",
    "plt.title(\"Validation Curve with RandomForest\")\n",
    "plt.xlabel(\"testing\")\n",
    "plt.ylabel(\"Score\")\n",
    "plt.ylim(0.0, 1.1)\n",
    "plt.show()"
   ]
  },
  {
   "cell_type": "markdown",
   "metadata": {},
   "source": [
    "---"
   ]
  }
 ],
 "metadata": {
  "kernelspec": {
   "display_name": "Python 3",
   "language": "python",
   "name": "python3"
  },
  "language_info": {
   "codemirror_mode": {
    "name": "ipython",
    "version": 3
   },
   "file_extension": ".py",
   "mimetype": "text/x-python",
   "name": "python",
   "nbconvert_exporter": "python",
   "pygments_lexer": "ipython3",
   "version": "3.6.4"
  }
 },
 "nbformat": 4,
 "nbformat_minor": 2
}
