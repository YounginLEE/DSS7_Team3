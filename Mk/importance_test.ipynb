{
 "cells": [
  {
   "cell_type": "code",
   "execution_count": 1,
   "metadata": {},
   "outputs": [],
   "source": [
    "%matplotlib inline\n",
    "from sklearn.metrics import *\n",
    "from sklearn.model_selection import *\n",
    "from sklearn.ensemble import *"
   ]
  },
  {
   "cell_type": "code",
   "execution_count": 2,
   "metadata": {},
   "outputs": [],
   "source": [
    "X = pd.read_csv('edited_train.csv')\n",
    "y = X['TripType']\n",
    "X = X.drop('TripType', axis=1)"
   ]
  },
  {
   "cell_type": "code",
   "execution_count": 3,
   "metadata": {},
   "outputs": [
    {
     "data": {
      "text/plain": [
       "RandomForestClassifier(bootstrap=True, class_weight=None, criterion='gini',\n",
       "            max_depth=5, max_features='auto', max_leaf_nodes=None,\n",
       "            min_impurity_decrease=0.0, min_impurity_split=None,\n",
       "            min_samples_leaf=1, min_samples_split=2,\n",
       "            min_weight_fraction_leaf=0.0, n_estimators=200, n_jobs=1,\n",
       "            oob_score=False, random_state=None, verbose=0,\n",
       "            warm_start=False)"
      ]
     },
     "execution_count": 3,
     "metadata": {},
     "output_type": "execute_result"
    }
   ],
   "source": [
    "forest = RandomForestClassifier(max_depth=5, n_estimators=200)\n",
    "forest.fit(X, y)"
   ]
  },
  {
   "cell_type": "code",
   "execution_count": 4,
   "metadata": {},
   "outputs": [],
   "source": [
    "importances = forest.feature_importances_\n",
    "\n",
    "std = np.std([tree.feature_importances_ for tree in forest.estimators_], axis=0)\n",
    "indices = np.argsort(importances)[::-1]"
   ]
  },
  {
   "cell_type": "code",
   "execution_count": 5,
   "metadata": {},
   "outputs": [
    {
     "name": "stderr",
     "output_type": "stream",
     "text": [
      "/home/mk/anaconda3/lib/python3.6/site-packages/sklearn/model_selection/_split.py:605: Warning: The least populated class in y has only 4 members, which is too few. The minimum number of members in any class cannot be less than n_splits=5.\n",
      "  % (min_groups, self.n_splits)), Warning)\n"
     ]
    },
    {
     "data": {
      "text/plain": [
       "0.4575068824866822"
      ]
     },
     "execution_count": 5,
     "metadata": {},
     "output_type": "execute_result"
    }
   ],
   "source": [
    "cross_val_score(forest, X, y, scoring=\"accuracy\", cv=5).mean()"
   ]
  },
  {
   "cell_type": "code",
   "execution_count": 6,
   "metadata": {},
   "outputs": [
    {
     "data": {
      "image/png": "[encoded data removed]",
      "text/plain": [
       "<matplotlib.figure.Figure at 0x7f902df74f60>"
      ]
     },
     "metadata": {},
     "output_type": "display_data"
    }
   ],
   "source": [
    "f=plt.figure(figsize=(15,5))\n",
    "plt.title(\"Feature importances\")\n",
    "plt.bar(range(X.shape[1]), importances[indices], color=\"r\", yerr=std[indices], align=\"center\")\n",
    "plt.xticks(range(X.shape[1]), indices)\n",
    "plt.xlim([-1, X.shape[1]])\n",
    "plt.tight_layout()\n",
    "plt.show()"
   ]
  },
  {
   "cell_type": "code",
   "execution_count": 7,
   "metadata": {
    "scrolled": true
   },
   "outputs": [
    {
     "name": "stdout",
     "output_type": "stream",
     "text": [
      "Feature ranking:\n",
      "1. feature 3 (0.269783)\n",
      "2. feature 2 (0.137972)\n",
      "3. feature 28 (0.075710)\n",
      "4. feature 21 (0.065709)\n",
      "5. feature 24 (0.061073)\n",
      "6. feature 20 (0.049550)\n",
      "7. feature 56 (0.045409)\n",
      "8. feature 60 (0.042849)\n",
      "9. feature 55 (0.029169)\n",
      "10. feature 63 (0.029101)\n",
      "11. feature 53 (0.028756)\n",
      "12. feature 25 (0.024007)\n",
      "13. feature 33 (0.021172)\n",
      "14. feature 17 (0.018390)\n",
      "15. feature 46 (0.014515)\n",
      "16. feature 44 (0.012863)\n",
      "17. feature 37 (0.012818)\n",
      "18. feature 34 (0.012206)\n",
      "19. feature 59 (0.007480)\n",
      "20. feature 9 (0.005944)\n",
      "21. feature 40 (0.005649)\n",
      "22. feature 15 (0.004421)\n",
      "23. feature 43 (0.004094)\n",
      "24. feature 70 (0.003179)\n",
      "25. feature 19 (0.001939)\n",
      "26. feature 7 (0.001821)\n",
      "27. feature 65 (0.001687)\n",
      "28. feature 54 (0.001502)\n",
      "29. feature 35 (0.001499)\n",
      "30. feature 6 (0.001290)\n",
      "31. feature 31 (0.001227)\n",
      "32. feature 16 (0.001089)\n",
      "33. feature 22 (0.001074)\n",
      "34. feature 36 (0.000859)\n",
      "35. feature 69 (0.000526)\n",
      "36. feature 42 (0.000496)\n",
      "37. feature 48 (0.000475)\n",
      "38. feature 61 (0.000402)\n",
      "39. feature 67 (0.000281)\n",
      "40. feature 30 (0.000227)\n",
      "41. feature 32 (0.000226)\n",
      "42. feature 12 (0.000204)\n",
      "43. feature 10 (0.000197)\n",
      "44. feature 49 (0.000169)\n",
      "45. feature 29 (0.000151)\n",
      "46. feature 27 (0.000122)\n",
      "47. feature 13 (0.000121)\n",
      "48. feature 23 (0.000110)\n",
      "49. feature 38 (0.000107)\n",
      "50. feature 0 (0.000100)\n",
      "51. feature 8 (0.000066)\n",
      "52. feature 66 (0.000045)\n",
      "53. feature 1 (0.000036)\n",
      "54. feature 45 (0.000026)\n",
      "55. feature 5 (0.000021)\n",
      "56. feature 11 (0.000019)\n",
      "57. feature 39 (0.000018)\n",
      "58. feature 26 (0.000013)\n",
      "59. feature 58 (0.000008)\n",
      "60. feature 52 (0.000008)\n",
      "61. feature 68 (0.000005)\n",
      "62. feature 4 (0.000004)\n",
      "63. feature 57 (0.000004)\n",
      "64. feature 64 (0.000003)\n",
      "65. feature 14 (0.000002)\n",
      "66. feature 47 (0.000002)\n",
      "67. feature 62 (0.000000)\n",
      "68. feature 18 (0.000000)\n",
      "69. feature 51 (0.000000)\n",
      "70. feature 50 (0.000000)\n",
      "71. feature 41 (0.000000)\n"
     ]
    }
   ],
   "source": [
    "print(\"Feature ranking:\")\n",
    "for f in range(X.shape[1]):\n",
    "    print(\"%d. feature %d (%f)\" % (f + 1, indices[f], importances[indices[f]]))"
   ]
  }
 ],
 "metadata": {
  "kernelspec": {
   "display_name": "Python 3",
   "language": "python",
   "name": "python3"
  },
  "language_info": {
   "codemirror_mode": {
    "name": "ipython",
    "version": 3
   },
   "file_extension": ".py",
   "mimetype": "text/x-python",
   "name": "python",
   "nbconvert_exporter": "python",
   "pygments_lexer": "ipython3",
   "version": "3.6.4"
  }
 },
 "nbformat": 4,
 "nbformat_minor": 2
}
